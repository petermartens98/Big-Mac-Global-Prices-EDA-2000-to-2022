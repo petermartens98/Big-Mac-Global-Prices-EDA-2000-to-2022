{
 "cells": [
  {
   "cell_type": "markdown",
   "id": "5d1374f2",
   "metadata": {},
   "source": [
    "### Big Mac Price EDA and Visualization - For each country from 2000 to 2022"
   ]
  },
  {
   "cell_type": "markdown",
   "id": "bfa8ba2c",
   "metadata": {},
   "source": [
    "Link to Data: https://www.kaggle.com/datasets/vittoriogiatti/bigmacprice"
   ]
  },
  {
   "cell_type": "markdown",
   "id": "2168ce6f",
   "metadata": {},
   "source": [
    "#### Necessary Imports"
   ]
  },
  {
   "cell_type": "code",
   "execution_count": 40,
   "id": "46329f53",
   "metadata": {},
   "outputs": [
    {
     "data": {
      "text/html": [
       "        <script type=\"text/javascript\">\n",
       "        window.PlotlyConfig = {MathJaxConfig: 'local'};\n",
       "        if (window.MathJax) {MathJax.Hub.Config({SVG: {font: \"STIX-Web\"}});}\n",
       "        if (typeof require !== 'undefined') {\n",
       "        require.undef(\"plotly\");\n",
       "        requirejs.config({\n",
       "            paths: {\n",
       "                'plotly': ['https://cdn.plot.ly/plotly-2.9.0.min']\n",
       "            }\n",
       "        });\n",
       "        require(['plotly'], function(Plotly) {\n",
       "            window._Plotly = Plotly;\n",
       "        });\n",
       "        }\n",
       "        </script>\n",
       "        "
      ]
     },
     "metadata": {},
     "output_type": "display_data"
    },
    {
     "data": {
      "text/html": [
       "        <script type=\"text/javascript\">\n",
       "        window.PlotlyConfig = {MathJaxConfig: 'local'};\n",
       "        if (window.MathJax) {MathJax.Hub.Config({SVG: {font: \"STIX-Web\"}});}\n",
       "        if (typeof require !== 'undefined') {\n",
       "        require.undef(\"plotly\");\n",
       "        requirejs.config({\n",
       "            paths: {\n",
       "                'plotly': ['https://cdn.plot.ly/plotly-2.9.0.min']\n",
       "            }\n",
       "        });\n",
       "        require(['plotly'], function(Plotly) {\n",
       "            window._Plotly = Plotly;\n",
       "        });\n",
       "        }\n",
       "        </script>\n",
       "        "
      ]
     },
     "metadata": {},
     "output_type": "display_data"
    }
   ],
   "source": [
    "%matplotlib inline\n",
    "import pandas as pd\n",
    "import numpy as np\n",
    "import matplotlib.pyplot as plt\n",
    "import chart_studio.plotly as py\n",
    "import cufflinks as cf\n",
    "import plotly.express as px\n",
    "\n",
    "# Allows us to create graph objects for making more customized plots\n",
    "import plotly.graph_objects as go\n",
    "\n",
    "# Make Plotly work in your Jupyter Notebook\n",
    "from plotly.offline import download_plotlyjs, init_notebook_mode, plot, iplot\n",
    "init_notebook_mode(connected=True)\n",
    "# Use Plotly locally\n",
    "cf.go_offline()"
   ]
  },
  {
   "cell_type": "markdown",
   "id": "d460f14c",
   "metadata": {},
   "source": [
    "#### Read in Data"
   ]
  },
  {
   "cell_type": "code",
   "execution_count": 41,
   "id": "8b479939",
   "metadata": {},
   "outputs": [],
   "source": [
    "df = pd.read_csv('BigmacPrice.csv')"
   ]
  },
  {
   "cell_type": "code",
   "execution_count": 42,
   "id": "6f2be751",
   "metadata": {},
   "outputs": [
    {
     "data": {
      "text/html": [
       "<div>\n",
       "<style scoped>\n",
       "    .dataframe tbody tr th:only-of-type {\n",
       "        vertical-align: middle;\n",
       "    }\n",
       "\n",
       "    .dataframe tbody tr th {\n",
       "        vertical-align: top;\n",
       "    }\n",
       "\n",
       "    .dataframe thead th {\n",
       "        text-align: right;\n",
       "    }\n",
       "</style>\n",
       "<table border=\"1\" class=\"dataframe\">\n",
       "  <thead>\n",
       "    <tr style=\"text-align: right;\">\n",
       "      <th></th>\n",
       "      <th>date</th>\n",
       "      <th>currency_code</th>\n",
       "      <th>name</th>\n",
       "      <th>local_price</th>\n",
       "      <th>dollar_ex</th>\n",
       "      <th>dollar_price</th>\n",
       "    </tr>\n",
       "  </thead>\n",
       "  <tbody>\n",
       "    <tr>\n",
       "      <th>0</th>\n",
       "      <td>2000-04-01</td>\n",
       "      <td>ARS</td>\n",
       "      <td>Argentina</td>\n",
       "      <td>2.50</td>\n",
       "      <td>1</td>\n",
       "      <td>2.50</td>\n",
       "    </tr>\n",
       "    <tr>\n",
       "      <th>1</th>\n",
       "      <td>2000-04-01</td>\n",
       "      <td>AUD</td>\n",
       "      <td>Australia</td>\n",
       "      <td>2.59</td>\n",
       "      <td>1</td>\n",
       "      <td>2.59</td>\n",
       "    </tr>\n",
       "    <tr>\n",
       "      <th>2</th>\n",
       "      <td>2000-04-01</td>\n",
       "      <td>BRL</td>\n",
       "      <td>Brazil</td>\n",
       "      <td>2.95</td>\n",
       "      <td>1</td>\n",
       "      <td>2.95</td>\n",
       "    </tr>\n",
       "    <tr>\n",
       "      <th>3</th>\n",
       "      <td>2000-04-01</td>\n",
       "      <td>GBP</td>\n",
       "      <td>Britain</td>\n",
       "      <td>1.90</td>\n",
       "      <td>1</td>\n",
       "      <td>1.90</td>\n",
       "    </tr>\n",
       "    <tr>\n",
       "      <th>4</th>\n",
       "      <td>2000-04-01</td>\n",
       "      <td>CAD</td>\n",
       "      <td>Canada</td>\n",
       "      <td>2.85</td>\n",
       "      <td>1</td>\n",
       "      <td>2.85</td>\n",
       "    </tr>\n",
       "    <tr>\n",
       "      <th>...</th>\n",
       "      <td>...</td>\n",
       "      <td>...</td>\n",
       "      <td>...</td>\n",
       "      <td>...</td>\n",
       "      <td>...</td>\n",
       "      <td>...</td>\n",
       "    </tr>\n",
       "    <tr>\n",
       "      <th>1941</th>\n",
       "      <td>2022-07-01</td>\n",
       "      <td>AED</td>\n",
       "      <td>United Arab Emirates</td>\n",
       "      <td>18.00</td>\n",
       "      <td>3</td>\n",
       "      <td>6.00</td>\n",
       "    </tr>\n",
       "    <tr>\n",
       "      <th>1942</th>\n",
       "      <td>2022-07-01</td>\n",
       "      <td>USD</td>\n",
       "      <td>United States</td>\n",
       "      <td>5.15</td>\n",
       "      <td>1</td>\n",
       "      <td>5.15</td>\n",
       "    </tr>\n",
       "    <tr>\n",
       "      <th>1943</th>\n",
       "      <td>2022-07-01</td>\n",
       "      <td>UYU</td>\n",
       "      <td>Uruguay</td>\n",
       "      <td>255.00</td>\n",
       "      <td>41</td>\n",
       "      <td>6.22</td>\n",
       "    </tr>\n",
       "    <tr>\n",
       "      <th>1944</th>\n",
       "      <td>2022-07-01</td>\n",
       "      <td>VES</td>\n",
       "      <td>Venezuela</td>\n",
       "      <td>10.00</td>\n",
       "      <td>5</td>\n",
       "      <td>2.00</td>\n",
       "    </tr>\n",
       "    <tr>\n",
       "      <th>1945</th>\n",
       "      <td>2022-07-01</td>\n",
       "      <td>VND</td>\n",
       "      <td>Vietnam</td>\n",
       "      <td>69000.00</td>\n",
       "      <td>23417</td>\n",
       "      <td>2.95</td>\n",
       "    </tr>\n",
       "  </tbody>\n",
       "</table>\n",
       "<p>1946 rows × 6 columns</p>\n",
       "</div>"
      ],
      "text/plain": [
       "            date currency_code                  name  local_price  dollar_ex  \\\n",
       "0     2000-04-01           ARS             Argentina         2.50          1   \n",
       "1     2000-04-01           AUD             Australia         2.59          1   \n",
       "2     2000-04-01           BRL                Brazil         2.95          1   \n",
       "3     2000-04-01           GBP               Britain         1.90          1   \n",
       "4     2000-04-01           CAD                Canada         2.85          1   \n",
       "...          ...           ...                   ...          ...        ...   \n",
       "1941  2022-07-01           AED  United Arab Emirates        18.00          3   \n",
       "1942  2022-07-01           USD         United States         5.15          1   \n",
       "1943  2022-07-01           UYU               Uruguay       255.00         41   \n",
       "1944  2022-07-01           VES             Venezuela        10.00          5   \n",
       "1945  2022-07-01           VND               Vietnam     69000.00      23417   \n",
       "\n",
       "      dollar_price  \n",
       "0             2.50  \n",
       "1             2.59  \n",
       "2             2.95  \n",
       "3             1.90  \n",
       "4             2.85  \n",
       "...            ...  \n",
       "1941          6.00  \n",
       "1942          5.15  \n",
       "1943          6.22  \n",
       "1944          2.00  \n",
       "1945          2.95  \n",
       "\n",
       "[1946 rows x 6 columns]"
      ]
     },
     "execution_count": 42,
     "metadata": {},
     "output_type": "execute_result"
    }
   ],
   "source": [
    "df"
   ]
  },
  {
   "cell_type": "markdown",
   "id": "bb911f11",
   "metadata": {},
   "source": [
    "#### Describe Data"
   ]
  },
  {
   "cell_type": "code",
   "execution_count": 43,
   "id": "f2c4ef24",
   "metadata": {},
   "outputs": [
    {
     "data": {
      "text/plain": [
       "(1946, 6)"
      ]
     },
     "execution_count": 43,
     "metadata": {},
     "output_type": "execute_result"
    }
   ],
   "source": [
    "df.shape"
   ]
  },
  {
   "cell_type": "code",
   "execution_count": 44,
   "id": "54917221",
   "metadata": {},
   "outputs": [
    {
     "data": {
      "text/html": [
       "<div>\n",
       "<style scoped>\n",
       "    .dataframe tbody tr th:only-of-type {\n",
       "        vertical-align: middle;\n",
       "    }\n",
       "\n",
       "    .dataframe tbody tr th {\n",
       "        vertical-align: top;\n",
       "    }\n",
       "\n",
       "    .dataframe thead th {\n",
       "        text-align: right;\n",
       "    }\n",
       "</style>\n",
       "<table border=\"1\" class=\"dataframe\">\n",
       "  <thead>\n",
       "    <tr style=\"text-align: right;\">\n",
       "      <th></th>\n",
       "      <th>local_price</th>\n",
       "      <th>dollar_ex</th>\n",
       "      <th>dollar_price</th>\n",
       "    </tr>\n",
       "  </thead>\n",
       "  <tbody>\n",
       "    <tr>\n",
       "      <th>count</th>\n",
       "      <td>1.946000e+03</td>\n",
       "      <td>1.946000e+03</td>\n",
       "      <td>1946.000000</td>\n",
       "    </tr>\n",
       "    <tr>\n",
       "      <th>mean</th>\n",
       "      <td>1.581609e+04</td>\n",
       "      <td>4.722255e+03</td>\n",
       "      <td>3.568011</td>\n",
       "    </tr>\n",
       "    <tr>\n",
       "      <th>std</th>\n",
       "      <td>3.940050e+05</td>\n",
       "      <td>1.006232e+05</td>\n",
       "      <td>1.417054</td>\n",
       "    </tr>\n",
       "    <tr>\n",
       "      <th>min</th>\n",
       "      <td>0.000000e+00</td>\n",
       "      <td>1.000000e+00</td>\n",
       "      <td>0.000000</td>\n",
       "    </tr>\n",
       "    <tr>\n",
       "      <th>25%</th>\n",
       "      <td>4.450000e+00</td>\n",
       "      <td>1.000000e+00</td>\n",
       "      <td>2.572500</td>\n",
       "    </tr>\n",
       "    <tr>\n",
       "      <th>50%</th>\n",
       "      <td>1.500000e+01</td>\n",
       "      <td>5.000000e+00</td>\n",
       "      <td>3.400000</td>\n",
       "    </tr>\n",
       "    <tr>\n",
       "      <th>75%</th>\n",
       "      <td>8.700000e+01</td>\n",
       "      <td>3.200000e+01</td>\n",
       "      <td>4.240000</td>\n",
       "    </tr>\n",
       "    <tr>\n",
       "      <th>max</th>\n",
       "      <td>1.602000e+07</td>\n",
       "      <td>3.613989e+06</td>\n",
       "      <td>11.250000</td>\n",
       "    </tr>\n",
       "  </tbody>\n",
       "</table>\n",
       "</div>"
      ],
      "text/plain": [
       "        local_price     dollar_ex  dollar_price\n",
       "count  1.946000e+03  1.946000e+03   1946.000000\n",
       "mean   1.581609e+04  4.722255e+03      3.568011\n",
       "std    3.940050e+05  1.006232e+05      1.417054\n",
       "min    0.000000e+00  1.000000e+00      0.000000\n",
       "25%    4.450000e+00  1.000000e+00      2.572500\n",
       "50%    1.500000e+01  5.000000e+00      3.400000\n",
       "75%    8.700000e+01  3.200000e+01      4.240000\n",
       "max    1.602000e+07  3.613989e+06     11.250000"
      ]
     },
     "execution_count": 44,
     "metadata": {},
     "output_type": "execute_result"
    }
   ],
   "source": [
    "df.describe()"
   ]
  },
  {
   "cell_type": "code",
   "execution_count": 45,
   "id": "81957c56",
   "metadata": {},
   "outputs": [
    {
     "name": "stdout",
     "output_type": "stream",
     "text": [
      "<class 'pandas.core.frame.DataFrame'>\n",
      "RangeIndex: 1946 entries, 0 to 1945\n",
      "Data columns (total 6 columns):\n",
      " #   Column         Non-Null Count  Dtype  \n",
      "---  ------         --------------  -----  \n",
      " 0   date           1946 non-null   object \n",
      " 1   currency_code  1946 non-null   object \n",
      " 2   name           1946 non-null   object \n",
      " 3   local_price    1946 non-null   float64\n",
      " 4   dollar_ex      1946 non-null   int64  \n",
      " 5   dollar_price   1946 non-null   float64\n",
      "dtypes: float64(2), int64(1), object(3)\n",
      "memory usage: 91.3+ KB\n"
     ]
    }
   ],
   "source": [
    "df.info()"
   ]
  },
  {
   "cell_type": "code",
   "execution_count": 46,
   "id": "11d8e43c",
   "metadata": {},
   "outputs": [
    {
     "data": {
      "text/plain": [
       "Index(['date', 'currency_code', 'name', 'local_price', 'dollar_ex',\n",
       "       'dollar_price'],\n",
       "      dtype='object')"
      ]
     },
     "execution_count": 46,
     "metadata": {},
     "output_type": "execute_result"
    }
   ],
   "source": [
    "df.columns"
   ]
  },
  {
   "cell_type": "code",
   "execution_count": 47,
   "id": "020b6b6d",
   "metadata": {},
   "outputs": [
    {
     "data": {
      "text/plain": [
       "date              object\n",
       "currency_code     object\n",
       "name              object\n",
       "local_price      float64\n",
       "dollar_ex          int64\n",
       "dollar_price     float64\n",
       "dtype: object"
      ]
     },
     "execution_count": 47,
     "metadata": {},
     "output_type": "execute_result"
    }
   ],
   "source": [
    "df.dtypes"
   ]
  },
  {
   "cell_type": "markdown",
   "id": "6b0356ba",
   "metadata": {},
   "source": [
    "#### Convert date from object to pandas datetime"
   ]
  },
  {
   "cell_type": "code",
   "execution_count": 48,
   "id": "ac1bb881",
   "metadata": {},
   "outputs": [],
   "source": [
    "df['date'] = df['date'].apply(pd.to_datetime)"
   ]
  },
  {
   "cell_type": "code",
   "execution_count": 49,
   "id": "adb8c330",
   "metadata": {},
   "outputs": [
    {
     "data": {
      "text/plain": [
       "date             datetime64[ns]\n",
       "currency_code            object\n",
       "name                     object\n",
       "local_price             float64\n",
       "dollar_ex                 int64\n",
       "dollar_price            float64\n",
       "dtype: object"
      ]
     },
     "execution_count": 49,
     "metadata": {},
     "output_type": "execute_result"
    }
   ],
   "source": [
    "df.dtypes"
   ]
  },
  {
   "cell_type": "code",
   "execution_count": 50,
   "id": "281c067f",
   "metadata": {},
   "outputs": [
    {
     "data": {
      "text/html": [
       "<div>\n",
       "<style scoped>\n",
       "    .dataframe tbody tr th:only-of-type {\n",
       "        vertical-align: middle;\n",
       "    }\n",
       "\n",
       "    .dataframe tbody tr th {\n",
       "        vertical-align: top;\n",
       "    }\n",
       "\n",
       "    .dataframe thead th {\n",
       "        text-align: right;\n",
       "    }\n",
       "</style>\n",
       "<table border=\"1\" class=\"dataframe\">\n",
       "  <thead>\n",
       "    <tr style=\"text-align: right;\">\n",
       "      <th></th>\n",
       "      <th>date</th>\n",
       "      <th>currency_code</th>\n",
       "      <th>name</th>\n",
       "      <th>local_price</th>\n",
       "      <th>dollar_ex</th>\n",
       "      <th>dollar_price</th>\n",
       "    </tr>\n",
       "  </thead>\n",
       "  <tbody>\n",
       "    <tr>\n",
       "      <th>0</th>\n",
       "      <td>2000-04-01</td>\n",
       "      <td>ARS</td>\n",
       "      <td>Argentina</td>\n",
       "      <td>2.50</td>\n",
       "      <td>1</td>\n",
       "      <td>2.50</td>\n",
       "    </tr>\n",
       "    <tr>\n",
       "      <th>1</th>\n",
       "      <td>2000-04-01</td>\n",
       "      <td>AUD</td>\n",
       "      <td>Australia</td>\n",
       "      <td>2.59</td>\n",
       "      <td>1</td>\n",
       "      <td>2.59</td>\n",
       "    </tr>\n",
       "    <tr>\n",
       "      <th>2</th>\n",
       "      <td>2000-04-01</td>\n",
       "      <td>BRL</td>\n",
       "      <td>Brazil</td>\n",
       "      <td>2.95</td>\n",
       "      <td>1</td>\n",
       "      <td>2.95</td>\n",
       "    </tr>\n",
       "    <tr>\n",
       "      <th>3</th>\n",
       "      <td>2000-04-01</td>\n",
       "      <td>GBP</td>\n",
       "      <td>Britain</td>\n",
       "      <td>1.90</td>\n",
       "      <td>1</td>\n",
       "      <td>1.90</td>\n",
       "    </tr>\n",
       "    <tr>\n",
       "      <th>4</th>\n",
       "      <td>2000-04-01</td>\n",
       "      <td>CAD</td>\n",
       "      <td>Canada</td>\n",
       "      <td>2.85</td>\n",
       "      <td>1</td>\n",
       "      <td>2.85</td>\n",
       "    </tr>\n",
       "  </tbody>\n",
       "</table>\n",
       "</div>"
      ],
      "text/plain": [
       "        date currency_code       name  local_price  dollar_ex  dollar_price\n",
       "0 2000-04-01           ARS  Argentina         2.50          1          2.50\n",
       "1 2000-04-01           AUD  Australia         2.59          1          2.59\n",
       "2 2000-04-01           BRL     Brazil         2.95          1          2.95\n",
       "3 2000-04-01           GBP    Britain         1.90          1          1.90\n",
       "4 2000-04-01           CAD     Canada         2.85          1          2.85"
      ]
     },
     "execution_count": 50,
     "metadata": {},
     "output_type": "execute_result"
    }
   ],
   "source": [
    "df.head()"
   ]
  },
  {
   "cell_type": "markdown",
   "id": "4ef7f37f",
   "metadata": {},
   "source": [
    "#### Is our data clean?"
   ]
  },
  {
   "cell_type": "code",
   "execution_count": 51,
   "id": "93e00a88",
   "metadata": {},
   "outputs": [
    {
     "data": {
      "text/plain": [
       "date             0\n",
       "currency_code    0\n",
       "name             0\n",
       "local_price      0\n",
       "dollar_ex        0\n",
       "dollar_price     0\n",
       "dtype: int64"
      ]
     },
     "execution_count": 51,
     "metadata": {},
     "output_type": "execute_result"
    }
   ],
   "source": [
    "df.isna().sum()"
   ]
  },
  {
   "cell_type": "code",
   "execution_count": 52,
   "id": "c4bfa1b6",
   "metadata": {},
   "outputs": [
    {
     "data": {
      "text/plain": [
       "0"
      ]
     },
     "execution_count": 52,
     "metadata": {},
     "output_type": "execute_result"
    }
   ],
   "source": [
    "df.duplicated().sum()"
   ]
  },
  {
   "cell_type": "markdown",
   "id": "e37ca80f",
   "metadata": {},
   "source": [
    "#### Print unique values"
   ]
  },
  {
   "cell_type": "code",
   "execution_count": 53,
   "id": "064f2296",
   "metadata": {},
   "outputs": [
    {
     "name": "stdout",
     "output_type": "stream",
     "text": [
      "['2000-04-01T00:00:00.000000000' '2001-04-01T00:00:00.000000000'\n",
      " '2002-04-01T00:00:00.000000000' '2003-04-01T00:00:00.000000000'\n",
      " '2004-05-01T00:00:00.000000000' '2005-06-01T00:00:00.000000000'\n",
      " '2006-01-01T00:00:00.000000000' '2006-05-01T00:00:00.000000000'\n",
      " '2007-01-01T00:00:00.000000000' '2007-06-01T00:00:00.000000000'\n",
      " '2008-06-01T00:00:00.000000000' '2009-07-01T00:00:00.000000000'\n",
      " '2010-01-01T00:00:00.000000000' '2010-07-01T00:00:00.000000000'\n",
      " '2011-07-01T00:00:00.000000000' '2012-01-01T00:00:00.000000000'\n",
      " '2012-07-01T00:00:00.000000000' '2013-01-01T00:00:00.000000000'\n",
      " '2013-07-01T00:00:00.000000000' '2014-01-01T00:00:00.000000000'\n",
      " '2014-07-01T00:00:00.000000000' '2015-01-01T00:00:00.000000000'\n",
      " '2015-07-01T00:00:00.000000000' '2016-01-01T00:00:00.000000000'\n",
      " '2016-07-01T00:00:00.000000000' '2017-01-01T00:00:00.000000000'\n",
      " '2017-07-01T00:00:00.000000000' '2018-01-01T00:00:00.000000000'\n",
      " '2018-07-01T00:00:00.000000000' '2019-01-01T00:00:00.000000000'\n",
      " '2019-07-09T00:00:00.000000000' '2020-01-14T00:00:00.000000000'\n",
      " '2020-07-01T00:00:00.000000000' '2021-01-01T00:00:00.000000000'\n",
      " '2021-07-01T00:00:00.000000000' '2022-01-01T00:00:00.000000000'\n",
      " '2022-07-01T00:00:00.000000000']\n",
      "\n",
      "['ARS' 'AUD' 'BRL' 'GBP' 'CAD' 'CLP' 'CNY' 'CZK' 'DKK' 'EUR' 'HKD' 'HUF'\n",
      " 'IDR' 'ILS' 'JPY' 'MYR' 'MXN' 'NZD' 'PLN' 'RUB' 'SGD' 'ZAR' 'KRW' 'SEK'\n",
      " 'CHF' 'TWD' 'THB' 'USD' 'PHP' 'NOK' 'PEN' 'TRY' 'VEF' 'EGP' 'COP' 'CRC'\n",
      " 'PKR' 'SAR' 'LKR' 'UAH' 'UYU' 'AED' 'INR' 'VND' 'AZN' 'BHD' 'HRK' 'GTQ'\n",
      " 'HNL' 'JOD' 'KWD' 'LBP' 'MDL' 'NIO' 'OMR' 'QAR' 'RON' 'VES']\n",
      "\n",
      "['Argentina' 'Australia' 'Brazil' 'Britain' 'Canada' 'Chile' 'China'\n",
      " 'Czech Republic' 'Denmark' 'Euro area' 'Hong Kong' 'Hungary' 'Indonesia'\n",
      " 'Israel' 'Japan' 'Malaysia' 'Mexico' 'New Zealand' 'Poland' 'Russia'\n",
      " 'Singapore' 'South Africa' 'South Korea' 'Sweden' 'Switzerland' 'Taiwan'\n",
      " 'Thailand' 'United States' 'Philippines' 'Norway' 'Peru' 'Turkey'\n",
      " 'Venezuela' 'Egypt' 'Colombia' 'Costa Rica' 'Pakistan' 'Saudi Arabia'\n",
      " 'Sri Lanka' 'Ukraine' 'Uruguay' 'UAE' 'Austria' 'Belgium' 'Estonia'\n",
      " 'Finland' 'France' 'Germany' 'Greece' 'India' 'Ireland' 'Italy'\n",
      " 'Netherlands' 'Portugal' 'Spain' 'Lithuania' 'Vietnam' 'Azerbaijan'\n",
      " 'Bahrain' 'Croatia' 'Guatemala' 'Honduras' 'Jordan' 'Kuwait' 'Latvia'\n",
      " 'Lebanon' 'Moldova' 'Nicaragua' 'Oman' 'Qatar' 'Romania' 'Slovakia'\n",
      " 'Slovenia' 'United Arab Emirates']\n"
     ]
    }
   ],
   "source": [
    "print(df.date.unique())\n",
    "print()\n",
    "\n",
    "print(df.currency_code.unique())\n",
    "print()\n",
    "\n",
    "print(df.name.unique())"
   ]
  },
  {
   "cell_type": "markdown",
   "id": "952d172f",
   "metadata": {},
   "source": [
    "#### Mean dollar price by country dataframe"
   ]
  },
  {
   "cell_type": "code",
   "execution_count": 54,
   "id": "a259c2d0",
   "metadata": {},
   "outputs": [
    {
     "name": "stdout",
     "output_type": "stream",
     "text": [
      "             dollar_price\n",
      "name                     \n",
      "Oman             1.154444\n",
      "Kuwait           1.155556\n",
      "Bahrain          1.411111\n",
      "Ukraine          1.978387\n",
      "Russia           2.006111\n",
      "...                   ...\n",
      "Israel           5.296786\n",
      "Brazil           5.325946\n",
      "Sweden           5.648108\n",
      "Switzerland      6.425946\n",
      "Norway           6.783939\n",
      "\n",
      "[74 rows x 1 columns]\n"
     ]
    }
   ],
   "source": [
    "df_price_mean = df.groupby(['name'])[['dollar_price']].mean().sort_values(by=['dollar_price'])\n",
    "print(df_price_mean) "
   ]
  },
  {
   "cell_type": "markdown",
   "id": "83fda9b6",
   "metadata": {},
   "source": [
    "#### Mean dollar price for world by date"
   ]
  },
  {
   "cell_type": "code",
   "execution_count": 55,
   "id": "81c6693c",
   "metadata": {},
   "outputs": [
    {
     "name": "stdout",
     "output_type": "stream",
     "text": [
      "            dollar_price\n",
      "date                    \n",
      "2000-04-01      2.323929\n",
      "2001-04-01      2.157143\n",
      "2002-04-01      2.301212\n",
      "2003-04-01      2.425312\n",
      "2004-05-01      2.444000\n",
      "2005-06-01      2.715122\n",
      "2006-01-01      2.749687\n",
      "2006-05-01      2.823171\n",
      "2007-01-01      2.943659\n",
      "2007-06-01      3.200732\n",
      "2008-06-01      3.649000\n",
      "2009-07-01      3.463171\n",
      "2010-01-01      3.648293\n",
      "2010-07-01      3.755854\n",
      "2011-07-01      4.011818\n",
      "2012-01-01      3.890909\n",
      "2012-07-01      3.788491\n",
      "2013-01-01      4.131636\n",
      "2013-07-01      3.946727\n",
      "2014-01-01      3.897321\n",
      "2014-07-01      3.918596\n",
      "2015-01-01      3.676250\n",
      "2015-07-01      3.607321\n",
      "2016-01-01      3.442857\n",
      "2016-07-01      3.731607\n",
      "2017-01-01      3.739286\n",
      "2017-07-01      3.848929\n",
      "2018-01-01      3.893571\n",
      "2018-07-01      3.602083\n",
      "2019-01-01      3.599444\n",
      "2019-07-09      3.669861\n",
      "2020-01-14      3.716111\n",
      "2020-07-01      3.718750\n",
      "2021-01-01      3.769028\n",
      "2021-07-01      3.816164\n",
      "2022-01-01      3.915479\n",
      "2022-07-01      4.003571\n"
     ]
    }
   ],
   "source": [
    "df_world_yearly_mean = df.groupby(['date'])[['dollar_price']].mean()\n",
    "\n",
    "print(df_world_yearly_mean)"
   ]
  },
  {
   "cell_type": "code",
   "execution_count": 56,
   "id": "67c53da3",
   "metadata": {},
   "outputs": [
    {
     "data": {
      "text/plain": [
       "<function matplotlib.pyplot.show(close=None, block=None)>"
      ]
     },
     "execution_count": 56,
     "metadata": {},
     "output_type": "execute_result"
    },
    {
     "data": {
      "image/png": "[encoded data removed]",
      "text/plain": [
       "<Figure size 864x432 with 1 Axes>"
      ]
     },
     "metadata": {
      "needs_background": "light"
     },
     "output_type": "display_data"
    }
   ],
   "source": [
    "x=df_world_yearly_mean.index\n",
    "y=df_world_yearly_mean[\"dollar_price\"]\n",
    "plt.figure(figsize=(12, 6))\n",
    "plt.plot(x,y, linewidth=2)\n",
    "plt.xlabel(\"Date (Year)\")\n",
    "plt.ylabel(\"Price (USD)\")\n",
    "plt.title(\"Average Global Price for Big Mac by year\")\n",
    "plt.yticks([0,1,2,3,4,5])\n",
    "plt.xticks(df_world_yearly_mean.index,rotation=60)\n",
    "plt.show"
   ]
  },
  {
   "cell_type": "markdown",
   "id": "dea1effa",
   "metadata": {},
   "source": [
    "#### Plot dollar prices for 2022"
   ]
  },
  {
   "cell_type": "code",
   "execution_count": 57,
   "id": "30c1108b",
   "metadata": {},
   "outputs": [
    {
     "data": {
      "text/html": [
       "<div>\n",
       "<style scoped>\n",
       "    .dataframe tbody tr th:only-of-type {\n",
       "        vertical-align: middle;\n",
       "    }\n",
       "\n",
       "    .dataframe tbody tr th {\n",
       "        vertical-align: top;\n",
       "    }\n",
       "\n",
       "    .dataframe thead th {\n",
       "        text-align: right;\n",
       "    }\n",
       "</style>\n",
       "<table border=\"1\" class=\"dataframe\">\n",
       "  <thead>\n",
       "    <tr style=\"text-align: right;\">\n",
       "      <th></th>\n",
       "      <th>date</th>\n",
       "      <th>currency_code</th>\n",
       "      <th>name</th>\n",
       "      <th>local_price</th>\n",
       "      <th>dollar_ex</th>\n",
       "      <th>dollar_price</th>\n",
       "    </tr>\n",
       "  </thead>\n",
       "  <tbody>\n",
       "    <tr>\n",
       "      <th>1909</th>\n",
       "      <td>2022-07-01</td>\n",
       "      <td>KWD</td>\n",
       "      <td>Kuwait</td>\n",
       "      <td>1.30</td>\n",
       "      <td>1</td>\n",
       "      <td>1.30</td>\n",
       "    </tr>\n",
       "    <tr>\n",
       "      <th>1920</th>\n",
       "      <td>2022-07-01</td>\n",
       "      <td>OMR</td>\n",
       "      <td>Oman</td>\n",
       "      <td>1.42</td>\n",
       "      <td>1</td>\n",
       "      <td>1.42</td>\n",
       "    </tr>\n",
       "    <tr>\n",
       "      <th>1880</th>\n",
       "      <td>2022-07-01</td>\n",
       "      <td>BHD</td>\n",
       "      <td>Bahrain</td>\n",
       "      <td>1.60</td>\n",
       "      <td>1</td>\n",
       "      <td>1.60</td>\n",
       "    </tr>\n",
       "    <tr>\n",
       "      <th>1944</th>\n",
       "      <td>2022-07-01</td>\n",
       "      <td>VES</td>\n",
       "      <td>Venezuela</td>\n",
       "      <td>10.00</td>\n",
       "      <td>5</td>\n",
       "      <td>2.00</td>\n",
       "    </tr>\n",
       "    <tr>\n",
       "      <th>1908</th>\n",
       "      <td>2022-07-01</td>\n",
       "      <td>JOD</td>\n",
       "      <td>Jordan</td>\n",
       "      <td>2.30</td>\n",
       "      <td>1</td>\n",
       "      <td>2.30</td>\n",
       "    </tr>\n",
       "    <tr>\n",
       "      <th>...</th>\n",
       "      <td>...</td>\n",
       "      <td>...</td>\n",
       "      <td>...</td>\n",
       "      <td>...</td>\n",
       "      <td>...</td>\n",
       "      <td>...</td>\n",
       "    </tr>\n",
       "    <tr>\n",
       "      <th>1937</th>\n",
       "      <td>2022-07-01</td>\n",
       "      <td>CHF</td>\n",
       "      <td>Switzerland</td>\n",
       "      <td>6.50</td>\n",
       "      <td>1</td>\n",
       "      <td>6.50</td>\n",
       "    </tr>\n",
       "    <tr>\n",
       "      <th>1877</th>\n",
       "      <td>2022-07-01</td>\n",
       "      <td>AUD</td>\n",
       "      <td>Australia</td>\n",
       "      <td>6.70</td>\n",
       "      <td>1</td>\n",
       "      <td>6.70</td>\n",
       "    </tr>\n",
       "    <tr>\n",
       "      <th>1884</th>\n",
       "      <td>2022-07-01</td>\n",
       "      <td>CAD</td>\n",
       "      <td>Canada</td>\n",
       "      <td>6.77</td>\n",
       "      <td>1</td>\n",
       "      <td>6.77</td>\n",
       "    </tr>\n",
       "    <tr>\n",
       "      <th>1919</th>\n",
       "      <td>2022-07-01</td>\n",
       "      <td>NOK</td>\n",
       "      <td>Norway</td>\n",
       "      <td>62.00</td>\n",
       "      <td>9</td>\n",
       "      <td>6.89</td>\n",
       "    </tr>\n",
       "    <tr>\n",
       "      <th>1917</th>\n",
       "      <td>2022-07-01</td>\n",
       "      <td>NZD</td>\n",
       "      <td>New Zealand</td>\n",
       "      <td>7.10</td>\n",
       "      <td>1</td>\n",
       "      <td>7.10</td>\n",
       "    </tr>\n",
       "  </tbody>\n",
       "</table>\n",
       "<p>70 rows × 6 columns</p>\n",
       "</div>"
      ],
      "text/plain": [
       "           date currency_code         name  local_price  dollar_ex  \\\n",
       "1909 2022-07-01           KWD       Kuwait         1.30          1   \n",
       "1920 2022-07-01           OMR         Oman         1.42          1   \n",
       "1880 2022-07-01           BHD      Bahrain         1.60          1   \n",
       "1944 2022-07-01           VES    Venezuela        10.00          5   \n",
       "1908 2022-07-01           JOD       Jordan         2.30          1   \n",
       "...         ...           ...          ...          ...        ...   \n",
       "1937 2022-07-01           CHF  Switzerland         6.50          1   \n",
       "1877 2022-07-01           AUD    Australia         6.70          1   \n",
       "1884 2022-07-01           CAD       Canada         6.77          1   \n",
       "1919 2022-07-01           NOK       Norway        62.00          9   \n",
       "1917 2022-07-01           NZD  New Zealand         7.10          1   \n",
       "\n",
       "      dollar_price  \n",
       "1909          1.30  \n",
       "1920          1.42  \n",
       "1880          1.60  \n",
       "1944          2.00  \n",
       "1908          2.30  \n",
       "...            ...  \n",
       "1937          6.50  \n",
       "1877          6.70  \n",
       "1884          6.77  \n",
       "1919          6.89  \n",
       "1917          7.10  \n",
       "\n",
       "[70 rows x 6 columns]"
      ]
     },
     "execution_count": 57,
     "metadata": {},
     "output_type": "execute_result"
    }
   ],
   "source": [
    "newest_df=df[df[\"date\"] == \"2022-07-01\"].sort_values(by=['dollar_price'])\n",
    "newest_df"
   ]
  },
  {
   "cell_type": "code",
   "execution_count": 58,
   "id": "fef66905",
   "metadata": {},
   "outputs": [
    {
     "data": {
      "image/png": "[encoded data removed]",
      "text/plain": [
       "<Figure size 360x1440 with 1 Axes>"
      ]
     },
     "metadata": {
      "needs_background": "light"
     },
     "output_type": "display_data"
    }
   ],
   "source": [
    "x=newest_df[\"name\"]\n",
    "y=newest_df[\"dollar_price\"]\n",
    "plt.figure(figsize=(5, 20))\n",
    "plt.barh(x,y)\n",
    "plt.xlabel(\"Price (USD)\")\n",
    "plt.ylabel(\"Country\")\n",
    "plt.title(\"Prices\")\n",
    "plt.xticks([0,1,2,3,4,5,6,7,8])\n",
    "#plt.yticks([])\n",
    "plt.show()"
   ]
  },
  {
   "cell_type": "markdown",
   "id": "6629b68d",
   "metadata": {},
   "source": [
    "#### Dollar prices in 2000"
   ]
  },
  {
   "cell_type": "code",
   "execution_count": 59,
   "id": "dad7bc75",
   "metadata": {},
   "outputs": [
    {
     "data": {
      "text/html": [
       "<div>\n",
       "<style scoped>\n",
       "    .dataframe tbody tr th:only-of-type {\n",
       "        vertical-align: middle;\n",
       "    }\n",
       "\n",
       "    .dataframe tbody tr th {\n",
       "        vertical-align: top;\n",
       "    }\n",
       "\n",
       "    .dataframe thead th {\n",
       "        text-align: right;\n",
       "    }\n",
       "</style>\n",
       "<table border=\"1\" class=\"dataframe\">\n",
       "  <thead>\n",
       "    <tr style=\"text-align: right;\">\n",
       "      <th></th>\n",
       "      <th>date</th>\n",
       "      <th>currency_code</th>\n",
       "      <th>name</th>\n",
       "      <th>local_price</th>\n",
       "      <th>dollar_ex</th>\n",
       "      <th>dollar_price</th>\n",
       "    </tr>\n",
       "  </thead>\n",
       "  <tbody>\n",
       "    <tr>\n",
       "      <th>11</th>\n",
       "      <td>2000-04-01</td>\n",
       "      <td>HUF</td>\n",
       "      <td>Hungary</td>\n",
       "      <td>339.00</td>\n",
       "      <td>279</td>\n",
       "      <td>1.22</td>\n",
       "    </tr>\n",
       "    <tr>\n",
       "      <th>6</th>\n",
       "      <td>2000-04-01</td>\n",
       "      <td>CNY</td>\n",
       "      <td>China</td>\n",
       "      <td>9.90</td>\n",
       "      <td>8</td>\n",
       "      <td>1.24</td>\n",
       "    </tr>\n",
       "    <tr>\n",
       "      <th>18</th>\n",
       "      <td>2000-04-01</td>\n",
       "      <td>PLN</td>\n",
       "      <td>Poland</td>\n",
       "      <td>5.50</td>\n",
       "      <td>4</td>\n",
       "      <td>1.38</td>\n",
       "    </tr>\n",
       "    <tr>\n",
       "      <th>7</th>\n",
       "      <td>2000-04-01</td>\n",
       "      <td>CZK</td>\n",
       "      <td>Czech Republic</td>\n",
       "      <td>54.37</td>\n",
       "      <td>39</td>\n",
       "      <td>1.39</td>\n",
       "    </tr>\n",
       "    <tr>\n",
       "      <th>19</th>\n",
       "      <td>2000-04-01</td>\n",
       "      <td>RUB</td>\n",
       "      <td>Russia</td>\n",
       "      <td>39.50</td>\n",
       "      <td>28</td>\n",
       "      <td>1.41</td>\n",
       "    </tr>\n",
       "    <tr>\n",
       "      <th>26</th>\n",
       "      <td>2000-04-01</td>\n",
       "      <td>THB</td>\n",
       "      <td>Thailand</td>\n",
       "      <td>55.00</td>\n",
       "      <td>38</td>\n",
       "      <td>1.45</td>\n",
       "    </tr>\n",
       "    <tr>\n",
       "      <th>10</th>\n",
       "      <td>2000-04-01</td>\n",
       "      <td>HKD</td>\n",
       "      <td>Hong Kong</td>\n",
       "      <td>10.20</td>\n",
       "      <td>7</td>\n",
       "      <td>1.46</td>\n",
       "    </tr>\n",
       "    <tr>\n",
       "      <th>21</th>\n",
       "      <td>2000-04-01</td>\n",
       "      <td>ZAR</td>\n",
       "      <td>South Africa</td>\n",
       "      <td>9.00</td>\n",
       "      <td>6</td>\n",
       "      <td>1.50</td>\n",
       "    </tr>\n",
       "    <tr>\n",
       "      <th>15</th>\n",
       "      <td>2000-04-01</td>\n",
       "      <td>MYR</td>\n",
       "      <td>Malaysia</td>\n",
       "      <td>4.52</td>\n",
       "      <td>3</td>\n",
       "      <td>1.51</td>\n",
       "    </tr>\n",
       "    <tr>\n",
       "      <th>17</th>\n",
       "      <td>2000-04-01</td>\n",
       "      <td>NZD</td>\n",
       "      <td>New Zealand</td>\n",
       "      <td>3.40</td>\n",
       "      <td>2</td>\n",
       "      <td>1.70</td>\n",
       "    </tr>\n",
       "    <tr>\n",
       "      <th>12</th>\n",
       "      <td>2000-04-01</td>\n",
       "      <td>IDR</td>\n",
       "      <td>Indonesia</td>\n",
       "      <td>14500.00</td>\n",
       "      <td>7945</td>\n",
       "      <td>1.83</td>\n",
       "    </tr>\n",
       "    <tr>\n",
       "      <th>3</th>\n",
       "      <td>2000-04-01</td>\n",
       "      <td>GBP</td>\n",
       "      <td>Britain</td>\n",
       "      <td>1.90</td>\n",
       "      <td>1</td>\n",
       "      <td>1.90</td>\n",
       "    </tr>\n",
       "    <tr>\n",
       "      <th>27</th>\n",
       "      <td>2000-04-01</td>\n",
       "      <td>USD</td>\n",
       "      <td>United States</td>\n",
       "      <td>2.24</td>\n",
       "      <td>1</td>\n",
       "      <td>2.24</td>\n",
       "    </tr>\n",
       "    <tr>\n",
       "      <th>16</th>\n",
       "      <td>2000-04-01</td>\n",
       "      <td>MXN</td>\n",
       "      <td>Mexico</td>\n",
       "      <td>20.90</td>\n",
       "      <td>9</td>\n",
       "      <td>2.32</td>\n",
       "    </tr>\n",
       "    <tr>\n",
       "      <th>25</th>\n",
       "      <td>2000-04-01</td>\n",
       "      <td>TWD</td>\n",
       "      <td>Taiwan</td>\n",
       "      <td>70.00</td>\n",
       "      <td>30</td>\n",
       "      <td>2.33</td>\n",
       "    </tr>\n",
       "    <tr>\n",
       "      <th>5</th>\n",
       "      <td>2000-04-01</td>\n",
       "      <td>CLP</td>\n",
       "      <td>Chile</td>\n",
       "      <td>1260.00</td>\n",
       "      <td>514</td>\n",
       "      <td>2.45</td>\n",
       "    </tr>\n",
       "    <tr>\n",
       "      <th>0</th>\n",
       "      <td>2000-04-01</td>\n",
       "      <td>ARS</td>\n",
       "      <td>Argentina</td>\n",
       "      <td>2.50</td>\n",
       "      <td>1</td>\n",
       "      <td>2.50</td>\n",
       "    </tr>\n",
       "    <tr>\n",
       "      <th>9</th>\n",
       "      <td>2000-04-01</td>\n",
       "      <td>EUR</td>\n",
       "      <td>Euro area</td>\n",
       "      <td>2.56</td>\n",
       "      <td>1</td>\n",
       "      <td>2.56</td>\n",
       "    </tr>\n",
       "    <tr>\n",
       "      <th>1</th>\n",
       "      <td>2000-04-01</td>\n",
       "      <td>AUD</td>\n",
       "      <td>Australia</td>\n",
       "      <td>2.59</td>\n",
       "      <td>1</td>\n",
       "      <td>2.59</td>\n",
       "    </tr>\n",
       "    <tr>\n",
       "      <th>22</th>\n",
       "      <td>2000-04-01</td>\n",
       "      <td>KRW</td>\n",
       "      <td>South Korea</td>\n",
       "      <td>3000.00</td>\n",
       "      <td>1108</td>\n",
       "      <td>2.71</td>\n",
       "    </tr>\n",
       "    <tr>\n",
       "      <th>14</th>\n",
       "      <td>2000-04-01</td>\n",
       "      <td>JPY</td>\n",
       "      <td>Japan</td>\n",
       "      <td>294.00</td>\n",
       "      <td>106</td>\n",
       "      <td>2.77</td>\n",
       "    </tr>\n",
       "    <tr>\n",
       "      <th>4</th>\n",
       "      <td>2000-04-01</td>\n",
       "      <td>CAD</td>\n",
       "      <td>Canada</td>\n",
       "      <td>2.85</td>\n",
       "      <td>1</td>\n",
       "      <td>2.85</td>\n",
       "    </tr>\n",
       "    <tr>\n",
       "      <th>2</th>\n",
       "      <td>2000-04-01</td>\n",
       "      <td>BRL</td>\n",
       "      <td>Brazil</td>\n",
       "      <td>2.95</td>\n",
       "      <td>1</td>\n",
       "      <td>2.95</td>\n",
       "    </tr>\n",
       "    <tr>\n",
       "      <th>23</th>\n",
       "      <td>2000-04-01</td>\n",
       "      <td>SEK</td>\n",
       "      <td>Sweden</td>\n",
       "      <td>24.00</td>\n",
       "      <td>8</td>\n",
       "      <td>3.00</td>\n",
       "    </tr>\n",
       "    <tr>\n",
       "      <th>8</th>\n",
       "      <td>2000-04-01</td>\n",
       "      <td>DKK</td>\n",
       "      <td>Denmark</td>\n",
       "      <td>24.75</td>\n",
       "      <td>8</td>\n",
       "      <td>3.09</td>\n",
       "    </tr>\n",
       "    <tr>\n",
       "      <th>20</th>\n",
       "      <td>2000-04-01</td>\n",
       "      <td>SGD</td>\n",
       "      <td>Singapore</td>\n",
       "      <td>3.20</td>\n",
       "      <td>1</td>\n",
       "      <td>3.20</td>\n",
       "    </tr>\n",
       "    <tr>\n",
       "      <th>13</th>\n",
       "      <td>2000-04-01</td>\n",
       "      <td>ILS</td>\n",
       "      <td>Israel</td>\n",
       "      <td>14.50</td>\n",
       "      <td>4</td>\n",
       "      <td>3.62</td>\n",
       "    </tr>\n",
       "    <tr>\n",
       "      <th>24</th>\n",
       "      <td>2000-04-01</td>\n",
       "      <td>CHF</td>\n",
       "      <td>Switzerland</td>\n",
       "      <td>5.90</td>\n",
       "      <td>1</td>\n",
       "      <td>5.90</td>\n",
       "    </tr>\n",
       "  </tbody>\n",
       "</table>\n",
       "</div>"
      ],
      "text/plain": [
       "         date currency_code            name  local_price  dollar_ex  \\\n",
       "11 2000-04-01           HUF         Hungary       339.00        279   \n",
       "6  2000-04-01           CNY           China         9.90          8   \n",
       "18 2000-04-01           PLN          Poland         5.50          4   \n",
       "7  2000-04-01           CZK  Czech Republic        54.37         39   \n",
       "19 2000-04-01           RUB          Russia        39.50         28   \n",
       "26 2000-04-01           THB        Thailand        55.00         38   \n",
       "10 2000-04-01           HKD       Hong Kong        10.20          7   \n",
       "21 2000-04-01           ZAR    South Africa         9.00          6   \n",
       "15 2000-04-01           MYR        Malaysia         4.52          3   \n",
       "17 2000-04-01           NZD     New Zealand         3.40          2   \n",
       "12 2000-04-01           IDR       Indonesia     14500.00       7945   \n",
       "3  2000-04-01           GBP         Britain         1.90          1   \n",
       "27 2000-04-01           USD   United States         2.24          1   \n",
       "16 2000-04-01           MXN          Mexico        20.90          9   \n",
       "25 2000-04-01           TWD          Taiwan        70.00         30   \n",
       "5  2000-04-01           CLP           Chile      1260.00        514   \n",
       "0  2000-04-01           ARS       Argentina         2.50          1   \n",
       "9  2000-04-01           EUR       Euro area         2.56          1   \n",
       "1  2000-04-01           AUD       Australia         2.59          1   \n",
       "22 2000-04-01           KRW     South Korea      3000.00       1108   \n",
       "14 2000-04-01           JPY           Japan       294.00        106   \n",
       "4  2000-04-01           CAD          Canada         2.85          1   \n",
       "2  2000-04-01           BRL          Brazil         2.95          1   \n",
       "23 2000-04-01           SEK          Sweden        24.00          8   \n",
       "8  2000-04-01           DKK         Denmark        24.75          8   \n",
       "20 2000-04-01           SGD       Singapore         3.20          1   \n",
       "13 2000-04-01           ILS          Israel        14.50          4   \n",
       "24 2000-04-01           CHF     Switzerland         5.90          1   \n",
       "\n",
       "    dollar_price  \n",
       "11          1.22  \n",
       "6           1.24  \n",
       "18          1.38  \n",
       "7           1.39  \n",
       "19          1.41  \n",
       "26          1.45  \n",
       "10          1.46  \n",
       "21          1.50  \n",
       "15          1.51  \n",
       "17          1.70  \n",
       "12          1.83  \n",
       "3           1.90  \n",
       "27          2.24  \n",
       "16          2.32  \n",
       "25          2.33  \n",
       "5           2.45  \n",
       "0           2.50  \n",
       "9           2.56  \n",
       "1           2.59  \n",
       "22          2.71  \n",
       "14          2.77  \n",
       "4           2.85  \n",
       "2           2.95  \n",
       "23          3.00  \n",
       "8           3.09  \n",
       "20          3.20  \n",
       "13          3.62  \n",
       "24          5.90  "
      ]
     },
     "execution_count": 59,
     "metadata": {},
     "output_type": "execute_result"
    }
   ],
   "source": [
    "df_2000=df[df[\"date\"] == \"2000-04-01\"].sort_values(by=['dollar_price'])\n",
    "df_2000"
   ]
  },
  {
   "cell_type": "code",
   "execution_count": 60,
   "id": "83c04e96",
   "metadata": {},
   "outputs": [
    {
     "data": {
      "image/png": "[encoded data removed]",
      "text/plain": [
       "<Figure size 360x1440 with 1 Axes>"
      ]
     },
     "metadata": {
      "needs_background": "light"
     },
     "output_type": "display_data"
    }
   ],
   "source": [
    "x=df_2000[\"name\"]\n",
    "y=df_2000[\"dollar_price\"]\n",
    "plt.figure(figsize=(5, 20))\n",
    "plt.barh(x,y)\n",
    "plt.xlabel(\"Price (USD)\")\n",
    "plt.ylabel(\"Country\")\n",
    "plt.title(\"Prices\")\n",
    "plt.xticks([0,1,2,3,4,5,6])\n",
    "#plt.yticks([])\n",
    "plt.show()"
   ]
  },
  {
   "cell_type": "markdown",
   "id": "d9f5f53a",
   "metadata": {},
   "source": [
    "#### Alphabetize all countries"
   ]
  },
  {
   "cell_type": "code",
   "execution_count": 61,
   "id": "290f3001",
   "metadata": {},
   "outputs": [],
   "source": [
    "all_countries = ['Argentina','Australia','Brazil','Britain','Canada','Chile','China',\n",
    "'Czech Republic', 'Denmark', 'Euro area', 'Hong Kong', 'Hungary', 'Indonesia',\n",
    "'Israel', 'Japan', 'Malaysia', 'Mexico', 'New Zealand', 'Poland','Russia',\n",
    "'Singapore', 'South Africa', 'South Korea', 'Sweden', 'Switzerland', 'Taiwan',\n",
    "'Thailand', 'United States', 'Philippines', 'Norway', 'Peru', 'Turkey',\n",
    "'Venezuela', 'Egypt', 'Colombia', 'Costa Rica', 'Pakistan', 'Saudi Arabia',\n",
    "'Sri Lanka', 'Ukraine', 'Uruguay', 'UAE', 'Austria', 'Belgium', 'Estonia',\n",
    "'Finland', 'France', 'Germany', 'Greece', 'India', 'Ireland', 'Italy',\n",
    "'Netherlands', 'Portugal', 'Spain', 'Lithuania', 'Vietnam', 'Azerbaijan',\n",
    "'Bahrain', 'Croatia', 'Guatemala', 'Honduras', 'Jordan', 'Kuwait', 'Latvia',\n",
    "'Lebanon', 'Moldova', 'Nicaragua', 'Oman', 'Qatar', 'Romania', 'Slovakia',\n",
    "'Slovenia', 'United Arab Emirates']\n",
    "all_countries = sorted(all_countries)"
   ]
  },
  {
   "cell_type": "code",
   "execution_count": 62,
   "id": "f18e3084",
   "metadata": {},
   "outputs": [
    {
     "name": "stdout",
     "output_type": "stream",
     "text": [
      "['Argentina', 'Australia', 'Austria', 'Azerbaijan', 'Bahrain', 'Belgium', 'Brazil', 'Britain', 'Canada', 'Chile', 'China', 'Colombia', 'Costa Rica', 'Croatia', 'Czech Republic', 'Denmark', 'Egypt', 'Estonia', 'Euro area', 'Finland', 'France', 'Germany', 'Greece', 'Guatemala', 'Honduras', 'Hong Kong', 'Hungary', 'India', 'Indonesia', 'Ireland', 'Israel', 'Italy', 'Japan', 'Jordan', 'Kuwait', 'Latvia', 'Lebanon', 'Lithuania', 'Malaysia', 'Mexico', 'Moldova', 'Netherlands', 'New Zealand', 'Nicaragua', 'Norway', 'Oman', 'Pakistan', 'Peru', 'Philippines', 'Poland', 'Portugal', 'Qatar', 'Romania', 'Russia', 'Saudi Arabia', 'Singapore', 'Slovakia', 'Slovenia', 'South Africa', 'South Korea', 'Spain', 'Sri Lanka', 'Sweden', 'Switzerland', 'Taiwan', 'Thailand', 'Turkey', 'UAE', 'Ukraine', 'United Arab Emirates', 'United States', 'Uruguay', 'Venezuela', 'Vietnam']\n"
     ]
    }
   ],
   "source": [
    "print(all_countries)"
   ]
  },
  {
   "cell_type": "markdown",
   "id": "fec8492c",
   "metadata": {},
   "source": [
    "#### Eurozone Big Mac Prices"
   ]
  },
  {
   "cell_type": "code",
   "execution_count": 63,
   "id": "78af4242",
   "metadata": {},
   "outputs": [],
   "source": [
    "eurozone_countries = ['Austria', 'Belgium', 'Estonia', 'Euro area', 'Finland', 'France',\n",
    "                     'Germany', 'Greece', 'Ireland', 'Italy', 'Latvia', 'Lithuania', 'Luxembourg',\n",
    "                     'Malta', 'Netherlands', 'Portugal', 'Slovakia', 'Slovenia', 'Spain']"
   ]
  },
  {
   "cell_type": "code",
   "execution_count": 64,
   "id": "ee2d5067",
   "metadata": {},
   "outputs": [],
   "source": [
    "df_eurozone = df[df['name'].isin(eurozone_countries)]\n",
    "df_eurozone = df_eurozone.reset_index(drop=True)"
   ]
  },
  {
   "cell_type": "code",
   "execution_count": 65,
   "id": "88202d1f",
   "metadata": {},
   "outputs": [
    {
     "data": {
      "text/html": [
       "<div>\n",
       "<style scoped>\n",
       "    .dataframe tbody tr th:only-of-type {\n",
       "        vertical-align: middle;\n",
       "    }\n",
       "\n",
       "    .dataframe tbody tr th {\n",
       "        vertical-align: top;\n",
       "    }\n",
       "\n",
       "    .dataframe thead th {\n",
       "        text-align: right;\n",
       "    }\n",
       "</style>\n",
       "<table border=\"1\" class=\"dataframe\">\n",
       "  <thead>\n",
       "    <tr style=\"text-align: right;\">\n",
       "      <th></th>\n",
       "      <th>date</th>\n",
       "      <th>currency_code</th>\n",
       "      <th>name</th>\n",
       "      <th>local_price</th>\n",
       "      <th>dollar_ex</th>\n",
       "      <th>dollar_price</th>\n",
       "    </tr>\n",
       "  </thead>\n",
       "  <tbody>\n",
       "    <tr>\n",
       "      <th>0</th>\n",
       "      <td>2000-04-01</td>\n",
       "      <td>EUR</td>\n",
       "      <td>Euro area</td>\n",
       "      <td>2.56</td>\n",
       "      <td>1</td>\n",
       "      <td>2.56</td>\n",
       "    </tr>\n",
       "    <tr>\n",
       "      <th>1</th>\n",
       "      <td>2001-04-01</td>\n",
       "      <td>EUR</td>\n",
       "      <td>Euro area</td>\n",
       "      <td>2.57</td>\n",
       "      <td>1</td>\n",
       "      <td>2.57</td>\n",
       "    </tr>\n",
       "    <tr>\n",
       "      <th>2</th>\n",
       "      <td>2002-04-01</td>\n",
       "      <td>EUR</td>\n",
       "      <td>Euro area</td>\n",
       "      <td>2.67</td>\n",
       "      <td>1</td>\n",
       "      <td>2.67</td>\n",
       "    </tr>\n",
       "    <tr>\n",
       "      <th>3</th>\n",
       "      <td>2003-04-01</td>\n",
       "      <td>EUR</td>\n",
       "      <td>Euro area</td>\n",
       "      <td>2.71</td>\n",
       "      <td>1</td>\n",
       "      <td>2.71</td>\n",
       "    </tr>\n",
       "    <tr>\n",
       "      <th>4</th>\n",
       "      <td>2004-05-01</td>\n",
       "      <td>EUR</td>\n",
       "      <td>Euro area</td>\n",
       "      <td>2.74</td>\n",
       "      <td>1</td>\n",
       "      <td>2.74</td>\n",
       "    </tr>\n",
       "    <tr>\n",
       "      <th>...</th>\n",
       "      <td>...</td>\n",
       "      <td>...</td>\n",
       "      <td>...</td>\n",
       "      <td>...</td>\n",
       "      <td>...</td>\n",
       "      <td>...</td>\n",
       "    </tr>\n",
       "    <tr>\n",
       "      <th>346</th>\n",
       "      <td>2022-07-01</td>\n",
       "      <td>EUR</td>\n",
       "      <td>Netherlands</td>\n",
       "      <td>4.50</td>\n",
       "      <td>1</td>\n",
       "      <td>4.50</td>\n",
       "    </tr>\n",
       "    <tr>\n",
       "      <th>347</th>\n",
       "      <td>2022-07-01</td>\n",
       "      <td>EUR</td>\n",
       "      <td>Portugal</td>\n",
       "      <td>4.00</td>\n",
       "      <td>1</td>\n",
       "      <td>4.00</td>\n",
       "    </tr>\n",
       "    <tr>\n",
       "      <th>348</th>\n",
       "      <td>2022-07-01</td>\n",
       "      <td>EUR</td>\n",
       "      <td>Slovakia</td>\n",
       "      <td>3.90</td>\n",
       "      <td>1</td>\n",
       "      <td>3.90</td>\n",
       "    </tr>\n",
       "    <tr>\n",
       "      <th>349</th>\n",
       "      <td>2022-07-01</td>\n",
       "      <td>EUR</td>\n",
       "      <td>Slovenia</td>\n",
       "      <td>3.20</td>\n",
       "      <td>1</td>\n",
       "      <td>3.20</td>\n",
       "    </tr>\n",
       "    <tr>\n",
       "      <th>350</th>\n",
       "      <td>2022-07-01</td>\n",
       "      <td>EUR</td>\n",
       "      <td>Spain</td>\n",
       "      <td>4.58</td>\n",
       "      <td>1</td>\n",
       "      <td>4.58</td>\n",
       "    </tr>\n",
       "  </tbody>\n",
       "</table>\n",
       "<p>351 rows × 6 columns</p>\n",
       "</div>"
      ],
      "text/plain": [
       "          date currency_code         name  local_price  dollar_ex  \\\n",
       "0   2000-04-01           EUR    Euro area         2.56          1   \n",
       "1   2001-04-01           EUR    Euro area         2.57          1   \n",
       "2   2002-04-01           EUR    Euro area         2.67          1   \n",
       "3   2003-04-01           EUR    Euro area         2.71          1   \n",
       "4   2004-05-01           EUR    Euro area         2.74          1   \n",
       "..         ...           ...          ...          ...        ...   \n",
       "346 2022-07-01           EUR  Netherlands         4.50          1   \n",
       "347 2022-07-01           EUR     Portugal         4.00          1   \n",
       "348 2022-07-01           EUR     Slovakia         3.90          1   \n",
       "349 2022-07-01           EUR     Slovenia         3.20          1   \n",
       "350 2022-07-01           EUR        Spain         4.58          1   \n",
       "\n",
       "     dollar_price  \n",
       "0            2.56  \n",
       "1            2.57  \n",
       "2            2.67  \n",
       "3            2.71  \n",
       "4            2.74  \n",
       "..            ...  \n",
       "346          4.50  \n",
       "347          4.00  \n",
       "348          3.90  \n",
       "349          3.20  \n",
       "350          4.58  \n",
       "\n",
       "[351 rows x 6 columns]"
      ]
     },
     "execution_count": 65,
     "metadata": {},
     "output_type": "execute_result"
    }
   ],
   "source": [
    "df_eurozone"
   ]
  },
  {
   "cell_type": "code",
   "execution_count": 66,
   "id": "01dd0a59",
   "metadata": {},
   "outputs": [
    {
     "data": {
      "text/plain": [
       "array(['EUR'], dtype=object)"
      ]
     },
     "execution_count": 66,
     "metadata": {},
     "output_type": "execute_result"
    }
   ],
   "source": [
    "# Check to see if all countries currency code is the euro\n",
    "df_eurozone.currency_code.unique()"
   ]
  },
  {
   "cell_type": "code",
   "execution_count": 67,
   "id": "f7da09c0",
   "metadata": {},
   "outputs": [
    {
     "data": {
      "image/png": "[encoded data removed]",
      "text/plain": [
       "<Figure size 1440x864 with 1 Axes>"
      ]
     },
     "metadata": {
      "needs_background": "light"
     },
     "output_type": "display_data"
    }
   ],
   "source": [
    "df_eurozone_post2010 = df_eurozone.loc[df_eurozone['date']>='2010-01-01']\n",
    "\n",
    "plt.figure(figsize=(20,12))\n",
    "\n",
    "for i in eurozone_countries:\n",
    "    x=(df_eurozone_post2010[df_eurozone_post2010['name']==i]['date'])\n",
    "    y=(df_eurozone_post2010[df_eurozone_post2010['name']==i]['dollar_price'])\n",
    "    plt.plot(x,y,linewidth=1.5, label=i)\n",
    "\n",
    "plt.title('All Eurozone Big Mac USD Price Increases 2010 to 2022')\n",
    "plt.yticks([2,3,4,5])\n",
    "plt.xticks(df_eurozone_post2010.date, rotation=60)\n",
    "plt.ylabel(\"Price (USD)\")\n",
    "plt.xlabel(\"Date\")\n",
    "plt.legend()\n",
    "plt.show()"
   ]
  },
  {
   "cell_type": "code",
   "execution_count": 68,
   "id": "afc7e1c7",
   "metadata": {},
   "outputs": [
    {
     "data": {
      "image/png": "[encoded data removed]",
      "text/plain": [
       "<Figure size 1440x864 with 1 Axes>"
      ]
     },
     "metadata": {
      "needs_background": "light"
     },
     "output_type": "display_data"
    }
   ],
   "source": [
    "plt.figure(figsize=(20,12))\n",
    "\n",
    "for i in eurozone_countries:\n",
    "    x=(df_eurozone[df_eurozone['name']==i]['date'])\n",
    "    y=(df_eurozone[df_eurozone['name']==i]['dollar_price'])\n",
    "    plt.plot(x,y,linewidth=1.5, label=i)\n",
    "\n",
    "plt.title('All Eurozone Big Mac USD Price Increases since 2000')\n",
    "plt.yticks([2,3,4,5])\n",
    "plt.xticks(df_eurozone.date[10:-1], rotation=60)\n",
    "plt.ylabel(\"Price (USD)\")\n",
    "plt.xlabel(\"Date\")\n",
    "plt.legend()\n",
    "plt.show()"
   ]
  },
  {
   "cell_type": "markdown",
   "id": "0b8575d0",
   "metadata": {},
   "source": [
    "#### Eurozone Interactive Graphs with Plotly"
   ]
  },
  {
   "cell_type": "code",
   "execution_count": 86,
   "id": "0d6ff892",
   "metadata": {},
   "outputs": [
    {
     "data": {
      "application/vnd.plotly.v1+json": {
       "config": {
        "plotlyServerURL": "https://plot.ly"
       },
       "data": [
        {
         "hovertemplate": "name=Euro area<br>date=%{x}<br>dollar_price=%{y}<extra></extra>",
         "legendgroup": "Euro area",
         "line": {
          "color": "#636efa",
          "dash": "solid"
         },
         "marker": {
          "symbol": "circle"
         },
         "mode": "lines",
         "name": "Euro area",
         "orientation": "v",
         "showlegend": true,
         "type": "scatter",
         "x": [
          "2010-01-01T00:00:00",
          "2010-07-01T00:00:00",
          "2011-07-01T00:00:00",
          "2012-01-01T00:00:00",
          "2012-07-01T00:00:00",
          "2013-01-01T00:00:00",
          "2013-07-01T00:00:00",
          "2014-01-01T00:00:00",
          "2014-07-01T00:00:00",
          "2015-01-01T00:00:00",
          "2015-07-01T00:00:00",
          "2016-01-01T00:00:00",
          "2016-07-01T00:00:00",
          "2017-01-01T00:00:00",
          "2017-07-01T00:00:00",
          "2018-01-01T00:00:00",
          "2018-07-01T00:00:00",
          "2019-01-01T00:00:00",
          "2019-07-09T00:00:00",
          "2020-01-14T00:00:00",
          "2020-07-01T00:00:00",
          "2021-01-01T00:00:00",
          "2021-07-01T00:00:00",
          "2022-01-01T00:00:00",
          "2022-07-01T00:00:00"
         ],
         "xaxis": "x",
         "y": [
          3.36,
          3.38,
          3.44,
          3.49,
          3.58,
          3.59,
          3.62,
          3.66,
          3.68,
          3.68,
          3.7,
          3.72,
          3.82,
          3.88,
          3.91,
          3.95,
          4.04,
          4.05,
          4.08,
          4.12,
          4.21,
          4.25,
          4.29,
          4.42,
          4.65
         ],
         "yaxis": "y"
        },
        {
         "hovertemplate": "name=Austria<br>date=%{x}<br>dollar_price=%{y}<extra></extra>",
         "legendgroup": "Austria",
         "line": {
          "color": "#EF553B",
          "dash": "solid"
         },
         "marker": {
          "symbol": "circle"
         },
         "mode": "lines",
         "name": "Austria",
         "orientation": "v",
         "showlegend": true,
         "type": "scatter",
         "x": [
          "2011-07-01T00:00:00",
          "2012-01-01T00:00:00",
          "2012-07-01T00:00:00",
          "2013-01-01T00:00:00",
          "2013-07-01T00:00:00",
          "2014-01-01T00:00:00",
          "2014-07-01T00:00:00",
          "2015-01-01T00:00:00",
          "2015-07-01T00:00:00",
          "2016-01-01T00:00:00",
          "2016-07-01T00:00:00",
          "2017-01-01T00:00:00",
          "2017-07-01T00:00:00",
          "2018-01-01T00:00:00",
          "2018-07-01T00:00:00",
          "2019-01-01T00:00:00",
          "2019-07-09T00:00:00",
          "2020-01-14T00:00:00",
          "2020-07-01T00:00:00",
          "2021-01-01T00:00:00",
          "2021-07-01T00:00:00",
          "2022-01-01T00:00:00",
          "2022-07-01T00:00:00"
         ],
         "xaxis": "x",
         "y": [
          3.09,
          3.09,
          3.19,
          3.39,
          3.39,
          3.39,
          3.39,
          3.39,
          3.39,
          3.5,
          3.6,
          3.4,
          3.4,
          3.4,
          3.4,
          3.76,
          3.81,
          3.84,
          3.86,
          3.88,
          3.92,
          3.8,
          4.35
         ],
         "yaxis": "y"
        },
        {
         "hovertemplate": "name=Belgium<br>date=%{x}<br>dollar_price=%{y}<extra></extra>",
         "legendgroup": "Belgium",
         "line": {
          "color": "#00cc96",
          "dash": "solid"
         },
         "marker": {
          "symbol": "circle"
         },
         "mode": "lines",
         "name": "Belgium",
         "orientation": "v",
         "showlegend": true,
         "type": "scatter",
         "x": [
          "2011-07-01T00:00:00",
          "2012-01-01T00:00:00",
          "2012-07-01T00:00:00",
          "2013-01-01T00:00:00",
          "2013-07-01T00:00:00",
          "2014-01-01T00:00:00",
          "2014-07-01T00:00:00",
          "2015-01-01T00:00:00",
          "2015-07-01T00:00:00",
          "2016-01-01T00:00:00",
          "2016-07-01T00:00:00",
          "2017-01-01T00:00:00",
          "2017-07-01T00:00:00",
          "2018-01-01T00:00:00",
          "2018-07-01T00:00:00",
          "2019-01-01T00:00:00",
          "2019-07-09T00:00:00",
          "2020-01-14T00:00:00",
          "2020-07-01T00:00:00",
          "2021-01-01T00:00:00",
          "2021-07-01T00:00:00",
          "2022-01-01T00:00:00",
          "2022-07-01T00:00:00"
         ],
         "xaxis": "x",
         "y": [
          3.75,
          3.7,
          3.8,
          3.8,
          3.7,
          3.95,
          3.7,
          3.7,
          3.7,
          3.95,
          3.95,
          3.95,
          4.05,
          4.1,
          4.1,
          4.2,
          4.2,
          4.3,
          4.35,
          4.35,
          4.45,
          4.55,
          4.6
         ],
         "yaxis": "y"
        },
        {
         "hovertemplate": "name=Estonia<br>date=%{x}<br>dollar_price=%{y}<extra></extra>",
         "legendgroup": "Estonia",
         "line": {
          "color": "#ab63fa",
          "dash": "solid"
         },
         "marker": {
          "symbol": "circle"
         },
         "mode": "lines",
         "name": "Estonia",
         "orientation": "v",
         "showlegend": true,
         "type": "scatter",
         "x": [
          "2011-07-01T00:00:00",
          "2012-01-01T00:00:00",
          "2012-07-01T00:00:00",
          "2013-01-01T00:00:00",
          "2013-07-01T00:00:00",
          "2014-01-01T00:00:00",
          "2014-07-01T00:00:00",
          "2015-01-01T00:00:00",
          "2015-07-01T00:00:00",
          "2016-01-01T00:00:00",
          "2016-07-01T00:00:00",
          "2017-01-01T00:00:00",
          "2017-07-01T00:00:00",
          "2018-01-01T00:00:00",
          "2018-07-01T00:00:00",
          "2019-01-01T00:00:00",
          "2019-07-09T00:00:00",
          "2020-01-14T00:00:00",
          "2020-07-01T00:00:00",
          "2021-01-01T00:00:00",
          "2021-07-01T00:00:00",
          "2022-01-01T00:00:00",
          "2022-07-01T00:00:00"
         ],
         "xaxis": "x",
         "y": [
          2.2,
          2.04,
          2.04,
          2.7,
          2.75,
          2.8,
          2.9,
          2.9,
          2.95,
          3,
          3.1,
          3.1,
          3.15,
          3.15,
          3.15,
          3.2,
          3.2,
          3.2,
          3.2,
          3.2,
          3.2,
          3.4,
          3.4
         ],
         "yaxis": "y"
        },
        {
         "hovertemplate": "name=Finland<br>date=%{x}<br>dollar_price=%{y}<extra></extra>",
         "legendgroup": "Finland",
         "line": {
          "color": "#FFA15A",
          "dash": "solid"
         },
         "marker": {
          "symbol": "circle"
         },
         "mode": "lines",
         "name": "Finland",
         "orientation": "v",
         "showlegend": true,
         "type": "scatter",
         "x": [
          "2011-07-01T00:00:00",
          "2012-01-01T00:00:00",
          "2012-07-01T00:00:00",
          "2013-01-01T00:00:00",
          "2013-07-01T00:00:00",
          "2014-01-01T00:00:00",
          "2014-07-01T00:00:00",
          "2015-01-01T00:00:00",
          "2015-07-01T00:00:00",
          "2016-01-01T00:00:00",
          "2016-07-01T00:00:00",
          "2017-01-01T00:00:00",
          "2017-07-01T00:00:00",
          "2018-01-01T00:00:00",
          "2018-07-01T00:00:00",
          "2019-01-01T00:00:00",
          "2019-07-09T00:00:00",
          "2020-01-14T00:00:00",
          "2020-07-01T00:00:00",
          "2021-01-01T00:00:00",
          "2021-07-01T00:00:00",
          "2022-01-01T00:00:00",
          "2022-07-01T00:00:00"
         ],
         "xaxis": "x",
         "y": [
          3.75,
          3.75,
          3.75,
          3.75,
          4.1,
          4.1,
          4.1,
          4.1,
          4.1,
          4.1,
          4.6,
          4.55,
          4.56,
          4.56,
          4.62,
          4.62,
          4.75,
          4.83,
          4.88,
          4.87,
          4.89,
          4.95,
          5.25
         ],
         "yaxis": "y"
        },
        {
         "hovertemplate": "name=France<br>date=%{x}<br>dollar_price=%{y}<extra></extra>",
         "legendgroup": "France",
         "line": {
          "color": "#19d3f3",
          "dash": "solid"
         },
         "marker": {
          "symbol": "circle"
         },
         "mode": "lines",
         "name": "France",
         "orientation": "v",
         "showlegend": true,
         "type": "scatter",
         "x": [
          "2011-07-01T00:00:00",
          "2012-01-01T00:00:00",
          "2012-07-01T00:00:00",
          "2013-01-01T00:00:00",
          "2013-07-01T00:00:00",
          "2014-01-01T00:00:00",
          "2014-07-01T00:00:00",
          "2015-01-01T00:00:00",
          "2015-07-01T00:00:00",
          "2016-01-01T00:00:00",
          "2016-07-01T00:00:00",
          "2017-01-01T00:00:00",
          "2017-07-01T00:00:00",
          "2018-01-01T00:00:00",
          "2018-07-01T00:00:00",
          "2019-01-01T00:00:00",
          "2019-07-09T00:00:00",
          "2020-01-14T00:00:00",
          "2020-07-01T00:00:00",
          "2021-01-01T00:00:00",
          "2021-07-01T00:00:00",
          "2022-01-01T00:00:00",
          "2022-07-01T00:00:00"
         ],
         "xaxis": "x",
         "y": [
          3.5,
          3.6,
          3.6,
          3.6,
          3.9,
          3.8,
          3.9,
          3.9,
          4.1,
          4.1,
          4.1,
          4.1,
          4.1,
          4.2,
          4.2,
          4.2,
          4.2,
          4.2,
          4.2,
          4.2,
          4.3,
          4.35,
          4.7
         ],
         "yaxis": "y"
        },
        {
         "hovertemplate": "name=Germany<br>date=%{x}<br>dollar_price=%{y}<extra></extra>",
         "legendgroup": "Germany",
         "line": {
          "color": "#FF6692",
          "dash": "solid"
         },
         "marker": {
          "symbol": "circle"
         },
         "mode": "lines",
         "name": "Germany",
         "orientation": "v",
         "showlegend": true,
         "type": "scatter",
         "x": [
          "2011-07-01T00:00:00",
          "2012-01-01T00:00:00",
          "2012-07-01T00:00:00",
          "2013-01-01T00:00:00",
          "2013-07-01T00:00:00",
          "2014-01-01T00:00:00",
          "2014-07-01T00:00:00",
          "2015-01-01T00:00:00",
          "2015-07-01T00:00:00",
          "2016-01-01T00:00:00",
          "2016-07-01T00:00:00",
          "2017-01-01T00:00:00",
          "2017-07-01T00:00:00",
          "2018-01-01T00:00:00",
          "2018-07-01T00:00:00",
          "2019-01-01T00:00:00",
          "2019-07-09T00:00:00",
          "2020-01-14T00:00:00",
          "2020-07-01T00:00:00",
          "2021-01-01T00:00:00",
          "2021-07-01T00:00:00",
          "2022-01-01T00:00:00",
          "2022-07-01T00:00:00"
         ],
         "xaxis": "x",
         "y": [
          3.4,
          3.53,
          3.64,
          3.64,
          3.64,
          3.67,
          3.67,
          3.67,
          3.59,
          3.59,
          3.79,
          3.79,
          3.9,
          3.9,
          4.12,
          4.12,
          4.14,
          4.14,
          4.45,
          4.46,
          4.45,
          4.46,
          4.58
         ],
         "yaxis": "y"
        },
        {
         "hovertemplate": "name=Greece<br>date=%{x}<br>dollar_price=%{y}<extra></extra>",
         "legendgroup": "Greece",
         "line": {
          "color": "#B6E880",
          "dash": "solid"
         },
         "marker": {
          "symbol": "circle"
         },
         "mode": "lines",
         "name": "Greece",
         "orientation": "v",
         "showlegend": true,
         "type": "scatter",
         "x": [
          "2011-07-01T00:00:00",
          "2012-01-01T00:00:00",
          "2012-07-01T00:00:00",
          "2013-01-01T00:00:00",
          "2013-07-01T00:00:00",
          "2014-01-01T00:00:00",
          "2014-07-01T00:00:00",
          "2015-01-01T00:00:00",
          "2015-07-01T00:00:00",
          "2016-01-01T00:00:00",
          "2016-07-01T00:00:00",
          "2017-01-01T00:00:00",
          "2017-07-01T00:00:00",
          "2018-01-01T00:00:00",
          "2018-07-01T00:00:00",
          "2019-01-01T00:00:00",
          "2019-07-09T00:00:00",
          "2020-01-14T00:00:00",
          "2020-07-01T00:00:00",
          "2021-01-01T00:00:00",
          "2021-07-01T00:00:00",
          "2022-01-01T00:00:00",
          "2022-07-01T00:00:00"
         ],
         "xaxis": "x",
         "y": [
          3.26,
          3.3,
          2.68,
          3.3,
          2.6,
          3.05,
          3.05,
          3.05,
          3.05,
          3.35,
          3.35,
          3.35,
          3.35,
          3.35,
          3.35,
          3.35,
          3.3,
          3.3,
          3.3,
          3.3,
          3.3,
          3.4,
          4
         ],
         "yaxis": "y"
        },
        {
         "hovertemplate": "name=Ireland<br>date=%{x}<br>dollar_price=%{y}<extra></extra>",
         "legendgroup": "Ireland",
         "line": {
          "color": "#FF97FF",
          "dash": "solid"
         },
         "marker": {
          "symbol": "circle"
         },
         "mode": "lines",
         "name": "Ireland",
         "orientation": "v",
         "showlegend": true,
         "type": "scatter",
         "x": [
          "2011-07-01T00:00:00",
          "2012-01-01T00:00:00",
          "2012-07-01T00:00:00",
          "2013-01-01T00:00:00",
          "2013-07-01T00:00:00",
          "2014-01-01T00:00:00",
          "2014-07-01T00:00:00",
          "2015-01-01T00:00:00",
          "2015-07-01T00:00:00",
          "2016-01-01T00:00:00",
          "2016-07-01T00:00:00",
          "2017-01-01T00:00:00",
          "2017-07-01T00:00:00",
          "2018-01-01T00:00:00",
          "2018-07-01T00:00:00",
          "2019-01-01T00:00:00",
          "2019-07-09T00:00:00",
          "2020-01-14T00:00:00",
          "2020-07-01T00:00:00",
          "2021-01-01T00:00:00",
          "2021-07-01T00:00:00",
          "2022-01-01T00:00:00",
          "2022-07-01T00:00:00"
         ],
         "xaxis": "x",
         "y": [
          3.8,
          3.8,
          3.49,
          3.49,
          3.46,
          3.46,
          3.49,
          3.49,
          3.7,
          3.95,
          4,
          4,
          4.07,
          4.07,
          4.07,
          4.07,
          4.3,
          4.2,
          4.3,
          4.4,
          4.5,
          4.6,
          5
         ],
         "yaxis": "y"
        },
        {
         "hovertemplate": "name=Italy<br>date=%{x}<br>dollar_price=%{y}<extra></extra>",
         "legendgroup": "Italy",
         "line": {
          "color": "#FECB52",
          "dash": "solid"
         },
         "marker": {
          "symbol": "circle"
         },
         "mode": "lines",
         "name": "Italy",
         "orientation": "v",
         "showlegend": true,
         "type": "scatter",
         "x": [
          "2011-07-01T00:00:00",
          "2012-01-01T00:00:00",
          "2012-07-01T00:00:00",
          "2013-01-01T00:00:00",
          "2013-07-01T00:00:00",
          "2014-01-01T00:00:00",
          "2014-07-01T00:00:00",
          "2015-01-01T00:00:00",
          "2015-07-01T00:00:00",
          "2016-01-01T00:00:00",
          "2016-07-01T00:00:00",
          "2017-01-01T00:00:00",
          "2017-07-01T00:00:00",
          "2018-01-01T00:00:00",
          "2018-07-01T00:00:00",
          "2019-01-01T00:00:00",
          "2019-07-09T00:00:00",
          "2020-01-14T00:00:00",
          "2020-07-01T00:00:00",
          "2021-01-01T00:00:00",
          "2021-07-01T00:00:00",
          "2022-01-01T00:00:00",
          "2022-07-01T00:00:00"
         ],
         "xaxis": "x",
         "y": [
          3.5,
          3.5,
          3.6,
          3.85,
          3.75,
          3.85,
          3.85,
          3.85,
          4,
          4,
          4.2,
          4.2,
          4.2,
          4.2,
          4.2,
          4.2,
          4.3,
          4.3,
          4.3,
          4.3,
          4.3,
          4.8,
          5.1
         ],
         "yaxis": "y"
        },
        {
         "hovertemplate": "name=Netherlands<br>date=%{x}<br>dollar_price=%{y}<extra></extra>",
         "legendgroup": "Netherlands",
         "line": {
          "color": "#636efa",
          "dash": "solid"
         },
         "marker": {
          "symbol": "circle"
         },
         "mode": "lines",
         "name": "Netherlands",
         "orientation": "v",
         "showlegend": true,
         "type": "scatter",
         "x": [
          "2011-07-01T00:00:00",
          "2012-01-01T00:00:00",
          "2012-07-01T00:00:00",
          "2013-01-01T00:00:00",
          "2013-07-01T00:00:00",
          "2014-01-01T00:00:00",
          "2014-07-01T00:00:00",
          "2015-01-01T00:00:00",
          "2015-07-01T00:00:00",
          "2016-01-01T00:00:00",
          "2016-07-01T00:00:00",
          "2017-01-01T00:00:00",
          "2017-07-01T00:00:00",
          "2018-01-01T00:00:00",
          "2018-07-01T00:00:00",
          "2019-01-01T00:00:00",
          "2019-07-09T00:00:00",
          "2020-01-14T00:00:00",
          "2020-07-01T00:00:00",
          "2021-01-01T00:00:00",
          "2021-07-01T00:00:00",
          "2022-01-01T00:00:00",
          "2022-07-01T00:00:00"
         ],
         "xaxis": "x",
         "y": [
          3.25,
          3.25,
          3.38,
          3.45,
          3.45,
          3.45,
          3.45,
          3.45,
          3.45,
          3.45,
          3.45,
          3.61,
          3.61,
          3.71,
          3.79,
          4,
          4.06,
          4.09,
          4.09,
          4.13,
          4.22,
          4.4,
          4.5
         ],
         "yaxis": "y"
        },
        {
         "hovertemplate": "name=Portugal<br>date=%{x}<br>dollar_price=%{y}<extra></extra>",
         "legendgroup": "Portugal",
         "line": {
          "color": "#EF553B",
          "dash": "solid"
         },
         "marker": {
          "symbol": "circle"
         },
         "mode": "lines",
         "name": "Portugal",
         "orientation": "v",
         "showlegend": true,
         "type": "scatter",
         "x": [
          "2011-07-01T00:00:00",
          "2012-01-01T00:00:00",
          "2012-07-01T00:00:00",
          "2013-01-01T00:00:00",
          "2013-07-01T00:00:00",
          "2014-01-01T00:00:00",
          "2014-07-01T00:00:00",
          "2015-01-01T00:00:00",
          "2015-07-01T00:00:00",
          "2016-01-01T00:00:00",
          "2016-07-01T00:00:00",
          "2017-01-01T00:00:00",
          "2017-07-01T00:00:00",
          "2018-01-01T00:00:00",
          "2018-07-01T00:00:00",
          "2019-01-01T00:00:00",
          "2019-07-09T00:00:00",
          "2020-01-14T00:00:00",
          "2020-07-01T00:00:00",
          "2021-01-01T00:00:00",
          "2021-07-01T00:00:00",
          "2022-01-01T00:00:00",
          "2022-07-01T00:00:00"
         ],
         "xaxis": "x",
         "y": [
          2.9,
          2.9,
          4.95,
          2.95,
          2.95,
          3,
          3,
          3,
          3,
          3,
          3.05,
          3.05,
          3.25,
          3.2,
          3.25,
          3.25,
          3.25,
          3.25,
          3.45,
          3.45,
          3.45,
          3.45,
          4
         ],
         "yaxis": "y"
        },
        {
         "hovertemplate": "name=Spain<br>date=%{x}<br>dollar_price=%{y}<extra></extra>",
         "legendgroup": "Spain",
         "line": {
          "color": "#00cc96",
          "dash": "solid"
         },
         "marker": {
          "symbol": "circle"
         },
         "mode": "lines",
         "name": "Spain",
         "orientation": "v",
         "showlegend": true,
         "type": "scatter",
         "x": [
          "2011-07-01T00:00:00",
          "2012-01-01T00:00:00",
          "2012-07-01T00:00:00",
          "2013-01-01T00:00:00",
          "2013-07-01T00:00:00",
          "2014-01-01T00:00:00",
          "2014-07-01T00:00:00",
          "2015-01-01T00:00:00",
          "2015-07-01T00:00:00",
          "2016-01-01T00:00:00",
          "2016-07-01T00:00:00",
          "2017-01-01T00:00:00",
          "2017-07-01T00:00:00",
          "2018-01-01T00:00:00",
          "2018-07-01T00:00:00",
          "2019-01-01T00:00:00",
          "2019-07-09T00:00:00",
          "2020-01-14T00:00:00",
          "2020-07-01T00:00:00",
          "2021-01-01T00:00:00",
          "2021-07-01T00:00:00",
          "2022-01-01T00:00:00",
          "2022-07-01T00:00:00"
         ],
         "xaxis": "x",
         "y": [
          3.5,
          3.5,
          3.5,
          3.5,
          3.5,
          3.65,
          3.65,
          3.65,
          3.65,
          3.5,
          3.5,
          3.95,
          3.8,
          3.95,
          4.1,
          3.95,
          3.95,
          4.2,
          4.1,
          4.33,
          4.4,
          4.58,
          4.58
         ],
         "yaxis": "y"
        },
        {
         "hovertemplate": "name=Lithuania<br>date=%{x}<br>dollar_price=%{y}<extra></extra>",
         "legendgroup": "Lithuania",
         "line": {
          "color": "#ab63fa",
          "dash": "solid"
         },
         "marker": {
          "symbol": "circle"
         },
         "mode": "lines",
         "name": "Lithuania",
         "orientation": "v",
         "showlegend": true,
         "type": "scatter",
         "x": [
          "2014-01-01T00:00:00",
          "2014-07-01T00:00:00",
          "2018-07-01T00:00:00",
          "2019-01-01T00:00:00",
          "2019-07-09T00:00:00",
          "2020-01-14T00:00:00",
          "2020-07-01T00:00:00",
          "2021-01-01T00:00:00",
          "2021-07-01T00:00:00",
          "2022-01-01T00:00:00",
          "2022-07-01T00:00:00"
         ],
         "xaxis": "x",
         "y": [
          4.4,
          4.47,
          2.8,
          2.85,
          2.85,
          2.85,
          2.85,
          2.9,
          2.9,
          2.9,
          3.05
         ],
         "yaxis": "y"
        },
        {
         "hovertemplate": "name=Latvia<br>date=%{x}<br>dollar_price=%{y}<extra></extra>",
         "legendgroup": "Latvia",
         "line": {
          "color": "#FFA15A",
          "dash": "solid"
         },
         "marker": {
          "symbol": "circle"
         },
         "mode": "lines",
         "name": "Latvia",
         "orientation": "v",
         "showlegend": true,
         "type": "scatter",
         "x": [
          "2018-07-01T00:00:00",
          "2019-01-01T00:00:00",
          "2019-07-09T00:00:00",
          "2020-01-14T00:00:00",
          "2020-07-01T00:00:00",
          "2021-01-01T00:00:00",
          "2021-07-01T00:00:00",
          "2022-01-01T00:00:00",
          "2022-07-01T00:00:00"
         ],
         "xaxis": "x",
         "y": [
          2.7,
          2.8,
          2.85,
          2.85,
          2.85,
          2.85,
          2.85,
          2.85,
          3
         ],
         "yaxis": "y"
        },
        {
         "hovertemplate": "name=Slovakia<br>date=%{x}<br>dollar_price=%{y}<extra></extra>",
         "legendgroup": "Slovakia",
         "line": {
          "color": "#19d3f3",
          "dash": "solid"
         },
         "marker": {
          "symbol": "circle"
         },
         "mode": "lines",
         "name": "Slovakia",
         "orientation": "v",
         "showlegend": true,
         "type": "scatter",
         "x": [
          "2018-07-01T00:00:00",
          "2019-01-01T00:00:00",
          "2019-07-09T00:00:00",
          "2020-01-14T00:00:00",
          "2020-07-01T00:00:00",
          "2021-01-01T00:00:00",
          "2021-07-01T00:00:00",
          "2022-01-01T00:00:00",
          "2022-07-01T00:00:00"
         ],
         "xaxis": "x",
         "y": [
          3,
          3.2,
          3.2,
          3.4,
          3.6,
          3.7,
          3.7,
          3.8,
          3.9
         ],
         "yaxis": "y"
        },
        {
         "hovertemplate": "name=Slovenia<br>date=%{x}<br>dollar_price=%{y}<extra></extra>",
         "legendgroup": "Slovenia",
         "line": {
          "color": "#FF6692",
          "dash": "solid"
         },
         "marker": {
          "symbol": "circle"
         },
         "mode": "lines",
         "name": "Slovenia",
         "orientation": "v",
         "showlegend": true,
         "type": "scatter",
         "x": [
          "2018-07-01T00:00:00",
          "2019-01-01T00:00:00",
          "2019-07-09T00:00:00",
          "2020-01-14T00:00:00",
          "2020-07-01T00:00:00",
          "2021-01-01T00:00:00",
          "2021-07-01T00:00:00",
          "2022-01-01T00:00:00",
          "2022-07-01T00:00:00"
         ],
         "xaxis": "x",
         "y": [
          2.3,
          2.3,
          2.4,
          2.4,
          2.5,
          2.5,
          2.6,
          2.8,
          3.2
         ],
         "yaxis": "y"
        }
       ],
       "layout": {
        "legend": {
         "title": {
          "text": "name"
         },
         "tracegroupgap": 0
        },
        "margin": {
         "t": 60
        },
        "template": {
         "data": {
          "bar": [
           {
            "error_x": {
             "color": "#2a3f5f"
            },
            "error_y": {
             "color": "#2a3f5f"
            },
            "marker": {
             "line": {
              "color": "#E5ECF6",
              "width": 0.5
             },
             "pattern": {
              "fillmode": "overlay",
              "size": 10,
              "solidity": 0.2
             }
            },
            "type": "bar"
           }
          ],
          "barpolar": [
           {
            "marker": {
             "line": {
              "color": "#E5ECF6",
              "width": 0.5
             },
             "pattern": {
              "fillmode": "overlay",
              "size": 10,
              "solidity": 0.2
             }
            },
            "type": "barpolar"
           }
          ],
          "carpet": [
           {
            "aaxis": {
             "endlinecolor": "#2a3f5f",
             "gridcolor": "white",
             "linecolor": "white",
             "minorgridcolor": "white",
             "startlinecolor": "#2a3f5f"
            },
            "baxis": {
             "endlinecolor": "#2a3f5f",
             "gridcolor": "white",
             "linecolor": "white",
             "minorgridcolor": "white",
             "startlinecolor": "#2a3f5f"
            },
            "type": "carpet"
           }
          ],
          "choropleth": [
           {
            "colorbar": {
             "outlinewidth": 0,
             "ticks": ""
            },
            "type": "choropleth"
           }
          ],
          "contour": [
           {
            "colorbar": {
             "outlinewidth": 0,
             "ticks": ""
            },
            "colorscale": [
             [
              0,
              "#0d0887"
             ],
             [
              0.1111111111111111,
              "#46039f"
             ],
             [
              0.2222222222222222,
              "#7201a8"
             ],
             [
              0.3333333333333333,
              "#9c179e"
             ],
             [
              0.4444444444444444,
              "#bd3786"
             ],
             [
              0.5555555555555556,
              "#d8576b"
             ],
             [
              0.6666666666666666,
              "#ed7953"
             ],
             [
              0.7777777777777778,
              "#fb9f3a"
             ],
             [
              0.8888888888888888,
              "#fdca26"
             ],
             [
              1,
              "#f0f921"
             ]
            ],
            "type": "contour"
           }
          ],
          "contourcarpet": [
           {
            "colorbar": {
             "outlinewidth": 0,
             "ticks": ""
            },
            "type": "contourcarpet"
           }
          ],
          "heatmap": [
           {
            "colorbar": {
             "outlinewidth": 0,
             "ticks": ""
            },
            "colorscale": [
             [
              0,
              "#0d0887"
             ],
             [
              0.1111111111111111,
              "#46039f"
             ],
             [
              0.2222222222222222,
              "#7201a8"
             ],
             [
              0.3333333333333333,
              "#9c179e"
             ],
             [
              0.4444444444444444,
              "#bd3786"
             ],
             [
              0.5555555555555556,
              "#d8576b"
             ],
             [
              0.6666666666666666,
              "#ed7953"
             ],
             [
              0.7777777777777778,
              "#fb9f3a"
             ],
             [
              0.8888888888888888,
              "#fdca26"
             ],
             [
              1,
              "#f0f921"
             ]
            ],
            "type": "heatmap"
           }
          ],
          "heatmapgl": [
           {
            "colorbar": {
             "outlinewidth": 0,
             "ticks": ""
            },
            "colorscale": [
             [
              0,
              "#0d0887"
             ],
             [
              0.1111111111111111,
              "#46039f"
             ],
             [
              0.2222222222222222,
              "#7201a8"
             ],
             [
              0.3333333333333333,
              "#9c179e"
             ],
             [
              0.4444444444444444,
              "#bd3786"
             ],
             [
              0.5555555555555556,
              "#d8576b"
             ],
             [
              0.6666666666666666,
              "#ed7953"
             ],
             [
              0.7777777777777778,
              "#fb9f3a"
             ],
             [
              0.8888888888888888,
              "#fdca26"
             ],
             [
              1,
              "#f0f921"
             ]
            ],
            "type": "heatmapgl"
           }
          ],
          "histogram": [
           {
            "marker": {
             "pattern": {
              "fillmode": "overlay",
              "size": 10,
              "solidity": 0.2
             }
            },
            "type": "histogram"
           }
          ],
          "histogram2d": [
           {
            "colorbar": {
             "outlinewidth": 0,
             "ticks": ""
            },
            "colorscale": [
             [
              0,
              "#0d0887"
             ],
             [
              0.1111111111111111,
              "#46039f"
             ],
             [
              0.2222222222222222,
              "#7201a8"
             ],
             [
              0.3333333333333333,
              "#9c179e"
             ],
             [
              0.4444444444444444,
              "#bd3786"
             ],
             [
              0.5555555555555556,
              "#d8576b"
             ],
             [
              0.6666666666666666,
              "#ed7953"
             ],
             [
              0.7777777777777778,
              "#fb9f3a"
             ],
             [
              0.8888888888888888,
              "#fdca26"
             ],
             [
              1,
              "#f0f921"
             ]
            ],
            "type": "histogram2d"
           }
          ],
          "histogram2dcontour": [
           {
            "colorbar": {
             "outlinewidth": 0,
             "ticks": ""
            },
            "colorscale": [
             [
              0,
              "#0d0887"
             ],
             [
              0.1111111111111111,
              "#46039f"
             ],
             [
              0.2222222222222222,
              "#7201a8"
             ],
             [
              0.3333333333333333,
              "#9c179e"
             ],
             [
              0.4444444444444444,
              "#bd3786"
             ],
             [
              0.5555555555555556,
              "#d8576b"
             ],
             [
              0.6666666666666666,
              "#ed7953"
             ],
             [
              0.7777777777777778,
              "#fb9f3a"
             ],
             [
              0.8888888888888888,
              "#fdca26"
             ],
             [
              1,
              "#f0f921"
             ]
            ],
            "type": "histogram2dcontour"
           }
          ],
          "mesh3d": [
           {
            "colorbar": {
             "outlinewidth": 0,
             "ticks": ""
            },
            "type": "mesh3d"
           }
          ],
          "parcoords": [
           {
            "line": {
             "colorbar": {
              "outlinewidth": 0,
              "ticks": ""
             }
            },
            "type": "parcoords"
           }
          ],
          "pie": [
           {
            "automargin": true,
            "type": "pie"
           }
          ],
          "scatter": [
           {
            "marker": {
             "colorbar": {
              "outlinewidth": 0,
              "ticks": ""
             }
            },
            "type": "scatter"
           }
          ],
          "scatter3d": [
           {
            "line": {
             "colorbar": {
              "outlinewidth": 0,
              "ticks": ""
             }
            },
            "marker": {
             "colorbar": {
              "outlinewidth": 0,
              "ticks": ""
             }
            },
            "type": "scatter3d"
           }
          ],
          "scattercarpet": [
           {
            "marker": {
             "colorbar": {
              "outlinewidth": 0,
              "ticks": ""
             }
            },
            "type": "scattercarpet"
           }
          ],
          "scattergeo": [
           {
            "marker": {
             "colorbar": {
              "outlinewidth": 0,
              "ticks": ""
             }
            },
            "type": "scattergeo"
           }
          ],
          "scattergl": [
           {
            "marker": {
             "colorbar": {
              "outlinewidth": 0,
              "ticks": ""
             }
            },
            "type": "scattergl"
           }
          ],
          "scattermapbox": [
           {
            "marker": {
             "colorbar": {
              "outlinewidth": 0,
              "ticks": ""
             }
            },
            "type": "scattermapbox"
           }
          ],
          "scatterpolar": [
           {
            "marker": {
             "colorbar": {
              "outlinewidth": 0,
              "ticks": ""
             }
            },
            "type": "scatterpolar"
           }
          ],
          "scatterpolargl": [
           {
            "marker": {
             "colorbar": {
              "outlinewidth": 0,
              "ticks": ""
             }
            },
            "type": "scatterpolargl"
           }
          ],
          "scatterternary": [
           {
            "marker": {
             "colorbar": {
              "outlinewidth": 0,
              "ticks": ""
             }
            },
            "type": "scatterternary"
           }
          ],
          "surface": [
           {
            "colorbar": {
             "outlinewidth": 0,
             "ticks": ""
            },
            "colorscale": [
             [
              0,
              "#0d0887"
             ],
             [
              0.1111111111111111,
              "#46039f"
             ],
             [
              0.2222222222222222,
              "#7201a8"
             ],
             [
              0.3333333333333333,
              "#9c179e"
             ],
             [
              0.4444444444444444,
              "#bd3786"
             ],
             [
              0.5555555555555556,
              "#d8576b"
             ],
             [
              0.6666666666666666,
              "#ed7953"
             ],
             [
              0.7777777777777778,
              "#fb9f3a"
             ],
             [
              0.8888888888888888,
              "#fdca26"
             ],
             [
              1,
              "#f0f921"
             ]
            ],
            "type": "surface"
           }
          ],
          "table": [
           {
            "cells": {
             "fill": {
              "color": "#EBF0F8"
             },
             "line": {
              "color": "white"
             }
            },
            "header": {
             "fill": {
              "color": "#C8D4E3"
             },
             "line": {
              "color": "white"
             }
            },
            "type": "table"
           }
          ]
         },
         "layout": {
          "annotationdefaults": {
           "arrowcolor": "#2a3f5f",
           "arrowhead": 0,
           "arrowwidth": 1
          },
          "autotypenumbers": "strict",
          "coloraxis": {
           "colorbar": {
            "outlinewidth": 0,
            "ticks": ""
           }
          },
          "colorscale": {
           "diverging": [
            [
             0,
             "#8e0152"
            ],
            [
             0.1,
             "#c51b7d"
            ],
            [
             0.2,
             "#de77ae"
            ],
            [
             0.3,
             "#f1b6da"
            ],
            [
             0.4,
             "#fde0ef"
            ],
            [
             0.5,
             "#f7f7f7"
            ],
            [
             0.6,
             "#e6f5d0"
            ],
            [
             0.7,
             "#b8e186"
            ],
            [
             0.8,
             "#7fbc41"
            ],
            [
             0.9,
             "#4d9221"
            ],
            [
             1,
             "#276419"
            ]
           ],
           "sequential": [
            [
             0,
             "#0d0887"
            ],
            [
             0.1111111111111111,
             "#46039f"
            ],
            [
             0.2222222222222222,
             "#7201a8"
            ],
            [
             0.3333333333333333,
             "#9c179e"
            ],
            [
             0.4444444444444444,
             "#bd3786"
            ],
            [
             0.5555555555555556,
             "#d8576b"
            ],
            [
             0.6666666666666666,
             "#ed7953"
            ],
            [
             0.7777777777777778,
             "#fb9f3a"
            ],
            [
             0.8888888888888888,
             "#fdca26"
            ],
            [
             1,
             "#f0f921"
            ]
           ],
           "sequentialminus": [
            [
             0,
             "#0d0887"
            ],
            [
             0.1111111111111111,
             "#46039f"
            ],
            [
             0.2222222222222222,
             "#7201a8"
            ],
            [
             0.3333333333333333,
             "#9c179e"
            ],
            [
             0.4444444444444444,
             "#bd3786"
            ],
            [
             0.5555555555555556,
             "#d8576b"
            ],
            [
             0.6666666666666666,
             "#ed7953"
            ],
            [
             0.7777777777777778,
             "#fb9f3a"
            ],
            [
             0.8888888888888888,
             "#fdca26"
            ],
            [
             1,
             "#f0f921"
            ]
           ]
          },
          "colorway": [
           "#636efa",
           "#EF553B",
           "#00cc96",
           "#ab63fa",
           "#FFA15A",
           "#19d3f3",
           "#FF6692",
           "#B6E880",
           "#FF97FF",
           "#FECB52"
          ],
          "font": {
           "color": "#2a3f5f"
          },
          "geo": {
           "bgcolor": "white",
           "lakecolor": "white",
           "landcolor": "#E5ECF6",
           "showlakes": true,
           "showland": true,
           "subunitcolor": "white"
          },
          "hoverlabel": {
           "align": "left"
          },
          "hovermode": "closest",
          "mapbox": {
           "style": "light"
          },
          "paper_bgcolor": "white",
          "plot_bgcolor": "#E5ECF6",
          "polar": {
           "angularaxis": {
            "gridcolor": "white",
            "linecolor": "white",
            "ticks": ""
           },
           "bgcolor": "#E5ECF6",
           "radialaxis": {
            "gridcolor": "white",
            "linecolor": "white",
            "ticks": ""
           }
          },
          "scene": {
           "xaxis": {
            "backgroundcolor": "#E5ECF6",
            "gridcolor": "white",
            "gridwidth": 2,
            "linecolor": "white",
            "showbackground": true,
            "ticks": "",
            "zerolinecolor": "white"
           },
           "yaxis": {
            "backgroundcolor": "#E5ECF6",
            "gridcolor": "white",
            "gridwidth": 2,
            "linecolor": "white",
            "showbackground": true,
            "ticks": "",
            "zerolinecolor": "white"
           },
           "zaxis": {
            "backgroundcolor": "#E5ECF6",
            "gridcolor": "white",
            "gridwidth": 2,
            "linecolor": "white",
            "showbackground": true,
            "ticks": "",
            "zerolinecolor": "white"
           }
          },
          "shapedefaults": {
           "line": {
            "color": "#2a3f5f"
           }
          },
          "ternary": {
           "aaxis": {
            "gridcolor": "white",
            "linecolor": "white",
            "ticks": ""
           },
           "baxis": {
            "gridcolor": "white",
            "linecolor": "white",
            "ticks": ""
           },
           "bgcolor": "#E5ECF6",
           "caxis": {
            "gridcolor": "white",
            "linecolor": "white",
            "ticks": ""
           }
          },
          "title": {
           "x": 0.05
          },
          "xaxis": {
           "automargin": true,
           "gridcolor": "white",
           "linecolor": "white",
           "ticks": "",
           "title": {
            "standoff": 15
           },
           "zerolinecolor": "white",
           "zerolinewidth": 2
          },
          "yaxis": {
           "automargin": true,
           "gridcolor": "white",
           "linecolor": "white",
           "ticks": "",
           "title": {
            "standoff": 15
           },
           "zerolinecolor": "white",
           "zerolinewidth": 2
          }
         }
        },
        "title": {
         "text": "Eurozone Big Mac Prices 2000 to 2022"
        },
        "xaxis": {
         "anchor": "y",
         "domain": [
          0,
          1
         ],
         "title": {
          "text": "Date"
         }
        },
        "yaxis": {
         "anchor": "x",
         "domain": [
          0,
          1
         ],
         "title": {
          "text": "Price (USD)"
         }
        }
       }
      },
      "text/html": [
       "<div>                            <div id=\"b901d14c-56ac-4cad-98b1-dcaa0a2c90ff\" class=\"plotly-graph-div\" style=\"height:525px; width:100%;\"></div>            <script type=\"text/javascript\">                require([\"plotly\"], function(Plotly) {                    window.PLOTLYENV=window.PLOTLYENV || {};                                    if (document.getElementById(\"b901d14c-56ac-4cad-98b1-dcaa0a2c90ff\")) {                    Plotly.newPlot(                        \"b901d14c-56ac-4cad-98b1-dcaa0a2c90ff\",                        [{\"hovertemplate\":\"name=Euro area<br>date=%{x}<br>dollar_price=%{y}<extra></extra>\",\"legendgroup\":\"Euro area\",\"line\":{\"color\":\"#636efa\",\"dash\":\"solid\"},\"marker\":{\"symbol\":\"circle\"},\"mode\":\"lines\",\"name\":\"Euro area\",\"orientation\":\"v\",\"showlegend\":true,\"x\":[\"2010-01-01T00:00:00\",\"2010-07-01T00:00:00\",\"2011-07-01T00:00:00\",\"2012-01-01T00:00:00\",\"2012-07-01T00:00:00\",\"2013-01-01T00:00:00\",\"2013-07-01T00:00:00\",\"2014-01-01T00:00:00\",\"2014-07-01T00:00:00\",\"2015-01-01T00:00:00\",\"2015-07-01T00:00:00\",\"2016-01-01T00:00:00\",\"2016-07-01T00:00:00\",\"2017-01-01T00:00:00\",\"2017-07-01T00:00:00\",\"2018-01-01T00:00:00\",\"2018-07-01T00:00:00\",\"2019-01-01T00:00:00\",\"2019-07-09T00:00:00\",\"2020-01-14T00:00:00\",\"2020-07-01T00:00:00\",\"2021-01-01T00:00:00\",\"2021-07-01T00:00:00\",\"2022-01-01T00:00:00\",\"2022-07-01T00:00:00\"],\"xaxis\":\"x\",\"y\":[3.36,3.38,3.44,3.49,3.58,3.59,3.62,3.66,3.68,3.68,3.7,3.72,3.82,3.88,3.91,3.95,4.04,4.05,4.08,4.12,4.21,4.25,4.29,4.42,4.65],\"yaxis\":\"y\",\"type\":\"scatter\"},{\"hovertemplate\":\"name=Austria<br>date=%{x}<br>dollar_price=%{y}<extra></extra>\",\"legendgroup\":\"Austria\",\"line\":{\"color\":\"#EF553B\",\"dash\":\"solid\"},\"marker\":{\"symbol\":\"circle\"},\"mode\":\"lines\",\"name\":\"Austria\",\"orientation\":\"v\",\"showlegend\":true,\"x\":[\"2011-07-01T00:00:00\",\"2012-01-01T00:00:00\",\"2012-07-01T00:00:00\",\"2013-01-01T00:00:00\",\"2013-07-01T00:00:00\",\"2014-01-01T00:00:00\",\"2014-07-01T00:00:00\",\"2015-01-01T00:00:00\",\"2015-07-01T00:00:00\",\"2016-01-01T00:00:00\",\"2016-07-01T00:00:00\",\"2017-01-01T00:00:00\",\"2017-07-01T00:00:00\",\"2018-01-01T00:00:00\",\"2018-07-01T00:00:00\",\"2019-01-01T00:00:00\",\"2019-07-09T00:00:00\",\"2020-01-14T00:00:00\",\"2020-07-01T00:00:00\",\"2021-01-01T00:00:00\",\"2021-07-01T00:00:00\",\"2022-01-01T00:00:00\",\"2022-07-01T00:00:00\"],\"xaxis\":\"x\",\"y\":[3.09,3.09,3.19,3.39,3.39,3.39,3.39,3.39,3.39,3.5,3.6,3.4,3.4,3.4,3.4,3.76,3.81,3.84,3.86,3.88,3.92,3.8,4.35],\"yaxis\":\"y\",\"type\":\"scatter\"},{\"hovertemplate\":\"name=Belgium<br>date=%{x}<br>dollar_price=%{y}<extra></extra>\",\"legendgroup\":\"Belgium\",\"line\":{\"color\":\"#00cc96\",\"dash\":\"solid\"},\"marker\":{\"symbol\":\"circle\"},\"mode\":\"lines\",\"name\":\"Belgium\",\"orientation\":\"v\",\"showlegend\":true,\"x\":[\"2011-07-01T00:00:00\",\"2012-01-01T00:00:00\",\"2012-07-01T00:00:00\",\"2013-01-01T00:00:00\",\"2013-07-01T00:00:00\",\"2014-01-01T00:00:00\",\"2014-07-01T00:00:00\",\"2015-01-01T00:00:00\",\"2015-07-01T00:00:00\",\"2016-01-01T00:00:00\",\"2016-07-01T00:00:00\",\"2017-01-01T00:00:00\",\"2017-07-01T00:00:00\",\"2018-01-01T00:00:00\",\"2018-07-01T00:00:00\",\"2019-01-01T00:00:00\",\"2019-07-09T00:00:00\",\"2020-01-14T00:00:00\",\"2020-07-01T00:00:00\",\"2021-01-01T00:00:00\",\"2021-07-01T00:00:00\",\"2022-01-01T00:00:00\",\"2022-07-01T00:00:00\"],\"xaxis\":\"x\",\"y\":[3.75,3.7,3.8,3.8,3.7,3.95,3.7,3.7,3.7,3.95,3.95,3.95,4.05,4.1,4.1,4.2,4.2,4.3,4.35,4.35,4.45,4.55,4.6],\"yaxis\":\"y\",\"type\":\"scatter\"},{\"hovertemplate\":\"name=Estonia<br>date=%{x}<br>dollar_price=%{y}<extra></extra>\",\"legendgroup\":\"Estonia\",\"line\":{\"color\":\"#ab63fa\",\"dash\":\"solid\"},\"marker\":{\"symbol\":\"circle\"},\"mode\":\"lines\",\"name\":\"Estonia\",\"orientation\":\"v\",\"showlegend\":true,\"x\":[\"2011-07-01T00:00:00\",\"2012-01-01T00:00:00\",\"2012-07-01T00:00:00\",\"2013-01-01T00:00:00\",\"2013-07-01T00:00:00\",\"2014-01-01T00:00:00\",\"2014-07-01T00:00:00\",\"2015-01-01T00:00:00\",\"2015-07-01T00:00:00\",\"2016-01-01T00:00:00\",\"2016-07-01T00:00:00\",\"2017-01-01T00:00:00\",\"2017-07-01T00:00:00\",\"2018-01-01T00:00:00\",\"2018-07-01T00:00:00\",\"2019-01-01T00:00:00\",\"2019-07-09T00:00:00\",\"2020-01-14T00:00:00\",\"2020-07-01T00:00:00\",\"2021-01-01T00:00:00\",\"2021-07-01T00:00:00\",\"2022-01-01T00:00:00\",\"2022-07-01T00:00:00\"],\"xaxis\":\"x\",\"y\":[2.2,2.04,2.04,2.7,2.75,2.8,2.9,2.9,2.95,3.0,3.1,3.1,3.15,3.15,3.15,3.2,3.2,3.2,3.2,3.2,3.2,3.4,3.4],\"yaxis\":\"y\",\"type\":\"scatter\"},{\"hovertemplate\":\"name=Finland<br>date=%{x}<br>dollar_price=%{y}<extra></extra>\",\"legendgroup\":\"Finland\",\"line\":{\"color\":\"#FFA15A\",\"dash\":\"solid\"},\"marker\":{\"symbol\":\"circle\"},\"mode\":\"lines\",\"name\":\"Finland\",\"orientation\":\"v\",\"showlegend\":true,\"x\":[\"2011-07-01T00:00:00\",\"2012-01-01T00:00:00\",\"2012-07-01T00:00:00\",\"2013-01-01T00:00:00\",\"2013-07-01T00:00:00\",\"2014-01-01T00:00:00\",\"2014-07-01T00:00:00\",\"2015-01-01T00:00:00\",\"2015-07-01T00:00:00\",\"2016-01-01T00:00:00\",\"2016-07-01T00:00:00\",\"2017-01-01T00:00:00\",\"2017-07-01T00:00:00\",\"2018-01-01T00:00:00\",\"2018-07-01T00:00:00\",\"2019-01-01T00:00:00\",\"2019-07-09T00:00:00\",\"2020-01-14T00:00:00\",\"2020-07-01T00:00:00\",\"2021-01-01T00:00:00\",\"2021-07-01T00:00:00\",\"2022-01-01T00:00:00\",\"2022-07-01T00:00:00\"],\"xaxis\":\"x\",\"y\":[3.75,3.75,3.75,3.75,4.1,4.1,4.1,4.1,4.1,4.1,4.6,4.55,4.56,4.56,4.62,4.62,4.75,4.83,4.88,4.87,4.89,4.95,5.25],\"yaxis\":\"y\",\"type\":\"scatter\"},{\"hovertemplate\":\"name=France<br>date=%{x}<br>dollar_price=%{y}<extra></extra>\",\"legendgroup\":\"France\",\"line\":{\"color\":\"#19d3f3\",\"dash\":\"solid\"},\"marker\":{\"symbol\":\"circle\"},\"mode\":\"lines\",\"name\":\"France\",\"orientation\":\"v\",\"showlegend\":true,\"x\":[\"2011-07-01T00:00:00\",\"2012-01-01T00:00:00\",\"2012-07-01T00:00:00\",\"2013-01-01T00:00:00\",\"2013-07-01T00:00:00\",\"2014-01-01T00:00:00\",\"2014-07-01T00:00:00\",\"2015-01-01T00:00:00\",\"2015-07-01T00:00:00\",\"2016-01-01T00:00:00\",\"2016-07-01T00:00:00\",\"2017-01-01T00:00:00\",\"2017-07-01T00:00:00\",\"2018-01-01T00:00:00\",\"2018-07-01T00:00:00\",\"2019-01-01T00:00:00\",\"2019-07-09T00:00:00\",\"2020-01-14T00:00:00\",\"2020-07-01T00:00:00\",\"2021-01-01T00:00:00\",\"2021-07-01T00:00:00\",\"2022-01-01T00:00:00\",\"2022-07-01T00:00:00\"],\"xaxis\":\"x\",\"y\":[3.5,3.6,3.6,3.6,3.9,3.8,3.9,3.9,4.1,4.1,4.1,4.1,4.1,4.2,4.2,4.2,4.2,4.2,4.2,4.2,4.3,4.35,4.7],\"yaxis\":\"y\",\"type\":\"scatter\"},{\"hovertemplate\":\"name=Germany<br>date=%{x}<br>dollar_price=%{y}<extra></extra>\",\"legendgroup\":\"Germany\",\"line\":{\"color\":\"#FF6692\",\"dash\":\"solid\"},\"marker\":{\"symbol\":\"circle\"},\"mode\":\"lines\",\"name\":\"Germany\",\"orientation\":\"v\",\"showlegend\":true,\"x\":[\"2011-07-01T00:00:00\",\"2012-01-01T00:00:00\",\"2012-07-01T00:00:00\",\"2013-01-01T00:00:00\",\"2013-07-01T00:00:00\",\"2014-01-01T00:00:00\",\"2014-07-01T00:00:00\",\"2015-01-01T00:00:00\",\"2015-07-01T00:00:00\",\"2016-01-01T00:00:00\",\"2016-07-01T00:00:00\",\"2017-01-01T00:00:00\",\"2017-07-01T00:00:00\",\"2018-01-01T00:00:00\",\"2018-07-01T00:00:00\",\"2019-01-01T00:00:00\",\"2019-07-09T00:00:00\",\"2020-01-14T00:00:00\",\"2020-07-01T00:00:00\",\"2021-01-01T00:00:00\",\"2021-07-01T00:00:00\",\"2022-01-01T00:00:00\",\"2022-07-01T00:00:00\"],\"xaxis\":\"x\",\"y\":[3.4,3.53,3.64,3.64,3.64,3.67,3.67,3.67,3.59,3.59,3.79,3.79,3.9,3.9,4.12,4.12,4.14,4.14,4.45,4.46,4.45,4.46,4.58],\"yaxis\":\"y\",\"type\":\"scatter\"},{\"hovertemplate\":\"name=Greece<br>date=%{x}<br>dollar_price=%{y}<extra></extra>\",\"legendgroup\":\"Greece\",\"line\":{\"color\":\"#B6E880\",\"dash\":\"solid\"},\"marker\":{\"symbol\":\"circle\"},\"mode\":\"lines\",\"name\":\"Greece\",\"orientation\":\"v\",\"showlegend\":true,\"x\":[\"2011-07-01T00:00:00\",\"2012-01-01T00:00:00\",\"2012-07-01T00:00:00\",\"2013-01-01T00:00:00\",\"2013-07-01T00:00:00\",\"2014-01-01T00:00:00\",\"2014-07-01T00:00:00\",\"2015-01-01T00:00:00\",\"2015-07-01T00:00:00\",\"2016-01-01T00:00:00\",\"2016-07-01T00:00:00\",\"2017-01-01T00:00:00\",\"2017-07-01T00:00:00\",\"2018-01-01T00:00:00\",\"2018-07-01T00:00:00\",\"2019-01-01T00:00:00\",\"2019-07-09T00:00:00\",\"2020-01-14T00:00:00\",\"2020-07-01T00:00:00\",\"2021-01-01T00:00:00\",\"2021-07-01T00:00:00\",\"2022-01-01T00:00:00\",\"2022-07-01T00:00:00\"],\"xaxis\":\"x\",\"y\":[3.26,3.3,2.68,3.3,2.6,3.05,3.05,3.05,3.05,3.35,3.35,3.35,3.35,3.35,3.35,3.35,3.3,3.3,3.3,3.3,3.3,3.4,4.0],\"yaxis\":\"y\",\"type\":\"scatter\"},{\"hovertemplate\":\"name=Ireland<br>date=%{x}<br>dollar_price=%{y}<extra></extra>\",\"legendgroup\":\"Ireland\",\"line\":{\"color\":\"#FF97FF\",\"dash\":\"solid\"},\"marker\":{\"symbol\":\"circle\"},\"mode\":\"lines\",\"name\":\"Ireland\",\"orientation\":\"v\",\"showlegend\":true,\"x\":[\"2011-07-01T00:00:00\",\"2012-01-01T00:00:00\",\"2012-07-01T00:00:00\",\"2013-01-01T00:00:00\",\"2013-07-01T00:00:00\",\"2014-01-01T00:00:00\",\"2014-07-01T00:00:00\",\"2015-01-01T00:00:00\",\"2015-07-01T00:00:00\",\"2016-01-01T00:00:00\",\"2016-07-01T00:00:00\",\"2017-01-01T00:00:00\",\"2017-07-01T00:00:00\",\"2018-01-01T00:00:00\",\"2018-07-01T00:00:00\",\"2019-01-01T00:00:00\",\"2019-07-09T00:00:00\",\"2020-01-14T00:00:00\",\"2020-07-01T00:00:00\",\"2021-01-01T00:00:00\",\"2021-07-01T00:00:00\",\"2022-01-01T00:00:00\",\"2022-07-01T00:00:00\"],\"xaxis\":\"x\",\"y\":[3.8,3.8,3.49,3.49,3.46,3.46,3.49,3.49,3.7,3.95,4.0,4.0,4.07,4.07,4.07,4.07,4.3,4.2,4.3,4.4,4.5,4.6,5.0],\"yaxis\":\"y\",\"type\":\"scatter\"},{\"hovertemplate\":\"name=Italy<br>date=%{x}<br>dollar_price=%{y}<extra></extra>\",\"legendgroup\":\"Italy\",\"line\":{\"color\":\"#FECB52\",\"dash\":\"solid\"},\"marker\":{\"symbol\":\"circle\"},\"mode\":\"lines\",\"name\":\"Italy\",\"orientation\":\"v\",\"showlegend\":true,\"x\":[\"2011-07-01T00:00:00\",\"2012-01-01T00:00:00\",\"2012-07-01T00:00:00\",\"2013-01-01T00:00:00\",\"2013-07-01T00:00:00\",\"2014-01-01T00:00:00\",\"2014-07-01T00:00:00\",\"2015-01-01T00:00:00\",\"2015-07-01T00:00:00\",\"2016-01-01T00:00:00\",\"2016-07-01T00:00:00\",\"2017-01-01T00:00:00\",\"2017-07-01T00:00:00\",\"2018-01-01T00:00:00\",\"2018-07-01T00:00:00\",\"2019-01-01T00:00:00\",\"2019-07-09T00:00:00\",\"2020-01-14T00:00:00\",\"2020-07-01T00:00:00\",\"2021-01-01T00:00:00\",\"2021-07-01T00:00:00\",\"2022-01-01T00:00:00\",\"2022-07-01T00:00:00\"],\"xaxis\":\"x\",\"y\":[3.5,3.5,3.6,3.85,3.75,3.85,3.85,3.85,4.0,4.0,4.2,4.2,4.2,4.2,4.2,4.2,4.3,4.3,4.3,4.3,4.3,4.8,5.1],\"yaxis\":\"y\",\"type\":\"scatter\"},{\"hovertemplate\":\"name=Netherlands<br>date=%{x}<br>dollar_price=%{y}<extra></extra>\",\"legendgroup\":\"Netherlands\",\"line\":{\"color\":\"#636efa\",\"dash\":\"solid\"},\"marker\":{\"symbol\":\"circle\"},\"mode\":\"lines\",\"name\":\"Netherlands\",\"orientation\":\"v\",\"showlegend\":true,\"x\":[\"2011-07-01T00:00:00\",\"2012-01-01T00:00:00\",\"2012-07-01T00:00:00\",\"2013-01-01T00:00:00\",\"2013-07-01T00:00:00\",\"2014-01-01T00:00:00\",\"2014-07-01T00:00:00\",\"2015-01-01T00:00:00\",\"2015-07-01T00:00:00\",\"2016-01-01T00:00:00\",\"2016-07-01T00:00:00\",\"2017-01-01T00:00:00\",\"2017-07-01T00:00:00\",\"2018-01-01T00:00:00\",\"2018-07-01T00:00:00\",\"2019-01-01T00:00:00\",\"2019-07-09T00:00:00\",\"2020-01-14T00:00:00\",\"2020-07-01T00:00:00\",\"2021-01-01T00:00:00\",\"2021-07-01T00:00:00\",\"2022-01-01T00:00:00\",\"2022-07-01T00:00:00\"],\"xaxis\":\"x\",\"y\":[3.25,3.25,3.38,3.45,3.45,3.45,3.45,3.45,3.45,3.45,3.45,3.61,3.61,3.71,3.79,4.0,4.06,4.09,4.09,4.13,4.22,4.4,4.5],\"yaxis\":\"y\",\"type\":\"scatter\"},{\"hovertemplate\":\"name=Portugal<br>date=%{x}<br>dollar_price=%{y}<extra></extra>\",\"legendgroup\":\"Portugal\",\"line\":{\"color\":\"#EF553B\",\"dash\":\"solid\"},\"marker\":{\"symbol\":\"circle\"},\"mode\":\"lines\",\"name\":\"Portugal\",\"orientation\":\"v\",\"showlegend\":true,\"x\":[\"2011-07-01T00:00:00\",\"2012-01-01T00:00:00\",\"2012-07-01T00:00:00\",\"2013-01-01T00:00:00\",\"2013-07-01T00:00:00\",\"2014-01-01T00:00:00\",\"2014-07-01T00:00:00\",\"2015-01-01T00:00:00\",\"2015-07-01T00:00:00\",\"2016-01-01T00:00:00\",\"2016-07-01T00:00:00\",\"2017-01-01T00:00:00\",\"2017-07-01T00:00:00\",\"2018-01-01T00:00:00\",\"2018-07-01T00:00:00\",\"2019-01-01T00:00:00\",\"2019-07-09T00:00:00\",\"2020-01-14T00:00:00\",\"2020-07-01T00:00:00\",\"2021-01-01T00:00:00\",\"2021-07-01T00:00:00\",\"2022-01-01T00:00:00\",\"2022-07-01T00:00:00\"],\"xaxis\":\"x\",\"y\":[2.9,2.9,4.95,2.95,2.95,3.0,3.0,3.0,3.0,3.0,3.05,3.05,3.25,3.2,3.25,3.25,3.25,3.25,3.45,3.45,3.45,3.45,4.0],\"yaxis\":\"y\",\"type\":\"scatter\"},{\"hovertemplate\":\"name=Spain<br>date=%{x}<br>dollar_price=%{y}<extra></extra>\",\"legendgroup\":\"Spain\",\"line\":{\"color\":\"#00cc96\",\"dash\":\"solid\"},\"marker\":{\"symbol\":\"circle\"},\"mode\":\"lines\",\"name\":\"Spain\",\"orientation\":\"v\",\"showlegend\":true,\"x\":[\"2011-07-01T00:00:00\",\"2012-01-01T00:00:00\",\"2012-07-01T00:00:00\",\"2013-01-01T00:00:00\",\"2013-07-01T00:00:00\",\"2014-01-01T00:00:00\",\"2014-07-01T00:00:00\",\"2015-01-01T00:00:00\",\"2015-07-01T00:00:00\",\"2016-01-01T00:00:00\",\"2016-07-01T00:00:00\",\"2017-01-01T00:00:00\",\"2017-07-01T00:00:00\",\"2018-01-01T00:00:00\",\"2018-07-01T00:00:00\",\"2019-01-01T00:00:00\",\"2019-07-09T00:00:00\",\"2020-01-14T00:00:00\",\"2020-07-01T00:00:00\",\"2021-01-01T00:00:00\",\"2021-07-01T00:00:00\",\"2022-01-01T00:00:00\",\"2022-07-01T00:00:00\"],\"xaxis\":\"x\",\"y\":[3.5,3.5,3.5,3.5,3.5,3.65,3.65,3.65,3.65,3.5,3.5,3.95,3.8,3.95,4.1,3.95,3.95,4.2,4.1,4.33,4.4,4.58,4.58],\"yaxis\":\"y\",\"type\":\"scatter\"},{\"hovertemplate\":\"name=Lithuania<br>date=%{x}<br>dollar_price=%{y}<extra></extra>\",\"legendgroup\":\"Lithuania\",\"line\":{\"color\":\"#ab63fa\",\"dash\":\"solid\"},\"marker\":{\"symbol\":\"circle\"},\"mode\":\"lines\",\"name\":\"Lithuania\",\"orientation\":\"v\",\"showlegend\":true,\"x\":[\"2014-01-01T00:00:00\",\"2014-07-01T00:00:00\",\"2018-07-01T00:00:00\",\"2019-01-01T00:00:00\",\"2019-07-09T00:00:00\",\"2020-01-14T00:00:00\",\"2020-07-01T00:00:00\",\"2021-01-01T00:00:00\",\"2021-07-01T00:00:00\",\"2022-01-01T00:00:00\",\"2022-07-01T00:00:00\"],\"xaxis\":\"x\",\"y\":[4.4,4.47,2.8,2.85,2.85,2.85,2.85,2.9,2.9,2.9,3.05],\"yaxis\":\"y\",\"type\":\"scatter\"},{\"hovertemplate\":\"name=Latvia<br>date=%{x}<br>dollar_price=%{y}<extra></extra>\",\"legendgroup\":\"Latvia\",\"line\":{\"color\":\"#FFA15A\",\"dash\":\"solid\"},\"marker\":{\"symbol\":\"circle\"},\"mode\":\"lines\",\"name\":\"Latvia\",\"orientation\":\"v\",\"showlegend\":true,\"x\":[\"2018-07-01T00:00:00\",\"2019-01-01T00:00:00\",\"2019-07-09T00:00:00\",\"2020-01-14T00:00:00\",\"2020-07-01T00:00:00\",\"2021-01-01T00:00:00\",\"2021-07-01T00:00:00\",\"2022-01-01T00:00:00\",\"2022-07-01T00:00:00\"],\"xaxis\":\"x\",\"y\":[2.7,2.8,2.85,2.85,2.85,2.85,2.85,2.85,3.0],\"yaxis\":\"y\",\"type\":\"scatter\"},{\"hovertemplate\":\"name=Slovakia<br>date=%{x}<br>dollar_price=%{y}<extra></extra>\",\"legendgroup\":\"Slovakia\",\"line\":{\"color\":\"#19d3f3\",\"dash\":\"solid\"},\"marker\":{\"symbol\":\"circle\"},\"mode\":\"lines\",\"name\":\"Slovakia\",\"orientation\":\"v\",\"showlegend\":true,\"x\":[\"2018-07-01T00:00:00\",\"2019-01-01T00:00:00\",\"2019-07-09T00:00:00\",\"2020-01-14T00:00:00\",\"2020-07-01T00:00:00\",\"2021-01-01T00:00:00\",\"2021-07-01T00:00:00\",\"2022-01-01T00:00:00\",\"2022-07-01T00:00:00\"],\"xaxis\":\"x\",\"y\":[3.0,3.2,3.2,3.4,3.6,3.7,3.7,3.8,3.9],\"yaxis\":\"y\",\"type\":\"scatter\"},{\"hovertemplate\":\"name=Slovenia<br>date=%{x}<br>dollar_price=%{y}<extra></extra>\",\"legendgroup\":\"Slovenia\",\"line\":{\"color\":\"#FF6692\",\"dash\":\"solid\"},\"marker\":{\"symbol\":\"circle\"},\"mode\":\"lines\",\"name\":\"Slovenia\",\"orientation\":\"v\",\"showlegend\":true,\"x\":[\"2018-07-01T00:00:00\",\"2019-01-01T00:00:00\",\"2019-07-09T00:00:00\",\"2020-01-14T00:00:00\",\"2020-07-01T00:00:00\",\"2021-01-01T00:00:00\",\"2021-07-01T00:00:00\",\"2022-01-01T00:00:00\",\"2022-07-01T00:00:00\"],\"xaxis\":\"x\",\"y\":[2.3,2.3,2.4,2.4,2.5,2.5,2.6,2.8,3.2],\"yaxis\":\"y\",\"type\":\"scatter\"}],                        {\"template\":{\"data\":{\"bar\":[{\"error_x\":{\"color\":\"#2a3f5f\"},\"error_y\":{\"color\":\"#2a3f5f\"},\"marker\":{\"line\":{\"color\":\"#E5ECF6\",\"width\":0.5},\"pattern\":{\"fillmode\":\"overlay\",\"size\":10,\"solidity\":0.2}},\"type\":\"bar\"}],\"barpolar\":[{\"marker\":{\"line\":{\"color\":\"#E5ECF6\",\"width\":0.5},\"pattern\":{\"fillmode\":\"overlay\",\"size\":10,\"solidity\":0.2}},\"type\":\"barpolar\"}],\"carpet\":[{\"aaxis\":{\"endlinecolor\":\"#2a3f5f\",\"gridcolor\":\"white\",\"linecolor\":\"white\",\"minorgridcolor\":\"white\",\"startlinecolor\":\"#2a3f5f\"},\"baxis\":{\"endlinecolor\":\"#2a3f5f\",\"gridcolor\":\"white\",\"linecolor\":\"white\",\"minorgridcolor\":\"white\",\"startlinecolor\":\"#2a3f5f\"},\"type\":\"carpet\"}],\"choropleth\":[{\"colorbar\":{\"outlinewidth\":0,\"ticks\":\"\"},\"type\":\"choropleth\"}],\"contour\":[{\"colorbar\":{\"outlinewidth\":0,\"ticks\":\"\"},\"colorscale\":[[0.0,\"#0d0887\"],[0.1111111111111111,\"#46039f\"],[0.2222222222222222,\"#7201a8\"],[0.3333333333333333,\"#9c179e\"],[0.4444444444444444,\"#bd3786\"],[0.5555555555555556,\"#d8576b\"],[0.6666666666666666,\"#ed7953\"],[0.7777777777777778,\"#fb9f3a\"],[0.8888888888888888,\"#fdca26\"],[1.0,\"#f0f921\"]],\"type\":\"contour\"}],\"contourcarpet\":[{\"colorbar\":{\"outlinewidth\":0,\"ticks\":\"\"},\"type\":\"contourcarpet\"}],\"heatmap\":[{\"colorbar\":{\"outlinewidth\":0,\"ticks\":\"\"},\"colorscale\":[[0.0,\"#0d0887\"],[0.1111111111111111,\"#46039f\"],[0.2222222222222222,\"#7201a8\"],[0.3333333333333333,\"#9c179e\"],[0.4444444444444444,\"#bd3786\"],[0.5555555555555556,\"#d8576b\"],[0.6666666666666666,\"#ed7953\"],[0.7777777777777778,\"#fb9f3a\"],[0.8888888888888888,\"#fdca26\"],[1.0,\"#f0f921\"]],\"type\":\"heatmap\"}],\"heatmapgl\":[{\"colorbar\":{\"outlinewidth\":0,\"ticks\":\"\"},\"colorscale\":[[0.0,\"#0d0887\"],[0.1111111111111111,\"#46039f\"],[0.2222222222222222,\"#7201a8\"],[0.3333333333333333,\"#9c179e\"],[0.4444444444444444,\"#bd3786\"],[0.5555555555555556,\"#d8576b\"],[0.6666666666666666,\"#ed7953\"],[0.7777777777777778,\"#fb9f3a\"],[0.8888888888888888,\"#fdca26\"],[1.0,\"#f0f921\"]],\"type\":\"heatmapgl\"}],\"histogram\":[{\"marker\":{\"pattern\":{\"fillmode\":\"overlay\",\"size\":10,\"solidity\":0.2}},\"type\":\"histogram\"}],\"histogram2d\":[{\"colorbar\":{\"outlinewidth\":0,\"ticks\":\"\"},\"colorscale\":[[0.0,\"#0d0887\"],[0.1111111111111111,\"#46039f\"],[0.2222222222222222,\"#7201a8\"],[0.3333333333333333,\"#9c179e\"],[0.4444444444444444,\"#bd3786\"],[0.5555555555555556,\"#d8576b\"],[0.6666666666666666,\"#ed7953\"],[0.7777777777777778,\"#fb9f3a\"],[0.8888888888888888,\"#fdca26\"],[1.0,\"#f0f921\"]],\"type\":\"histogram2d\"}],\"histogram2dcontour\":[{\"colorbar\":{\"outlinewidth\":0,\"ticks\":\"\"},\"colorscale\":[[0.0,\"#0d0887\"],[0.1111111111111111,\"#46039f\"],[0.2222222222222222,\"#7201a8\"],[0.3333333333333333,\"#9c179e\"],[0.4444444444444444,\"#bd3786\"],[0.5555555555555556,\"#d8576b\"],[0.6666666666666666,\"#ed7953\"],[0.7777777777777778,\"#fb9f3a\"],[0.8888888888888888,\"#fdca26\"],[1.0,\"#f0f921\"]],\"type\":\"histogram2dcontour\"}],\"mesh3d\":[{\"colorbar\":{\"outlinewidth\":0,\"ticks\":\"\"},\"type\":\"mesh3d\"}],\"parcoords\":[{\"line\":{\"colorbar\":{\"outlinewidth\":0,\"ticks\":\"\"}},\"type\":\"parcoords\"}],\"pie\":[{\"automargin\":true,\"type\":\"pie\"}],\"scatter\":[{\"marker\":{\"colorbar\":{\"outlinewidth\":0,\"ticks\":\"\"}},\"type\":\"scatter\"}],\"scatter3d\":[{\"line\":{\"colorbar\":{\"outlinewidth\":0,\"ticks\":\"\"}},\"marker\":{\"colorbar\":{\"outlinewidth\":0,\"ticks\":\"\"}},\"type\":\"scatter3d\"}],\"scattercarpet\":[{\"marker\":{\"colorbar\":{\"outlinewidth\":0,\"ticks\":\"\"}},\"type\":\"scattercarpet\"}],\"scattergeo\":[{\"marker\":{\"colorbar\":{\"outlinewidth\":0,\"ticks\":\"\"}},\"type\":\"scattergeo\"}],\"scattergl\":[{\"marker\":{\"colorbar\":{\"outlinewidth\":0,\"ticks\":\"\"}},\"type\":\"scattergl\"}],\"scattermapbox\":[{\"marker\":{\"colorbar\":{\"outlinewidth\":0,\"ticks\":\"\"}},\"type\":\"scattermapbox\"}],\"scatterpolar\":[{\"marker\":{\"colorbar\":{\"outlinewidth\":0,\"ticks\":\"\"}},\"type\":\"scatterpolar\"}],\"scatterpolargl\":[{\"marker\":{\"colorbar\":{\"outlinewidth\":0,\"ticks\":\"\"}},\"type\":\"scatterpolargl\"}],\"scatterternary\":[{\"marker\":{\"colorbar\":{\"outlinewidth\":0,\"ticks\":\"\"}},\"type\":\"scatterternary\"}],\"surface\":[{\"colorbar\":{\"outlinewidth\":0,\"ticks\":\"\"},\"colorscale\":[[0.0,\"#0d0887\"],[0.1111111111111111,\"#46039f\"],[0.2222222222222222,\"#7201a8\"],[0.3333333333333333,\"#9c179e\"],[0.4444444444444444,\"#bd3786\"],[0.5555555555555556,\"#d8576b\"],[0.6666666666666666,\"#ed7953\"],[0.7777777777777778,\"#fb9f3a\"],[0.8888888888888888,\"#fdca26\"],[1.0,\"#f0f921\"]],\"type\":\"surface\"}],\"table\":[{\"cells\":{\"fill\":{\"color\":\"#EBF0F8\"},\"line\":{\"color\":\"white\"}},\"header\":{\"fill\":{\"color\":\"#C8D4E3\"},\"line\":{\"color\":\"white\"}},\"type\":\"table\"}]},\"layout\":{\"annotationdefaults\":{\"arrowcolor\":\"#2a3f5f\",\"arrowhead\":0,\"arrowwidth\":1},\"autotypenumbers\":\"strict\",\"coloraxis\":{\"colorbar\":{\"outlinewidth\":0,\"ticks\":\"\"}},\"colorscale\":{\"diverging\":[[0,\"#8e0152\"],[0.1,\"#c51b7d\"],[0.2,\"#de77ae\"],[0.3,\"#f1b6da\"],[0.4,\"#fde0ef\"],[0.5,\"#f7f7f7\"],[0.6,\"#e6f5d0\"],[0.7,\"#b8e186\"],[0.8,\"#7fbc41\"],[0.9,\"#4d9221\"],[1,\"#276419\"]],\"sequential\":[[0.0,\"#0d0887\"],[0.1111111111111111,\"#46039f\"],[0.2222222222222222,\"#7201a8\"],[0.3333333333333333,\"#9c179e\"],[0.4444444444444444,\"#bd3786\"],[0.5555555555555556,\"#d8576b\"],[0.6666666666666666,\"#ed7953\"],[0.7777777777777778,\"#fb9f3a\"],[0.8888888888888888,\"#fdca26\"],[1.0,\"#f0f921\"]],\"sequentialminus\":[[0.0,\"#0d0887\"],[0.1111111111111111,\"#46039f\"],[0.2222222222222222,\"#7201a8\"],[0.3333333333333333,\"#9c179e\"],[0.4444444444444444,\"#bd3786\"],[0.5555555555555556,\"#d8576b\"],[0.6666666666666666,\"#ed7953\"],[0.7777777777777778,\"#fb9f3a\"],[0.8888888888888888,\"#fdca26\"],[1.0,\"#f0f921\"]]},\"colorway\":[\"#636efa\",\"#EF553B\",\"#00cc96\",\"#ab63fa\",\"#FFA15A\",\"#19d3f3\",\"#FF6692\",\"#B6E880\",\"#FF97FF\",\"#FECB52\"],\"font\":{\"color\":\"#2a3f5f\"},\"geo\":{\"bgcolor\":\"white\",\"lakecolor\":\"white\",\"landcolor\":\"#E5ECF6\",\"showlakes\":true,\"showland\":true,\"subunitcolor\":\"white\"},\"hoverlabel\":{\"align\":\"left\"},\"hovermode\":\"closest\",\"mapbox\":{\"style\":\"light\"},\"paper_bgcolor\":\"white\",\"plot_bgcolor\":\"#E5ECF6\",\"polar\":{\"angularaxis\":{\"gridcolor\":\"white\",\"linecolor\":\"white\",\"ticks\":\"\"},\"bgcolor\":\"#E5ECF6\",\"radialaxis\":{\"gridcolor\":\"white\",\"linecolor\":\"white\",\"ticks\":\"\"}},\"scene\":{\"xaxis\":{\"backgroundcolor\":\"#E5ECF6\",\"gridcolor\":\"white\",\"gridwidth\":2,\"linecolor\":\"white\",\"showbackground\":true,\"ticks\":\"\",\"zerolinecolor\":\"white\"},\"yaxis\":{\"backgroundcolor\":\"#E5ECF6\",\"gridcolor\":\"white\",\"gridwidth\":2,\"linecolor\":\"white\",\"showbackground\":true,\"ticks\":\"\",\"zerolinecolor\":\"white\"},\"zaxis\":{\"backgroundcolor\":\"#E5ECF6\",\"gridcolor\":\"white\",\"gridwidth\":2,\"linecolor\":\"white\",\"showbackground\":true,\"ticks\":\"\",\"zerolinecolor\":\"white\"}},\"shapedefaults\":{\"line\":{\"color\":\"#2a3f5f\"}},\"ternary\":{\"aaxis\":{\"gridcolor\":\"white\",\"linecolor\":\"white\",\"ticks\":\"\"},\"baxis\":{\"gridcolor\":\"white\",\"linecolor\":\"white\",\"ticks\":\"\"},\"bgcolor\":\"#E5ECF6\",\"caxis\":{\"gridcolor\":\"white\",\"linecolor\":\"white\",\"ticks\":\"\"}},\"title\":{\"x\":0.05},\"xaxis\":{\"automargin\":true,\"gridcolor\":\"white\",\"linecolor\":\"white\",\"ticks\":\"\",\"title\":{\"standoff\":15},\"zerolinecolor\":\"white\",\"zerolinewidth\":2},\"yaxis\":{\"automargin\":true,\"gridcolor\":\"white\",\"linecolor\":\"white\",\"ticks\":\"\",\"title\":{\"standoff\":15},\"zerolinecolor\":\"white\",\"zerolinewidth\":2}}},\"xaxis\":{\"anchor\":\"y\",\"domain\":[0.0,1.0],\"title\":{\"text\":\"Date\"}},\"yaxis\":{\"anchor\":\"x\",\"domain\":[0.0,1.0],\"title\":{\"text\":\"Price (USD)\"}},\"legend\":{\"title\":{\"text\":\"name\"},\"tracegroupgap\":0},\"margin\":{\"t\":60},\"title\":{\"text\":\"Eurozone Big Mac Prices 2000 to 2022\"}},                        {\"responsive\": true}                    ).then(function(){\n",
       "                            \n",
       "var gd = document.getElementById('b901d14c-56ac-4cad-98b1-dcaa0a2c90ff');\n",
       "var x = new MutationObserver(function (mutations, observer) {{\n",
       "        var display = window.getComputedStyle(gd).display;\n",
       "        if (!display || display === 'none') {{\n",
       "            console.log([gd, 'removed!']);\n",
       "            Plotly.purge(gd);\n",
       "            observer.disconnect();\n",
       "        }}\n",
       "}});\n",
       "\n",
       "// Listen for the removal of the full notebook cells\n",
       "var notebookContainer = gd.closest('#notebook-container');\n",
       "if (notebookContainer) {{\n",
       "    x.observe(notebookContainer, {childList: true});\n",
       "}}\n",
       "\n",
       "// Listen for the clearing of the current output cell\n",
       "var outputEl = gd.closest('.output');\n",
       "if (outputEl) {{\n",
       "    x.observe(outputEl, {childList: true});\n",
       "}}\n",
       "\n",
       "                        })                };                });            </script>        </div>"
      ]
     },
     "metadata": {},
     "output_type": "display_data"
    }
   ],
   "source": [
    "fig = px.line(df_eurozone_post2010, x=\"date\", y=\"dollar_price\", color='name')\n",
    "fig.update_layout(title='Eurozone Big Mac Prices 2000 to 2022',\n",
    "                    xaxis_title='Date', yaxis_title='Price (USD)')\n",
    "fig.show()"
   ]
  },
  {
   "cell_type": "code",
   "execution_count": 85,
   "id": "1656f3a6",
   "metadata": {},
   "outputs": [
    {
     "data": {
      "application/vnd.plotly.v1+json": {
       "config": {
        "plotlyServerURL": "https://plot.ly"
       },
       "data": [
        {
         "hovertemplate": "name=Euro area<br>date=%{x}<br>dollar_price=%{y}<extra></extra>",
         "legendgroup": "Euro area",
         "line": {
          "color": "#636efa",
          "dash": "solid"
         },
         "marker": {
          "symbol": "circle"
         },
         "mode": "lines",
         "name": "Euro area",
         "orientation": "v",
         "showlegend": true,
         "type": "scatter",
         "x": [
          "2000-04-01T00:00:00",
          "2001-04-01T00:00:00",
          "2002-04-01T00:00:00",
          "2003-04-01T00:00:00",
          "2004-05-01T00:00:00",
          "2005-06-01T00:00:00",
          "2006-01-01T00:00:00",
          "2006-05-01T00:00:00",
          "2007-01-01T00:00:00",
          "2007-06-01T00:00:00",
          "2008-06-01T00:00:00",
          "2009-07-01T00:00:00",
          "2010-01-01T00:00:00",
          "2010-07-01T00:00:00",
          "2011-07-01T00:00:00",
          "2012-01-01T00:00:00",
          "2012-07-01T00:00:00",
          "2013-01-01T00:00:00",
          "2013-07-01T00:00:00",
          "2014-01-01T00:00:00",
          "2014-07-01T00:00:00",
          "2015-01-01T00:00:00",
          "2015-07-01T00:00:00",
          "2016-01-01T00:00:00",
          "2016-07-01T00:00:00",
          "2017-01-01T00:00:00",
          "2017-07-01T00:00:00",
          "2018-01-01T00:00:00",
          "2018-07-01T00:00:00",
          "2019-01-01T00:00:00",
          "2019-07-09T00:00:00",
          "2020-01-14T00:00:00",
          "2020-07-01T00:00:00",
          "2021-01-01T00:00:00",
          "2021-07-01T00:00:00",
          "2022-01-01T00:00:00",
          "2022-07-01T00:00:00"
         ],
         "xaxis": "x",
         "y": [
          2.56,
          2.57,
          2.67,
          2.71,
          2.74,
          2.92,
          2.91,
          2.94,
          2.94,
          3.06,
          3.37,
          3.31,
          3.36,
          3.38,
          3.44,
          3.49,
          3.58,
          3.59,
          3.62,
          3.66,
          3.68,
          3.68,
          3.7,
          3.72,
          3.82,
          3.88,
          3.91,
          3.95,
          4.04,
          4.05,
          4.08,
          4.12,
          4.21,
          4.25,
          4.29,
          4.42,
          4.65
         ],
         "yaxis": "y"
        },
        {
         "hovertemplate": "name=Austria<br>date=%{x}<br>dollar_price=%{y}<extra></extra>",
         "legendgroup": "Austria",
         "line": {
          "color": "#EF553B",
          "dash": "solid"
         },
         "marker": {
          "symbol": "circle"
         },
         "mode": "lines",
         "name": "Austria",
         "orientation": "v",
         "showlegend": true,
         "type": "scatter",
         "x": [
          "2011-07-01T00:00:00",
          "2012-01-01T00:00:00",
          "2012-07-01T00:00:00",
          "2013-01-01T00:00:00",
          "2013-07-01T00:00:00",
          "2014-01-01T00:00:00",
          "2014-07-01T00:00:00",
          "2015-01-01T00:00:00",
          "2015-07-01T00:00:00",
          "2016-01-01T00:00:00",
          "2016-07-01T00:00:00",
          "2017-01-01T00:00:00",
          "2017-07-01T00:00:00",
          "2018-01-01T00:00:00",
          "2018-07-01T00:00:00",
          "2019-01-01T00:00:00",
          "2019-07-09T00:00:00",
          "2020-01-14T00:00:00",
          "2020-07-01T00:00:00",
          "2021-01-01T00:00:00",
          "2021-07-01T00:00:00",
          "2022-01-01T00:00:00",
          "2022-07-01T00:00:00"
         ],
         "xaxis": "x",
         "y": [
          3.09,
          3.09,
          3.19,
          3.39,
          3.39,
          3.39,
          3.39,
          3.39,
          3.39,
          3.5,
          3.6,
          3.4,
          3.4,
          3.4,
          3.4,
          3.76,
          3.81,
          3.84,
          3.86,
          3.88,
          3.92,
          3.8,
          4.35
         ],
         "yaxis": "y"
        },
        {
         "hovertemplate": "name=Belgium<br>date=%{x}<br>dollar_price=%{y}<extra></extra>",
         "legendgroup": "Belgium",
         "line": {
          "color": "#00cc96",
          "dash": "solid"
         },
         "marker": {
          "symbol": "circle"
         },
         "mode": "lines",
         "name": "Belgium",
         "orientation": "v",
         "showlegend": true,
         "type": "scatter",
         "x": [
          "2011-07-01T00:00:00",
          "2012-01-01T00:00:00",
          "2012-07-01T00:00:00",
          "2013-01-01T00:00:00",
          "2013-07-01T00:00:00",
          "2014-01-01T00:00:00",
          "2014-07-01T00:00:00",
          "2015-01-01T00:00:00",
          "2015-07-01T00:00:00",
          "2016-01-01T00:00:00",
          "2016-07-01T00:00:00",
          "2017-01-01T00:00:00",
          "2017-07-01T00:00:00",
          "2018-01-01T00:00:00",
          "2018-07-01T00:00:00",
          "2019-01-01T00:00:00",
          "2019-07-09T00:00:00",
          "2020-01-14T00:00:00",
          "2020-07-01T00:00:00",
          "2021-01-01T00:00:00",
          "2021-07-01T00:00:00",
          "2022-01-01T00:00:00",
          "2022-07-01T00:00:00"
         ],
         "xaxis": "x",
         "y": [
          3.75,
          3.7,
          3.8,
          3.8,
          3.7,
          3.95,
          3.7,
          3.7,
          3.7,
          3.95,
          3.95,
          3.95,
          4.05,
          4.1,
          4.1,
          4.2,
          4.2,
          4.3,
          4.35,
          4.35,
          4.45,
          4.55,
          4.6
         ],
         "yaxis": "y"
        },
        {
         "hovertemplate": "name=Estonia<br>date=%{x}<br>dollar_price=%{y}<extra></extra>",
         "legendgroup": "Estonia",
         "line": {
          "color": "#ab63fa",
          "dash": "solid"
         },
         "marker": {
          "symbol": "circle"
         },
         "mode": "lines",
         "name": "Estonia",
         "orientation": "v",
         "showlegend": true,
         "type": "scatter",
         "x": [
          "2011-07-01T00:00:00",
          "2012-01-01T00:00:00",
          "2012-07-01T00:00:00",
          "2013-01-01T00:00:00",
          "2013-07-01T00:00:00",
          "2014-01-01T00:00:00",
          "2014-07-01T00:00:00",
          "2015-01-01T00:00:00",
          "2015-07-01T00:00:00",
          "2016-01-01T00:00:00",
          "2016-07-01T00:00:00",
          "2017-01-01T00:00:00",
          "2017-07-01T00:00:00",
          "2018-01-01T00:00:00",
          "2018-07-01T00:00:00",
          "2019-01-01T00:00:00",
          "2019-07-09T00:00:00",
          "2020-01-14T00:00:00",
          "2020-07-01T00:00:00",
          "2021-01-01T00:00:00",
          "2021-07-01T00:00:00",
          "2022-01-01T00:00:00",
          "2022-07-01T00:00:00"
         ],
         "xaxis": "x",
         "y": [
          2.2,
          2.04,
          2.04,
          2.7,
          2.75,
          2.8,
          2.9,
          2.9,
          2.95,
          3,
          3.1,
          3.1,
          3.15,
          3.15,
          3.15,
          3.2,
          3.2,
          3.2,
          3.2,
          3.2,
          3.2,
          3.4,
          3.4
         ],
         "yaxis": "y"
        },
        {
         "hovertemplate": "name=Finland<br>date=%{x}<br>dollar_price=%{y}<extra></extra>",
         "legendgroup": "Finland",
         "line": {
          "color": "#FFA15A",
          "dash": "solid"
         },
         "marker": {
          "symbol": "circle"
         },
         "mode": "lines",
         "name": "Finland",
         "orientation": "v",
         "showlegend": true,
         "type": "scatter",
         "x": [
          "2011-07-01T00:00:00",
          "2012-01-01T00:00:00",
          "2012-07-01T00:00:00",
          "2013-01-01T00:00:00",
          "2013-07-01T00:00:00",
          "2014-01-01T00:00:00",
          "2014-07-01T00:00:00",
          "2015-01-01T00:00:00",
          "2015-07-01T00:00:00",
          "2016-01-01T00:00:00",
          "2016-07-01T00:00:00",
          "2017-01-01T00:00:00",
          "2017-07-01T00:00:00",
          "2018-01-01T00:00:00",
          "2018-07-01T00:00:00",
          "2019-01-01T00:00:00",
          "2019-07-09T00:00:00",
          "2020-01-14T00:00:00",
          "2020-07-01T00:00:00",
          "2021-01-01T00:00:00",
          "2021-07-01T00:00:00",
          "2022-01-01T00:00:00",
          "2022-07-01T00:00:00"
         ],
         "xaxis": "x",
         "y": [
          3.75,
          3.75,
          3.75,
          3.75,
          4.1,
          4.1,
          4.1,
          4.1,
          4.1,
          4.1,
          4.6,
          4.55,
          4.56,
          4.56,
          4.62,
          4.62,
          4.75,
          4.83,
          4.88,
          4.87,
          4.89,
          4.95,
          5.25
         ],
         "yaxis": "y"
        },
        {
         "hovertemplate": "name=France<br>date=%{x}<br>dollar_price=%{y}<extra></extra>",
         "legendgroup": "France",
         "line": {
          "color": "#19d3f3",
          "dash": "solid"
         },
         "marker": {
          "symbol": "circle"
         },
         "mode": "lines",
         "name": "France",
         "orientation": "v",
         "showlegend": true,
         "type": "scatter",
         "x": [
          "2011-07-01T00:00:00",
          "2012-01-01T00:00:00",
          "2012-07-01T00:00:00",
          "2013-01-01T00:00:00",
          "2013-07-01T00:00:00",
          "2014-01-01T00:00:00",
          "2014-07-01T00:00:00",
          "2015-01-01T00:00:00",
          "2015-07-01T00:00:00",
          "2016-01-01T00:00:00",
          "2016-07-01T00:00:00",
          "2017-01-01T00:00:00",
          "2017-07-01T00:00:00",
          "2018-01-01T00:00:00",
          "2018-07-01T00:00:00",
          "2019-01-01T00:00:00",
          "2019-07-09T00:00:00",
          "2020-01-14T00:00:00",
          "2020-07-01T00:00:00",
          "2021-01-01T00:00:00",
          "2021-07-01T00:00:00",
          "2022-01-01T00:00:00",
          "2022-07-01T00:00:00"
         ],
         "xaxis": "x",
         "y": [
          3.5,
          3.6,
          3.6,
          3.6,
          3.9,
          3.8,
          3.9,
          3.9,
          4.1,
          4.1,
          4.1,
          4.1,
          4.1,
          4.2,
          4.2,
          4.2,
          4.2,
          4.2,
          4.2,
          4.2,
          4.3,
          4.35,
          4.7
         ],
         "yaxis": "y"
        },
        {
         "hovertemplate": "name=Germany<br>date=%{x}<br>dollar_price=%{y}<extra></extra>",
         "legendgroup": "Germany",
         "line": {
          "color": "#FF6692",
          "dash": "solid"
         },
         "marker": {
          "symbol": "circle"
         },
         "mode": "lines",
         "name": "Germany",
         "orientation": "v",
         "showlegend": true,
         "type": "scatter",
         "x": [
          "2011-07-01T00:00:00",
          "2012-01-01T00:00:00",
          "2012-07-01T00:00:00",
          "2013-01-01T00:00:00",
          "2013-07-01T00:00:00",
          "2014-01-01T00:00:00",
          "2014-07-01T00:00:00",
          "2015-01-01T00:00:00",
          "2015-07-01T00:00:00",
          "2016-01-01T00:00:00",
          "2016-07-01T00:00:00",
          "2017-01-01T00:00:00",
          "2017-07-01T00:00:00",
          "2018-01-01T00:00:00",
          "2018-07-01T00:00:00",
          "2019-01-01T00:00:00",
          "2019-07-09T00:00:00",
          "2020-01-14T00:00:00",
          "2020-07-01T00:00:00",
          "2021-01-01T00:00:00",
          "2021-07-01T00:00:00",
          "2022-01-01T00:00:00",
          "2022-07-01T00:00:00"
         ],
         "xaxis": "x",
         "y": [
          3.4,
          3.53,
          3.64,
          3.64,
          3.64,
          3.67,
          3.67,
          3.67,
          3.59,
          3.59,
          3.79,
          3.79,
          3.9,
          3.9,
          4.12,
          4.12,
          4.14,
          4.14,
          4.45,
          4.46,
          4.45,
          4.46,
          4.58
         ],
         "yaxis": "y"
        },
        {
         "hovertemplate": "name=Greece<br>date=%{x}<br>dollar_price=%{y}<extra></extra>",
         "legendgroup": "Greece",
         "line": {
          "color": "#B6E880",
          "dash": "solid"
         },
         "marker": {
          "symbol": "circle"
         },
         "mode": "lines",
         "name": "Greece",
         "orientation": "v",
         "showlegend": true,
         "type": "scatter",
         "x": [
          "2011-07-01T00:00:00",
          "2012-01-01T00:00:00",
          "2012-07-01T00:00:00",
          "2013-01-01T00:00:00",
          "2013-07-01T00:00:00",
          "2014-01-01T00:00:00",
          "2014-07-01T00:00:00",
          "2015-01-01T00:00:00",
          "2015-07-01T00:00:00",
          "2016-01-01T00:00:00",
          "2016-07-01T00:00:00",
          "2017-01-01T00:00:00",
          "2017-07-01T00:00:00",
          "2018-01-01T00:00:00",
          "2018-07-01T00:00:00",
          "2019-01-01T00:00:00",
          "2019-07-09T00:00:00",
          "2020-01-14T00:00:00",
          "2020-07-01T00:00:00",
          "2021-01-01T00:00:00",
          "2021-07-01T00:00:00",
          "2022-01-01T00:00:00",
          "2022-07-01T00:00:00"
         ],
         "xaxis": "x",
         "y": [
          3.26,
          3.3,
          2.68,
          3.3,
          2.6,
          3.05,
          3.05,
          3.05,
          3.05,
          3.35,
          3.35,
          3.35,
          3.35,
          3.35,
          3.35,
          3.35,
          3.3,
          3.3,
          3.3,
          3.3,
          3.3,
          3.4,
          4
         ],
         "yaxis": "y"
        },
        {
         "hovertemplate": "name=Ireland<br>date=%{x}<br>dollar_price=%{y}<extra></extra>",
         "legendgroup": "Ireland",
         "line": {
          "color": "#FF97FF",
          "dash": "solid"
         },
         "marker": {
          "symbol": "circle"
         },
         "mode": "lines",
         "name": "Ireland",
         "orientation": "v",
         "showlegend": true,
         "type": "scatter",
         "x": [
          "2011-07-01T00:00:00",
          "2012-01-01T00:00:00",
          "2012-07-01T00:00:00",
          "2013-01-01T00:00:00",
          "2013-07-01T00:00:00",
          "2014-01-01T00:00:00",
          "2014-07-01T00:00:00",
          "2015-01-01T00:00:00",
          "2015-07-01T00:00:00",
          "2016-01-01T00:00:00",
          "2016-07-01T00:00:00",
          "2017-01-01T00:00:00",
          "2017-07-01T00:00:00",
          "2018-01-01T00:00:00",
          "2018-07-01T00:00:00",
          "2019-01-01T00:00:00",
          "2019-07-09T00:00:00",
          "2020-01-14T00:00:00",
          "2020-07-01T00:00:00",
          "2021-01-01T00:00:00",
          "2021-07-01T00:00:00",
          "2022-01-01T00:00:00",
          "2022-07-01T00:00:00"
         ],
         "xaxis": "x",
         "y": [
          3.8,
          3.8,
          3.49,
          3.49,
          3.46,
          3.46,
          3.49,
          3.49,
          3.7,
          3.95,
          4,
          4,
          4.07,
          4.07,
          4.07,
          4.07,
          4.3,
          4.2,
          4.3,
          4.4,
          4.5,
          4.6,
          5
         ],
         "yaxis": "y"
        },
        {
         "hovertemplate": "name=Italy<br>date=%{x}<br>dollar_price=%{y}<extra></extra>",
         "legendgroup": "Italy",
         "line": {
          "color": "#FECB52",
          "dash": "solid"
         },
         "marker": {
          "symbol": "circle"
         },
         "mode": "lines",
         "name": "Italy",
         "orientation": "v",
         "showlegend": true,
         "type": "scatter",
         "x": [
          "2011-07-01T00:00:00",
          "2012-01-01T00:00:00",
          "2012-07-01T00:00:00",
          "2013-01-01T00:00:00",
          "2013-07-01T00:00:00",
          "2014-01-01T00:00:00",
          "2014-07-01T00:00:00",
          "2015-01-01T00:00:00",
          "2015-07-01T00:00:00",
          "2016-01-01T00:00:00",
          "2016-07-01T00:00:00",
          "2017-01-01T00:00:00",
          "2017-07-01T00:00:00",
          "2018-01-01T00:00:00",
          "2018-07-01T00:00:00",
          "2019-01-01T00:00:00",
          "2019-07-09T00:00:00",
          "2020-01-14T00:00:00",
          "2020-07-01T00:00:00",
          "2021-01-01T00:00:00",
          "2021-07-01T00:00:00",
          "2022-01-01T00:00:00",
          "2022-07-01T00:00:00"
         ],
         "xaxis": "x",
         "y": [
          3.5,
          3.5,
          3.6,
          3.85,
          3.75,
          3.85,
          3.85,
          3.85,
          4,
          4,
          4.2,
          4.2,
          4.2,
          4.2,
          4.2,
          4.2,
          4.3,
          4.3,
          4.3,
          4.3,
          4.3,
          4.8,
          5.1
         ],
         "yaxis": "y"
        },
        {
         "hovertemplate": "name=Netherlands<br>date=%{x}<br>dollar_price=%{y}<extra></extra>",
         "legendgroup": "Netherlands",
         "line": {
          "color": "#636efa",
          "dash": "solid"
         },
         "marker": {
          "symbol": "circle"
         },
         "mode": "lines",
         "name": "Netherlands",
         "orientation": "v",
         "showlegend": true,
         "type": "scatter",
         "x": [
          "2011-07-01T00:00:00",
          "2012-01-01T00:00:00",
          "2012-07-01T00:00:00",
          "2013-01-01T00:00:00",
          "2013-07-01T00:00:00",
          "2014-01-01T00:00:00",
          "2014-07-01T00:00:00",
          "2015-01-01T00:00:00",
          "2015-07-01T00:00:00",
          "2016-01-01T00:00:00",
          "2016-07-01T00:00:00",
          "2017-01-01T00:00:00",
          "2017-07-01T00:00:00",
          "2018-01-01T00:00:00",
          "2018-07-01T00:00:00",
          "2019-01-01T00:00:00",
          "2019-07-09T00:00:00",
          "2020-01-14T00:00:00",
          "2020-07-01T00:00:00",
          "2021-01-01T00:00:00",
          "2021-07-01T00:00:00",
          "2022-01-01T00:00:00",
          "2022-07-01T00:00:00"
         ],
         "xaxis": "x",
         "y": [
          3.25,
          3.25,
          3.38,
          3.45,
          3.45,
          3.45,
          3.45,
          3.45,
          3.45,
          3.45,
          3.45,
          3.61,
          3.61,
          3.71,
          3.79,
          4,
          4.06,
          4.09,
          4.09,
          4.13,
          4.22,
          4.4,
          4.5
         ],
         "yaxis": "y"
        },
        {
         "hovertemplate": "name=Portugal<br>date=%{x}<br>dollar_price=%{y}<extra></extra>",
         "legendgroup": "Portugal",
         "line": {
          "color": "#EF553B",
          "dash": "solid"
         },
         "marker": {
          "symbol": "circle"
         },
         "mode": "lines",
         "name": "Portugal",
         "orientation": "v",
         "showlegend": true,
         "type": "scatter",
         "x": [
          "2011-07-01T00:00:00",
          "2012-01-01T00:00:00",
          "2012-07-01T00:00:00",
          "2013-01-01T00:00:00",
          "2013-07-01T00:00:00",
          "2014-01-01T00:00:00",
          "2014-07-01T00:00:00",
          "2015-01-01T00:00:00",
          "2015-07-01T00:00:00",
          "2016-01-01T00:00:00",
          "2016-07-01T00:00:00",
          "2017-01-01T00:00:00",
          "2017-07-01T00:00:00",
          "2018-01-01T00:00:00",
          "2018-07-01T00:00:00",
          "2019-01-01T00:00:00",
          "2019-07-09T00:00:00",
          "2020-01-14T00:00:00",
          "2020-07-01T00:00:00",
          "2021-01-01T00:00:00",
          "2021-07-01T00:00:00",
          "2022-01-01T00:00:00",
          "2022-07-01T00:00:00"
         ],
         "xaxis": "x",
         "y": [
          2.9,
          2.9,
          4.95,
          2.95,
          2.95,
          3,
          3,
          3,
          3,
          3,
          3.05,
          3.05,
          3.25,
          3.2,
          3.25,
          3.25,
          3.25,
          3.25,
          3.45,
          3.45,
          3.45,
          3.45,
          4
         ],
         "yaxis": "y"
        },
        {
         "hovertemplate": "name=Spain<br>date=%{x}<br>dollar_price=%{y}<extra></extra>",
         "legendgroup": "Spain",
         "line": {
          "color": "#00cc96",
          "dash": "solid"
         },
         "marker": {
          "symbol": "circle"
         },
         "mode": "lines",
         "name": "Spain",
         "orientation": "v",
         "showlegend": true,
         "type": "scatter",
         "x": [
          "2011-07-01T00:00:00",
          "2012-01-01T00:00:00",
          "2012-07-01T00:00:00",
          "2013-01-01T00:00:00",
          "2013-07-01T00:00:00",
          "2014-01-01T00:00:00",
          "2014-07-01T00:00:00",
          "2015-01-01T00:00:00",
          "2015-07-01T00:00:00",
          "2016-01-01T00:00:00",
          "2016-07-01T00:00:00",
          "2017-01-01T00:00:00",
          "2017-07-01T00:00:00",
          "2018-01-01T00:00:00",
          "2018-07-01T00:00:00",
          "2019-01-01T00:00:00",
          "2019-07-09T00:00:00",
          "2020-01-14T00:00:00",
          "2020-07-01T00:00:00",
          "2021-01-01T00:00:00",
          "2021-07-01T00:00:00",
          "2022-01-01T00:00:00",
          "2022-07-01T00:00:00"
         ],
         "xaxis": "x",
         "y": [
          3.5,
          3.5,
          3.5,
          3.5,
          3.5,
          3.65,
          3.65,
          3.65,
          3.65,
          3.5,
          3.5,
          3.95,
          3.8,
          3.95,
          4.1,
          3.95,
          3.95,
          4.2,
          4.1,
          4.33,
          4.4,
          4.58,
          4.58
         ],
         "yaxis": "y"
        },
        {
         "hovertemplate": "name=Lithuania<br>date=%{x}<br>dollar_price=%{y}<extra></extra>",
         "legendgroup": "Lithuania",
         "line": {
          "color": "#ab63fa",
          "dash": "solid"
         },
         "marker": {
          "symbol": "circle"
         },
         "mode": "lines",
         "name": "Lithuania",
         "orientation": "v",
         "showlegend": true,
         "type": "scatter",
         "x": [
          "2014-01-01T00:00:00",
          "2014-07-01T00:00:00",
          "2018-07-01T00:00:00",
          "2019-01-01T00:00:00",
          "2019-07-09T00:00:00",
          "2020-01-14T00:00:00",
          "2020-07-01T00:00:00",
          "2021-01-01T00:00:00",
          "2021-07-01T00:00:00",
          "2022-01-01T00:00:00",
          "2022-07-01T00:00:00"
         ],
         "xaxis": "x",
         "y": [
          4.4,
          4.47,
          2.8,
          2.85,
          2.85,
          2.85,
          2.85,
          2.9,
          2.9,
          2.9,
          3.05
         ],
         "yaxis": "y"
        },
        {
         "hovertemplate": "name=Latvia<br>date=%{x}<br>dollar_price=%{y}<extra></extra>",
         "legendgroup": "Latvia",
         "line": {
          "color": "#FFA15A",
          "dash": "solid"
         },
         "marker": {
          "symbol": "circle"
         },
         "mode": "lines",
         "name": "Latvia",
         "orientation": "v",
         "showlegend": true,
         "type": "scatter",
         "x": [
          "2018-07-01T00:00:00",
          "2019-01-01T00:00:00",
          "2019-07-09T00:00:00",
          "2020-01-14T00:00:00",
          "2020-07-01T00:00:00",
          "2021-01-01T00:00:00",
          "2021-07-01T00:00:00",
          "2022-01-01T00:00:00",
          "2022-07-01T00:00:00"
         ],
         "xaxis": "x",
         "y": [
          2.7,
          2.8,
          2.85,
          2.85,
          2.85,
          2.85,
          2.85,
          2.85,
          3
         ],
         "yaxis": "y"
        },
        {
         "hovertemplate": "name=Slovakia<br>date=%{x}<br>dollar_price=%{y}<extra></extra>",
         "legendgroup": "Slovakia",
         "line": {
          "color": "#19d3f3",
          "dash": "solid"
         },
         "marker": {
          "symbol": "circle"
         },
         "mode": "lines",
         "name": "Slovakia",
         "orientation": "v",
         "showlegend": true,
         "type": "scatter",
         "x": [
          "2018-07-01T00:00:00",
          "2019-01-01T00:00:00",
          "2019-07-09T00:00:00",
          "2020-01-14T00:00:00",
          "2020-07-01T00:00:00",
          "2021-01-01T00:00:00",
          "2021-07-01T00:00:00",
          "2022-01-01T00:00:00",
          "2022-07-01T00:00:00"
         ],
         "xaxis": "x",
         "y": [
          3,
          3.2,
          3.2,
          3.4,
          3.6,
          3.7,
          3.7,
          3.8,
          3.9
         ],
         "yaxis": "y"
        },
        {
         "hovertemplate": "name=Slovenia<br>date=%{x}<br>dollar_price=%{y}<extra></extra>",
         "legendgroup": "Slovenia",
         "line": {
          "color": "#FF6692",
          "dash": "solid"
         },
         "marker": {
          "symbol": "circle"
         },
         "mode": "lines",
         "name": "Slovenia",
         "orientation": "v",
         "showlegend": true,
         "type": "scatter",
         "x": [
          "2018-07-01T00:00:00",
          "2019-01-01T00:00:00",
          "2019-07-09T00:00:00",
          "2020-01-14T00:00:00",
          "2020-07-01T00:00:00",
          "2021-01-01T00:00:00",
          "2021-07-01T00:00:00",
          "2022-01-01T00:00:00",
          "2022-07-01T00:00:00"
         ],
         "xaxis": "x",
         "y": [
          2.3,
          2.3,
          2.4,
          2.4,
          2.5,
          2.5,
          2.6,
          2.8,
          3.2
         ],
         "yaxis": "y"
        }
       ],
       "layout": {
        "legend": {
         "title": {
          "text": "name"
         },
         "tracegroupgap": 0
        },
        "margin": {
         "t": 60
        },
        "template": {
         "data": {
          "bar": [
           {
            "error_x": {
             "color": "#2a3f5f"
            },
            "error_y": {
             "color": "#2a3f5f"
            },
            "marker": {
             "line": {
              "color": "#E5ECF6",
              "width": 0.5
             },
             "pattern": {
              "fillmode": "overlay",
              "size": 10,
              "solidity": 0.2
             }
            },
            "type": "bar"
           }
          ],
          "barpolar": [
           {
            "marker": {
             "line": {
              "color": "#E5ECF6",
              "width": 0.5
             },
             "pattern": {
              "fillmode": "overlay",
              "size": 10,
              "solidity": 0.2
             }
            },
            "type": "barpolar"
           }
          ],
          "carpet": [
           {
            "aaxis": {
             "endlinecolor": "#2a3f5f",
             "gridcolor": "white",
             "linecolor": "white",
             "minorgridcolor": "white",
             "startlinecolor": "#2a3f5f"
            },
            "baxis": {
             "endlinecolor": "#2a3f5f",
             "gridcolor": "white",
             "linecolor": "white",
             "minorgridcolor": "white",
             "startlinecolor": "#2a3f5f"
            },
            "type": "carpet"
           }
          ],
          "choropleth": [
           {
            "colorbar": {
             "outlinewidth": 0,
             "ticks": ""
            },
            "type": "choropleth"
           }
          ],
          "contour": [
           {
            "colorbar": {
             "outlinewidth": 0,
             "ticks": ""
            },
            "colorscale": [
             [
              0,
              "#0d0887"
             ],
             [
              0.1111111111111111,
              "#46039f"
             ],
             [
              0.2222222222222222,
              "#7201a8"
             ],
             [
              0.3333333333333333,
              "#9c179e"
             ],
             [
              0.4444444444444444,
              "#bd3786"
             ],
             [
              0.5555555555555556,
              "#d8576b"
             ],
             [
              0.6666666666666666,
              "#ed7953"
             ],
             [
              0.7777777777777778,
              "#fb9f3a"
             ],
             [
              0.8888888888888888,
              "#fdca26"
             ],
             [
              1,
              "#f0f921"
             ]
            ],
            "type": "contour"
           }
          ],
          "contourcarpet": [
           {
            "colorbar": {
             "outlinewidth": 0,
             "ticks": ""
            },
            "type": "contourcarpet"
           }
          ],
          "heatmap": [
           {
            "colorbar": {
             "outlinewidth": 0,
             "ticks": ""
            },
            "colorscale": [
             [
              0,
              "#0d0887"
             ],
             [
              0.1111111111111111,
              "#46039f"
             ],
             [
              0.2222222222222222,
              "#7201a8"
             ],
             [
              0.3333333333333333,
              "#9c179e"
             ],
             [
              0.4444444444444444,
              "#bd3786"
             ],
             [
              0.5555555555555556,
              "#d8576b"
             ],
             [
              0.6666666666666666,
              "#ed7953"
             ],
             [
              0.7777777777777778,
              "#fb9f3a"
             ],
             [
              0.8888888888888888,
              "#fdca26"
             ],
             [
              1,
              "#f0f921"
             ]
            ],
            "type": "heatmap"
           }
          ],
          "heatmapgl": [
           {
            "colorbar": {
             "outlinewidth": 0,
             "ticks": ""
            },
            "colorscale": [
             [
              0,
              "#0d0887"
             ],
             [
              0.1111111111111111,
              "#46039f"
             ],
             [
              0.2222222222222222,
              "#7201a8"
             ],
             [
              0.3333333333333333,
              "#9c179e"
             ],
             [
              0.4444444444444444,
              "#bd3786"
             ],
             [
              0.5555555555555556,
              "#d8576b"
             ],
             [
              0.6666666666666666,
              "#ed7953"
             ],
             [
              0.7777777777777778,
              "#fb9f3a"
             ],
             [
              0.8888888888888888,
              "#fdca26"
             ],
             [
              1,
              "#f0f921"
             ]
            ],
            "type": "heatmapgl"
           }
          ],
          "histogram": [
           {
            "marker": {
             "pattern": {
              "fillmode": "overlay",
              "size": 10,
              "solidity": 0.2
             }
            },
            "type": "histogram"
           }
          ],
          "histogram2d": [
           {
            "colorbar": {
             "outlinewidth": 0,
             "ticks": ""
            },
            "colorscale": [
             [
              0,
              "#0d0887"
             ],
             [
              0.1111111111111111,
              "#46039f"
             ],
             [
              0.2222222222222222,
              "#7201a8"
             ],
             [
              0.3333333333333333,
              "#9c179e"
             ],
             [
              0.4444444444444444,
              "#bd3786"
             ],
             [
              0.5555555555555556,
              "#d8576b"
             ],
             [
              0.6666666666666666,
              "#ed7953"
             ],
             [
              0.7777777777777778,
              "#fb9f3a"
             ],
             [
              0.8888888888888888,
              "#fdca26"
             ],
             [
              1,
              "#f0f921"
             ]
            ],
            "type": "histogram2d"
           }
          ],
          "histogram2dcontour": [
           {
            "colorbar": {
             "outlinewidth": 0,
             "ticks": ""
            },
            "colorscale": [
             [
              0,
              "#0d0887"
             ],
             [
              0.1111111111111111,
              "#46039f"
             ],
             [
              0.2222222222222222,
              "#7201a8"
             ],
             [
              0.3333333333333333,
              "#9c179e"
             ],
             [
              0.4444444444444444,
              "#bd3786"
             ],
             [
              0.5555555555555556,
              "#d8576b"
             ],
             [
              0.6666666666666666,
              "#ed7953"
             ],
             [
              0.7777777777777778,
              "#fb9f3a"
             ],
             [
              0.8888888888888888,
              "#fdca26"
             ],
             [
              1,
              "#f0f921"
             ]
            ],
            "type": "histogram2dcontour"
           }
          ],
          "mesh3d": [
           {
            "colorbar": {
             "outlinewidth": 0,
             "ticks": ""
            },
            "type": "mesh3d"
           }
          ],
          "parcoords": [
           {
            "line": {
             "colorbar": {
              "outlinewidth": 0,
              "ticks": ""
             }
            },
            "type": "parcoords"
           }
          ],
          "pie": [
           {
            "automargin": true,
            "type": "pie"
           }
          ],
          "scatter": [
           {
            "marker": {
             "colorbar": {
              "outlinewidth": 0,
              "ticks": ""
             }
            },
            "type": "scatter"
           }
          ],
          "scatter3d": [
           {
            "line": {
             "colorbar": {
              "outlinewidth": 0,
              "ticks": ""
             }
            },
            "marker": {
             "colorbar": {
              "outlinewidth": 0,
              "ticks": ""
             }
            },
            "type": "scatter3d"
           }
          ],
          "scattercarpet": [
           {
            "marker": {
             "colorbar": {
              "outlinewidth": 0,
              "ticks": ""
             }
            },
            "type": "scattercarpet"
           }
          ],
          "scattergeo": [
           {
            "marker": {
             "colorbar": {
              "outlinewidth": 0,
              "ticks": ""
             }
            },
            "type": "scattergeo"
           }
          ],
          "scattergl": [
           {
            "marker": {
             "colorbar": {
              "outlinewidth": 0,
              "ticks": ""
             }
            },
            "type": "scattergl"
           }
          ],
          "scattermapbox": [
           {
            "marker": {
             "colorbar": {
              "outlinewidth": 0,
              "ticks": ""
             }
            },
            "type": "scattermapbox"
           }
          ],
          "scatterpolar": [
           {
            "marker": {
             "colorbar": {
              "outlinewidth": 0,
              "ticks": ""
             }
            },
            "type": "scatterpolar"
           }
          ],
          "scatterpolargl": [
           {
            "marker": {
             "colorbar": {
              "outlinewidth": 0,
              "ticks": ""
             }
            },
            "type": "scatterpolargl"
           }
          ],
          "scatterternary": [
           {
            "marker": {
             "colorbar": {
              "outlinewidth": 0,
              "ticks": ""
             }
            },
            "type": "scatterternary"
           }
          ],
          "surface": [
           {
            "colorbar": {
             "outlinewidth": 0,
             "ticks": ""
            },
            "colorscale": [
             [
              0,
              "#0d0887"
             ],
             [
              0.1111111111111111,
              "#46039f"
             ],
             [
              0.2222222222222222,
              "#7201a8"
             ],
             [
              0.3333333333333333,
              "#9c179e"
             ],
             [
              0.4444444444444444,
              "#bd3786"
             ],
             [
              0.5555555555555556,
              "#d8576b"
             ],
             [
              0.6666666666666666,
              "#ed7953"
             ],
             [
              0.7777777777777778,
              "#fb9f3a"
             ],
             [
              0.8888888888888888,
              "#fdca26"
             ],
             [
              1,
              "#f0f921"
             ]
            ],
            "type": "surface"
           }
          ],
          "table": [
           {
            "cells": {
             "fill": {
              "color": "#EBF0F8"
             },
             "line": {
              "color": "white"
             }
            },
            "header": {
             "fill": {
              "color": "#C8D4E3"
             },
             "line": {
              "color": "white"
             }
            },
            "type": "table"
           }
          ]
         },
         "layout": {
          "annotationdefaults": {
           "arrowcolor": "#2a3f5f",
           "arrowhead": 0,
           "arrowwidth": 1
          },
          "autotypenumbers": "strict",
          "coloraxis": {
           "colorbar": {
            "outlinewidth": 0,
            "ticks": ""
           }
          },
          "colorscale": {
           "diverging": [
            [
             0,
             "#8e0152"
            ],
            [
             0.1,
             "#c51b7d"
            ],
            [
             0.2,
             "#de77ae"
            ],
            [
             0.3,
             "#f1b6da"
            ],
            [
             0.4,
             "#fde0ef"
            ],
            [
             0.5,
             "#f7f7f7"
            ],
            [
             0.6,
             "#e6f5d0"
            ],
            [
             0.7,
             "#b8e186"
            ],
            [
             0.8,
             "#7fbc41"
            ],
            [
             0.9,
             "#4d9221"
            ],
            [
             1,
             "#276419"
            ]
           ],
           "sequential": [
            [
             0,
             "#0d0887"
            ],
            [
             0.1111111111111111,
             "#46039f"
            ],
            [
             0.2222222222222222,
             "#7201a8"
            ],
            [
             0.3333333333333333,
             "#9c179e"
            ],
            [
             0.4444444444444444,
             "#bd3786"
            ],
            [
             0.5555555555555556,
             "#d8576b"
            ],
            [
             0.6666666666666666,
             "#ed7953"
            ],
            [
             0.7777777777777778,
             "#fb9f3a"
            ],
            [
             0.8888888888888888,
             "#fdca26"
            ],
            [
             1,
             "#f0f921"
            ]
           ],
           "sequentialminus": [
            [
             0,
             "#0d0887"
            ],
            [
             0.1111111111111111,
             "#46039f"
            ],
            [
             0.2222222222222222,
             "#7201a8"
            ],
            [
             0.3333333333333333,
             "#9c179e"
            ],
            [
             0.4444444444444444,
             "#bd3786"
            ],
            [
             0.5555555555555556,
             "#d8576b"
            ],
            [
             0.6666666666666666,
             "#ed7953"
            ],
            [
             0.7777777777777778,
             "#fb9f3a"
            ],
            [
             0.8888888888888888,
             "#fdca26"
            ],
            [
             1,
             "#f0f921"
            ]
           ]
          },
          "colorway": [
           "#636efa",
           "#EF553B",
           "#00cc96",
           "#ab63fa",
           "#FFA15A",
           "#19d3f3",
           "#FF6692",
           "#B6E880",
           "#FF97FF",
           "#FECB52"
          ],
          "font": {
           "color": "#2a3f5f"
          },
          "geo": {
           "bgcolor": "white",
           "lakecolor": "white",
           "landcolor": "#E5ECF6",
           "showlakes": true,
           "showland": true,
           "subunitcolor": "white"
          },
          "hoverlabel": {
           "align": "left"
          },
          "hovermode": "closest",
          "mapbox": {
           "style": "light"
          },
          "paper_bgcolor": "white",
          "plot_bgcolor": "#E5ECF6",
          "polar": {
           "angularaxis": {
            "gridcolor": "white",
            "linecolor": "white",
            "ticks": ""
           },
           "bgcolor": "#E5ECF6",
           "radialaxis": {
            "gridcolor": "white",
            "linecolor": "white",
            "ticks": ""
           }
          },
          "scene": {
           "xaxis": {
            "backgroundcolor": "#E5ECF6",
            "gridcolor": "white",
            "gridwidth": 2,
            "linecolor": "white",
            "showbackground": true,
            "ticks": "",
            "zerolinecolor": "white"
           },
           "yaxis": {
            "backgroundcolor": "#E5ECF6",
            "gridcolor": "white",
            "gridwidth": 2,
            "linecolor": "white",
            "showbackground": true,
            "ticks": "",
            "zerolinecolor": "white"
           },
           "zaxis": {
            "backgroundcolor": "#E5ECF6",
            "gridcolor": "white",
            "gridwidth": 2,
            "linecolor": "white",
            "showbackground": true,
            "ticks": "",
            "zerolinecolor": "white"
           }
          },
          "shapedefaults": {
           "line": {
            "color": "#2a3f5f"
           }
          },
          "ternary": {
           "aaxis": {
            "gridcolor": "white",
            "linecolor": "white",
            "ticks": ""
           },
           "baxis": {
            "gridcolor": "white",
            "linecolor": "white",
            "ticks": ""
           },
           "bgcolor": "#E5ECF6",
           "caxis": {
            "gridcolor": "white",
            "linecolor": "white",
            "ticks": ""
           }
          },
          "title": {
           "x": 0.05
          },
          "xaxis": {
           "automargin": true,
           "gridcolor": "white",
           "linecolor": "white",
           "ticks": "",
           "title": {
            "standoff": 15
           },
           "zerolinecolor": "white",
           "zerolinewidth": 2
          },
          "yaxis": {
           "automargin": true,
           "gridcolor": "white",
           "linecolor": "white",
           "ticks": "",
           "title": {
            "standoff": 15
           },
           "zerolinecolor": "white",
           "zerolinewidth": 2
          }
         }
        },
        "title": {
         "text": "Eurozone Big Mac Prices 2000 to 2022"
        },
        "xaxis": {
         "anchor": "y",
         "domain": [
          0,
          1
         ],
         "title": {
          "text": "Date"
         }
        },
        "yaxis": {
         "anchor": "x",
         "domain": [
          0,
          1
         ],
         "title": {
          "text": "Price (USD)"
         }
        }
       }
      },
      "text/html": [
       "<div>                            <div id=\"de089292-6323-4621-b73b-1693d2e8e24a\" class=\"plotly-graph-div\" style=\"height:525px; width:100%;\"></div>            <script type=\"text/javascript\">                require([\"plotly\"], function(Plotly) {                    window.PLOTLYENV=window.PLOTLYENV || {};                                    if (document.getElementById(\"de089292-6323-4621-b73b-1693d2e8e24a\")) {                    Plotly.newPlot(                        \"de089292-6323-4621-b73b-1693d2e8e24a\",                        [{\"hovertemplate\":\"name=Euro area<br>date=%{x}<br>dollar_price=%{y}<extra></extra>\",\"legendgroup\":\"Euro area\",\"line\":{\"color\":\"#636efa\",\"dash\":\"solid\"},\"marker\":{\"symbol\":\"circle\"},\"mode\":\"lines\",\"name\":\"Euro area\",\"orientation\":\"v\",\"showlegend\":true,\"x\":[\"2000-04-01T00:00:00\",\"2001-04-01T00:00:00\",\"2002-04-01T00:00:00\",\"2003-04-01T00:00:00\",\"2004-05-01T00:00:00\",\"2005-06-01T00:00:00\",\"2006-01-01T00:00:00\",\"2006-05-01T00:00:00\",\"2007-01-01T00:00:00\",\"2007-06-01T00:00:00\",\"2008-06-01T00:00:00\",\"2009-07-01T00:00:00\",\"2010-01-01T00:00:00\",\"2010-07-01T00:00:00\",\"2011-07-01T00:00:00\",\"2012-01-01T00:00:00\",\"2012-07-01T00:00:00\",\"2013-01-01T00:00:00\",\"2013-07-01T00:00:00\",\"2014-01-01T00:00:00\",\"2014-07-01T00:00:00\",\"2015-01-01T00:00:00\",\"2015-07-01T00:00:00\",\"2016-01-01T00:00:00\",\"2016-07-01T00:00:00\",\"2017-01-01T00:00:00\",\"2017-07-01T00:00:00\",\"2018-01-01T00:00:00\",\"2018-07-01T00:00:00\",\"2019-01-01T00:00:00\",\"2019-07-09T00:00:00\",\"2020-01-14T00:00:00\",\"2020-07-01T00:00:00\",\"2021-01-01T00:00:00\",\"2021-07-01T00:00:00\",\"2022-01-01T00:00:00\",\"2022-07-01T00:00:00\"],\"xaxis\":\"x\",\"y\":[2.56,2.57,2.67,2.71,2.74,2.92,2.91,2.94,2.94,3.06,3.37,3.31,3.36,3.38,3.44,3.49,3.58,3.59,3.62,3.66,3.68,3.68,3.7,3.72,3.82,3.88,3.91,3.95,4.04,4.05,4.08,4.12,4.21,4.25,4.29,4.42,4.65],\"yaxis\":\"y\",\"type\":\"scatter\"},{\"hovertemplate\":\"name=Austria<br>date=%{x}<br>dollar_price=%{y}<extra></extra>\",\"legendgroup\":\"Austria\",\"line\":{\"color\":\"#EF553B\",\"dash\":\"solid\"},\"marker\":{\"symbol\":\"circle\"},\"mode\":\"lines\",\"name\":\"Austria\",\"orientation\":\"v\",\"showlegend\":true,\"x\":[\"2011-07-01T00:00:00\",\"2012-01-01T00:00:00\",\"2012-07-01T00:00:00\",\"2013-01-01T00:00:00\",\"2013-07-01T00:00:00\",\"2014-01-01T00:00:00\",\"2014-07-01T00:00:00\",\"2015-01-01T00:00:00\",\"2015-07-01T00:00:00\",\"2016-01-01T00:00:00\",\"2016-07-01T00:00:00\",\"2017-01-01T00:00:00\",\"2017-07-01T00:00:00\",\"2018-01-01T00:00:00\",\"2018-07-01T00:00:00\",\"2019-01-01T00:00:00\",\"2019-07-09T00:00:00\",\"2020-01-14T00:00:00\",\"2020-07-01T00:00:00\",\"2021-01-01T00:00:00\",\"2021-07-01T00:00:00\",\"2022-01-01T00:00:00\",\"2022-07-01T00:00:00\"],\"xaxis\":\"x\",\"y\":[3.09,3.09,3.19,3.39,3.39,3.39,3.39,3.39,3.39,3.5,3.6,3.4,3.4,3.4,3.4,3.76,3.81,3.84,3.86,3.88,3.92,3.8,4.35],\"yaxis\":\"y\",\"type\":\"scatter\"},{\"hovertemplate\":\"name=Belgium<br>date=%{x}<br>dollar_price=%{y}<extra></extra>\",\"legendgroup\":\"Belgium\",\"line\":{\"color\":\"#00cc96\",\"dash\":\"solid\"},\"marker\":{\"symbol\":\"circle\"},\"mode\":\"lines\",\"name\":\"Belgium\",\"orientation\":\"v\",\"showlegend\":true,\"x\":[\"2011-07-01T00:00:00\",\"2012-01-01T00:00:00\",\"2012-07-01T00:00:00\",\"2013-01-01T00:00:00\",\"2013-07-01T00:00:00\",\"2014-01-01T00:00:00\",\"2014-07-01T00:00:00\",\"2015-01-01T00:00:00\",\"2015-07-01T00:00:00\",\"2016-01-01T00:00:00\",\"2016-07-01T00:00:00\",\"2017-01-01T00:00:00\",\"2017-07-01T00:00:00\",\"2018-01-01T00:00:00\",\"2018-07-01T00:00:00\",\"2019-01-01T00:00:00\",\"2019-07-09T00:00:00\",\"2020-01-14T00:00:00\",\"2020-07-01T00:00:00\",\"2021-01-01T00:00:00\",\"2021-07-01T00:00:00\",\"2022-01-01T00:00:00\",\"2022-07-01T00:00:00\"],\"xaxis\":\"x\",\"y\":[3.75,3.7,3.8,3.8,3.7,3.95,3.7,3.7,3.7,3.95,3.95,3.95,4.05,4.1,4.1,4.2,4.2,4.3,4.35,4.35,4.45,4.55,4.6],\"yaxis\":\"y\",\"type\":\"scatter\"},{\"hovertemplate\":\"name=Estonia<br>date=%{x}<br>dollar_price=%{y}<extra></extra>\",\"legendgroup\":\"Estonia\",\"line\":{\"color\":\"#ab63fa\",\"dash\":\"solid\"},\"marker\":{\"symbol\":\"circle\"},\"mode\":\"lines\",\"name\":\"Estonia\",\"orientation\":\"v\",\"showlegend\":true,\"x\":[\"2011-07-01T00:00:00\",\"2012-01-01T00:00:00\",\"2012-07-01T00:00:00\",\"2013-01-01T00:00:00\",\"2013-07-01T00:00:00\",\"2014-01-01T00:00:00\",\"2014-07-01T00:00:00\",\"2015-01-01T00:00:00\",\"2015-07-01T00:00:00\",\"2016-01-01T00:00:00\",\"2016-07-01T00:00:00\",\"2017-01-01T00:00:00\",\"2017-07-01T00:00:00\",\"2018-01-01T00:00:00\",\"2018-07-01T00:00:00\",\"2019-01-01T00:00:00\",\"2019-07-09T00:00:00\",\"2020-01-14T00:00:00\",\"2020-07-01T00:00:00\",\"2021-01-01T00:00:00\",\"2021-07-01T00:00:00\",\"2022-01-01T00:00:00\",\"2022-07-01T00:00:00\"],\"xaxis\":\"x\",\"y\":[2.2,2.04,2.04,2.7,2.75,2.8,2.9,2.9,2.95,3.0,3.1,3.1,3.15,3.15,3.15,3.2,3.2,3.2,3.2,3.2,3.2,3.4,3.4],\"yaxis\":\"y\",\"type\":\"scatter\"},{\"hovertemplate\":\"name=Finland<br>date=%{x}<br>dollar_price=%{y}<extra></extra>\",\"legendgroup\":\"Finland\",\"line\":{\"color\":\"#FFA15A\",\"dash\":\"solid\"},\"marker\":{\"symbol\":\"circle\"},\"mode\":\"lines\",\"name\":\"Finland\",\"orientation\":\"v\",\"showlegend\":true,\"x\":[\"2011-07-01T00:00:00\",\"2012-01-01T00:00:00\",\"2012-07-01T00:00:00\",\"2013-01-01T00:00:00\",\"2013-07-01T00:00:00\",\"2014-01-01T00:00:00\",\"2014-07-01T00:00:00\",\"2015-01-01T00:00:00\",\"2015-07-01T00:00:00\",\"2016-01-01T00:00:00\",\"2016-07-01T00:00:00\",\"2017-01-01T00:00:00\",\"2017-07-01T00:00:00\",\"2018-01-01T00:00:00\",\"2018-07-01T00:00:00\",\"2019-01-01T00:00:00\",\"2019-07-09T00:00:00\",\"2020-01-14T00:00:00\",\"2020-07-01T00:00:00\",\"2021-01-01T00:00:00\",\"2021-07-01T00:00:00\",\"2022-01-01T00:00:00\",\"2022-07-01T00:00:00\"],\"xaxis\":\"x\",\"y\":[3.75,3.75,3.75,3.75,4.1,4.1,4.1,4.1,4.1,4.1,4.6,4.55,4.56,4.56,4.62,4.62,4.75,4.83,4.88,4.87,4.89,4.95,5.25],\"yaxis\":\"y\",\"type\":\"scatter\"},{\"hovertemplate\":\"name=France<br>date=%{x}<br>dollar_price=%{y}<extra></extra>\",\"legendgroup\":\"France\",\"line\":{\"color\":\"#19d3f3\",\"dash\":\"solid\"},\"marker\":{\"symbol\":\"circle\"},\"mode\":\"lines\",\"name\":\"France\",\"orientation\":\"v\",\"showlegend\":true,\"x\":[\"2011-07-01T00:00:00\",\"2012-01-01T00:00:00\",\"2012-07-01T00:00:00\",\"2013-01-01T00:00:00\",\"2013-07-01T00:00:00\",\"2014-01-01T00:00:00\",\"2014-07-01T00:00:00\",\"2015-01-01T00:00:00\",\"2015-07-01T00:00:00\",\"2016-01-01T00:00:00\",\"2016-07-01T00:00:00\",\"2017-01-01T00:00:00\",\"2017-07-01T00:00:00\",\"2018-01-01T00:00:00\",\"2018-07-01T00:00:00\",\"2019-01-01T00:00:00\",\"2019-07-09T00:00:00\",\"2020-01-14T00:00:00\",\"2020-07-01T00:00:00\",\"2021-01-01T00:00:00\",\"2021-07-01T00:00:00\",\"2022-01-01T00:00:00\",\"2022-07-01T00:00:00\"],\"xaxis\":\"x\",\"y\":[3.5,3.6,3.6,3.6,3.9,3.8,3.9,3.9,4.1,4.1,4.1,4.1,4.1,4.2,4.2,4.2,4.2,4.2,4.2,4.2,4.3,4.35,4.7],\"yaxis\":\"y\",\"type\":\"scatter\"},{\"hovertemplate\":\"name=Germany<br>date=%{x}<br>dollar_price=%{y}<extra></extra>\",\"legendgroup\":\"Germany\",\"line\":{\"color\":\"#FF6692\",\"dash\":\"solid\"},\"marker\":{\"symbol\":\"circle\"},\"mode\":\"lines\",\"name\":\"Germany\",\"orientation\":\"v\",\"showlegend\":true,\"x\":[\"2011-07-01T00:00:00\",\"2012-01-01T00:00:00\",\"2012-07-01T00:00:00\",\"2013-01-01T00:00:00\",\"2013-07-01T00:00:00\",\"2014-01-01T00:00:00\",\"2014-07-01T00:00:00\",\"2015-01-01T00:00:00\",\"2015-07-01T00:00:00\",\"2016-01-01T00:00:00\",\"2016-07-01T00:00:00\",\"2017-01-01T00:00:00\",\"2017-07-01T00:00:00\",\"2018-01-01T00:00:00\",\"2018-07-01T00:00:00\",\"2019-01-01T00:00:00\",\"2019-07-09T00:00:00\",\"2020-01-14T00:00:00\",\"2020-07-01T00:00:00\",\"2021-01-01T00:00:00\",\"2021-07-01T00:00:00\",\"2022-01-01T00:00:00\",\"2022-07-01T00:00:00\"],\"xaxis\":\"x\",\"y\":[3.4,3.53,3.64,3.64,3.64,3.67,3.67,3.67,3.59,3.59,3.79,3.79,3.9,3.9,4.12,4.12,4.14,4.14,4.45,4.46,4.45,4.46,4.58],\"yaxis\":\"y\",\"type\":\"scatter\"},{\"hovertemplate\":\"name=Greece<br>date=%{x}<br>dollar_price=%{y}<extra></extra>\",\"legendgroup\":\"Greece\",\"line\":{\"color\":\"#B6E880\",\"dash\":\"solid\"},\"marker\":{\"symbol\":\"circle\"},\"mode\":\"lines\",\"name\":\"Greece\",\"orientation\":\"v\",\"showlegend\":true,\"x\":[\"2011-07-01T00:00:00\",\"2012-01-01T00:00:00\",\"2012-07-01T00:00:00\",\"2013-01-01T00:00:00\",\"2013-07-01T00:00:00\",\"2014-01-01T00:00:00\",\"2014-07-01T00:00:00\",\"2015-01-01T00:00:00\",\"2015-07-01T00:00:00\",\"2016-01-01T00:00:00\",\"2016-07-01T00:00:00\",\"2017-01-01T00:00:00\",\"2017-07-01T00:00:00\",\"2018-01-01T00:00:00\",\"2018-07-01T00:00:00\",\"2019-01-01T00:00:00\",\"2019-07-09T00:00:00\",\"2020-01-14T00:00:00\",\"2020-07-01T00:00:00\",\"2021-01-01T00:00:00\",\"2021-07-01T00:00:00\",\"2022-01-01T00:00:00\",\"2022-07-01T00:00:00\"],\"xaxis\":\"x\",\"y\":[3.26,3.3,2.68,3.3,2.6,3.05,3.05,3.05,3.05,3.35,3.35,3.35,3.35,3.35,3.35,3.35,3.3,3.3,3.3,3.3,3.3,3.4,4.0],\"yaxis\":\"y\",\"type\":\"scatter\"},{\"hovertemplate\":\"name=Ireland<br>date=%{x}<br>dollar_price=%{y}<extra></extra>\",\"legendgroup\":\"Ireland\",\"line\":{\"color\":\"#FF97FF\",\"dash\":\"solid\"},\"marker\":{\"symbol\":\"circle\"},\"mode\":\"lines\",\"name\":\"Ireland\",\"orientation\":\"v\",\"showlegend\":true,\"x\":[\"2011-07-01T00:00:00\",\"2012-01-01T00:00:00\",\"2012-07-01T00:00:00\",\"2013-01-01T00:00:00\",\"2013-07-01T00:00:00\",\"2014-01-01T00:00:00\",\"2014-07-01T00:00:00\",\"2015-01-01T00:00:00\",\"2015-07-01T00:00:00\",\"2016-01-01T00:00:00\",\"2016-07-01T00:00:00\",\"2017-01-01T00:00:00\",\"2017-07-01T00:00:00\",\"2018-01-01T00:00:00\",\"2018-07-01T00:00:00\",\"2019-01-01T00:00:00\",\"2019-07-09T00:00:00\",\"2020-01-14T00:00:00\",\"2020-07-01T00:00:00\",\"2021-01-01T00:00:00\",\"2021-07-01T00:00:00\",\"2022-01-01T00:00:00\",\"2022-07-01T00:00:00\"],\"xaxis\":\"x\",\"y\":[3.8,3.8,3.49,3.49,3.46,3.46,3.49,3.49,3.7,3.95,4.0,4.0,4.07,4.07,4.07,4.07,4.3,4.2,4.3,4.4,4.5,4.6,5.0],\"yaxis\":\"y\",\"type\":\"scatter\"},{\"hovertemplate\":\"name=Italy<br>date=%{x}<br>dollar_price=%{y}<extra></extra>\",\"legendgroup\":\"Italy\",\"line\":{\"color\":\"#FECB52\",\"dash\":\"solid\"},\"marker\":{\"symbol\":\"circle\"},\"mode\":\"lines\",\"name\":\"Italy\",\"orientation\":\"v\",\"showlegend\":true,\"x\":[\"2011-07-01T00:00:00\",\"2012-01-01T00:00:00\",\"2012-07-01T00:00:00\",\"2013-01-01T00:00:00\",\"2013-07-01T00:00:00\",\"2014-01-01T00:00:00\",\"2014-07-01T00:00:00\",\"2015-01-01T00:00:00\",\"2015-07-01T00:00:00\",\"2016-01-01T00:00:00\",\"2016-07-01T00:00:00\",\"2017-01-01T00:00:00\",\"2017-07-01T00:00:00\",\"2018-01-01T00:00:00\",\"2018-07-01T00:00:00\",\"2019-01-01T00:00:00\",\"2019-07-09T00:00:00\",\"2020-01-14T00:00:00\",\"2020-07-01T00:00:00\",\"2021-01-01T00:00:00\",\"2021-07-01T00:00:00\",\"2022-01-01T00:00:00\",\"2022-07-01T00:00:00\"],\"xaxis\":\"x\",\"y\":[3.5,3.5,3.6,3.85,3.75,3.85,3.85,3.85,4.0,4.0,4.2,4.2,4.2,4.2,4.2,4.2,4.3,4.3,4.3,4.3,4.3,4.8,5.1],\"yaxis\":\"y\",\"type\":\"scatter\"},{\"hovertemplate\":\"name=Netherlands<br>date=%{x}<br>dollar_price=%{y}<extra></extra>\",\"legendgroup\":\"Netherlands\",\"line\":{\"color\":\"#636efa\",\"dash\":\"solid\"},\"marker\":{\"symbol\":\"circle\"},\"mode\":\"lines\",\"name\":\"Netherlands\",\"orientation\":\"v\",\"showlegend\":true,\"x\":[\"2011-07-01T00:00:00\",\"2012-01-01T00:00:00\",\"2012-07-01T00:00:00\",\"2013-01-01T00:00:00\",\"2013-07-01T00:00:00\",\"2014-01-01T00:00:00\",\"2014-07-01T00:00:00\",\"2015-01-01T00:00:00\",\"2015-07-01T00:00:00\",\"2016-01-01T00:00:00\",\"2016-07-01T00:00:00\",\"2017-01-01T00:00:00\",\"2017-07-01T00:00:00\",\"2018-01-01T00:00:00\",\"2018-07-01T00:00:00\",\"2019-01-01T00:00:00\",\"2019-07-09T00:00:00\",\"2020-01-14T00:00:00\",\"2020-07-01T00:00:00\",\"2021-01-01T00:00:00\",\"2021-07-01T00:00:00\",\"2022-01-01T00:00:00\",\"2022-07-01T00:00:00\"],\"xaxis\":\"x\",\"y\":[3.25,3.25,3.38,3.45,3.45,3.45,3.45,3.45,3.45,3.45,3.45,3.61,3.61,3.71,3.79,4.0,4.06,4.09,4.09,4.13,4.22,4.4,4.5],\"yaxis\":\"y\",\"type\":\"scatter\"},{\"hovertemplate\":\"name=Portugal<br>date=%{x}<br>dollar_price=%{y}<extra></extra>\",\"legendgroup\":\"Portugal\",\"line\":{\"color\":\"#EF553B\",\"dash\":\"solid\"},\"marker\":{\"symbol\":\"circle\"},\"mode\":\"lines\",\"name\":\"Portugal\",\"orientation\":\"v\",\"showlegend\":true,\"x\":[\"2011-07-01T00:00:00\",\"2012-01-01T00:00:00\",\"2012-07-01T00:00:00\",\"2013-01-01T00:00:00\",\"2013-07-01T00:00:00\",\"2014-01-01T00:00:00\",\"2014-07-01T00:00:00\",\"2015-01-01T00:00:00\",\"2015-07-01T00:00:00\",\"2016-01-01T00:00:00\",\"2016-07-01T00:00:00\",\"2017-01-01T00:00:00\",\"2017-07-01T00:00:00\",\"2018-01-01T00:00:00\",\"2018-07-01T00:00:00\",\"2019-01-01T00:00:00\",\"2019-07-09T00:00:00\",\"2020-01-14T00:00:00\",\"2020-07-01T00:00:00\",\"2021-01-01T00:00:00\",\"2021-07-01T00:00:00\",\"2022-01-01T00:00:00\",\"2022-07-01T00:00:00\"],\"xaxis\":\"x\",\"y\":[2.9,2.9,4.95,2.95,2.95,3.0,3.0,3.0,3.0,3.0,3.05,3.05,3.25,3.2,3.25,3.25,3.25,3.25,3.45,3.45,3.45,3.45,4.0],\"yaxis\":\"y\",\"type\":\"scatter\"},{\"hovertemplate\":\"name=Spain<br>date=%{x}<br>dollar_price=%{y}<extra></extra>\",\"legendgroup\":\"Spain\",\"line\":{\"color\":\"#00cc96\",\"dash\":\"solid\"},\"marker\":{\"symbol\":\"circle\"},\"mode\":\"lines\",\"name\":\"Spain\",\"orientation\":\"v\",\"showlegend\":true,\"x\":[\"2011-07-01T00:00:00\",\"2012-01-01T00:00:00\",\"2012-07-01T00:00:00\",\"2013-01-01T00:00:00\",\"2013-07-01T00:00:00\",\"2014-01-01T00:00:00\",\"2014-07-01T00:00:00\",\"2015-01-01T00:00:00\",\"2015-07-01T00:00:00\",\"2016-01-01T00:00:00\",\"2016-07-01T00:00:00\",\"2017-01-01T00:00:00\",\"2017-07-01T00:00:00\",\"2018-01-01T00:00:00\",\"2018-07-01T00:00:00\",\"2019-01-01T00:00:00\",\"2019-07-09T00:00:00\",\"2020-01-14T00:00:00\",\"2020-07-01T00:00:00\",\"2021-01-01T00:00:00\",\"2021-07-01T00:00:00\",\"2022-01-01T00:00:00\",\"2022-07-01T00:00:00\"],\"xaxis\":\"x\",\"y\":[3.5,3.5,3.5,3.5,3.5,3.65,3.65,3.65,3.65,3.5,3.5,3.95,3.8,3.95,4.1,3.95,3.95,4.2,4.1,4.33,4.4,4.58,4.58],\"yaxis\":\"y\",\"type\":\"scatter\"},{\"hovertemplate\":\"name=Lithuania<br>date=%{x}<br>dollar_price=%{y}<extra></extra>\",\"legendgroup\":\"Lithuania\",\"line\":{\"color\":\"#ab63fa\",\"dash\":\"solid\"},\"marker\":{\"symbol\":\"circle\"},\"mode\":\"lines\",\"name\":\"Lithuania\",\"orientation\":\"v\",\"showlegend\":true,\"x\":[\"2014-01-01T00:00:00\",\"2014-07-01T00:00:00\",\"2018-07-01T00:00:00\",\"2019-01-01T00:00:00\",\"2019-07-09T00:00:00\",\"2020-01-14T00:00:00\",\"2020-07-01T00:00:00\",\"2021-01-01T00:00:00\",\"2021-07-01T00:00:00\",\"2022-01-01T00:00:00\",\"2022-07-01T00:00:00\"],\"xaxis\":\"x\",\"y\":[4.4,4.47,2.8,2.85,2.85,2.85,2.85,2.9,2.9,2.9,3.05],\"yaxis\":\"y\",\"type\":\"scatter\"},{\"hovertemplate\":\"name=Latvia<br>date=%{x}<br>dollar_price=%{y}<extra></extra>\",\"legendgroup\":\"Latvia\",\"line\":{\"color\":\"#FFA15A\",\"dash\":\"solid\"},\"marker\":{\"symbol\":\"circle\"},\"mode\":\"lines\",\"name\":\"Latvia\",\"orientation\":\"v\",\"showlegend\":true,\"x\":[\"2018-07-01T00:00:00\",\"2019-01-01T00:00:00\",\"2019-07-09T00:00:00\",\"2020-01-14T00:00:00\",\"2020-07-01T00:00:00\",\"2021-01-01T00:00:00\",\"2021-07-01T00:00:00\",\"2022-01-01T00:00:00\",\"2022-07-01T00:00:00\"],\"xaxis\":\"x\",\"y\":[2.7,2.8,2.85,2.85,2.85,2.85,2.85,2.85,3.0],\"yaxis\":\"y\",\"type\":\"scatter\"},{\"hovertemplate\":\"name=Slovakia<br>date=%{x}<br>dollar_price=%{y}<extra></extra>\",\"legendgroup\":\"Slovakia\",\"line\":{\"color\":\"#19d3f3\",\"dash\":\"solid\"},\"marker\":{\"symbol\":\"circle\"},\"mode\":\"lines\",\"name\":\"Slovakia\",\"orientation\":\"v\",\"showlegend\":true,\"x\":[\"2018-07-01T00:00:00\",\"2019-01-01T00:00:00\",\"2019-07-09T00:00:00\",\"2020-01-14T00:00:00\",\"2020-07-01T00:00:00\",\"2021-01-01T00:00:00\",\"2021-07-01T00:00:00\",\"2022-01-01T00:00:00\",\"2022-07-01T00:00:00\"],\"xaxis\":\"x\",\"y\":[3.0,3.2,3.2,3.4,3.6,3.7,3.7,3.8,3.9],\"yaxis\":\"y\",\"type\":\"scatter\"},{\"hovertemplate\":\"name=Slovenia<br>date=%{x}<br>dollar_price=%{y}<extra></extra>\",\"legendgroup\":\"Slovenia\",\"line\":{\"color\":\"#FF6692\",\"dash\":\"solid\"},\"marker\":{\"symbol\":\"circle\"},\"mode\":\"lines\",\"name\":\"Slovenia\",\"orientation\":\"v\",\"showlegend\":true,\"x\":[\"2018-07-01T00:00:00\",\"2019-01-01T00:00:00\",\"2019-07-09T00:00:00\",\"2020-01-14T00:00:00\",\"2020-07-01T00:00:00\",\"2021-01-01T00:00:00\",\"2021-07-01T00:00:00\",\"2022-01-01T00:00:00\",\"2022-07-01T00:00:00\"],\"xaxis\":\"x\",\"y\":[2.3,2.3,2.4,2.4,2.5,2.5,2.6,2.8,3.2],\"yaxis\":\"y\",\"type\":\"scatter\"}],                        {\"template\":{\"data\":{\"bar\":[{\"error_x\":{\"color\":\"#2a3f5f\"},\"error_y\":{\"color\":\"#2a3f5f\"},\"marker\":{\"line\":{\"color\":\"#E5ECF6\",\"width\":0.5},\"pattern\":{\"fillmode\":\"overlay\",\"size\":10,\"solidity\":0.2}},\"type\":\"bar\"}],\"barpolar\":[{\"marker\":{\"line\":{\"color\":\"#E5ECF6\",\"width\":0.5},\"pattern\":{\"fillmode\":\"overlay\",\"size\":10,\"solidity\":0.2}},\"type\":\"barpolar\"}],\"carpet\":[{\"aaxis\":{\"endlinecolor\":\"#2a3f5f\",\"gridcolor\":\"white\",\"linecolor\":\"white\",\"minorgridcolor\":\"white\",\"startlinecolor\":\"#2a3f5f\"},\"baxis\":{\"endlinecolor\":\"#2a3f5f\",\"gridcolor\":\"white\",\"linecolor\":\"white\",\"minorgridcolor\":\"white\",\"startlinecolor\":\"#2a3f5f\"},\"type\":\"carpet\"}],\"choropleth\":[{\"colorbar\":{\"outlinewidth\":0,\"ticks\":\"\"},\"type\":\"choropleth\"}],\"contour\":[{\"colorbar\":{\"outlinewidth\":0,\"ticks\":\"\"},\"colorscale\":[[0.0,\"#0d0887\"],[0.1111111111111111,\"#46039f\"],[0.2222222222222222,\"#7201a8\"],[0.3333333333333333,\"#9c179e\"],[0.4444444444444444,\"#bd3786\"],[0.5555555555555556,\"#d8576b\"],[0.6666666666666666,\"#ed7953\"],[0.7777777777777778,\"#fb9f3a\"],[0.8888888888888888,\"#fdca26\"],[1.0,\"#f0f921\"]],\"type\":\"contour\"}],\"contourcarpet\":[{\"colorbar\":{\"outlinewidth\":0,\"ticks\":\"\"},\"type\":\"contourcarpet\"}],\"heatmap\":[{\"colorbar\":{\"outlinewidth\":0,\"ticks\":\"\"},\"colorscale\":[[0.0,\"#0d0887\"],[0.1111111111111111,\"#46039f\"],[0.2222222222222222,\"#7201a8\"],[0.3333333333333333,\"#9c179e\"],[0.4444444444444444,\"#bd3786\"],[0.5555555555555556,\"#d8576b\"],[0.6666666666666666,\"#ed7953\"],[0.7777777777777778,\"#fb9f3a\"],[0.8888888888888888,\"#fdca26\"],[1.0,\"#f0f921\"]],\"type\":\"heatmap\"}],\"heatmapgl\":[{\"colorbar\":{\"outlinewidth\":0,\"ticks\":\"\"},\"colorscale\":[[0.0,\"#0d0887\"],[0.1111111111111111,\"#46039f\"],[0.2222222222222222,\"#7201a8\"],[0.3333333333333333,\"#9c179e\"],[0.4444444444444444,\"#bd3786\"],[0.5555555555555556,\"#d8576b\"],[0.6666666666666666,\"#ed7953\"],[0.7777777777777778,\"#fb9f3a\"],[0.8888888888888888,\"#fdca26\"],[1.0,\"#f0f921\"]],\"type\":\"heatmapgl\"}],\"histogram\":[{\"marker\":{\"pattern\":{\"fillmode\":\"overlay\",\"size\":10,\"solidity\":0.2}},\"type\":\"histogram\"}],\"histogram2d\":[{\"colorbar\":{\"outlinewidth\":0,\"ticks\":\"\"},\"colorscale\":[[0.0,\"#0d0887\"],[0.1111111111111111,\"#46039f\"],[0.2222222222222222,\"#7201a8\"],[0.3333333333333333,\"#9c179e\"],[0.4444444444444444,\"#bd3786\"],[0.5555555555555556,\"#d8576b\"],[0.6666666666666666,\"#ed7953\"],[0.7777777777777778,\"#fb9f3a\"],[0.8888888888888888,\"#fdca26\"],[1.0,\"#f0f921\"]],\"type\":\"histogram2d\"}],\"histogram2dcontour\":[{\"colorbar\":{\"outlinewidth\":0,\"ticks\":\"\"},\"colorscale\":[[0.0,\"#0d0887\"],[0.1111111111111111,\"#46039f\"],[0.2222222222222222,\"#7201a8\"],[0.3333333333333333,\"#9c179e\"],[0.4444444444444444,\"#bd3786\"],[0.5555555555555556,\"#d8576b\"],[0.6666666666666666,\"#ed7953\"],[0.7777777777777778,\"#fb9f3a\"],[0.8888888888888888,\"#fdca26\"],[1.0,\"#f0f921\"]],\"type\":\"histogram2dcontour\"}],\"mesh3d\":[{\"colorbar\":{\"outlinewidth\":0,\"ticks\":\"\"},\"type\":\"mesh3d\"}],\"parcoords\":[{\"line\":{\"colorbar\":{\"outlinewidth\":0,\"ticks\":\"\"}},\"type\":\"parcoords\"}],\"pie\":[{\"automargin\":true,\"type\":\"pie\"}],\"scatter\":[{\"marker\":{\"colorbar\":{\"outlinewidth\":0,\"ticks\":\"\"}},\"type\":\"scatter\"}],\"scatter3d\":[{\"line\":{\"colorbar\":{\"outlinewidth\":0,\"ticks\":\"\"}},\"marker\":{\"colorbar\":{\"outlinewidth\":0,\"ticks\":\"\"}},\"type\":\"scatter3d\"}],\"scattercarpet\":[{\"marker\":{\"colorbar\":{\"outlinewidth\":0,\"ticks\":\"\"}},\"type\":\"scattercarpet\"}],\"scattergeo\":[{\"marker\":{\"colorbar\":{\"outlinewidth\":0,\"ticks\":\"\"}},\"type\":\"scattergeo\"}],\"scattergl\":[{\"marker\":{\"colorbar\":{\"outlinewidth\":0,\"ticks\":\"\"}},\"type\":\"scattergl\"}],\"scattermapbox\":[{\"marker\":{\"colorbar\":{\"outlinewidth\":0,\"ticks\":\"\"}},\"type\":\"scattermapbox\"}],\"scatterpolar\":[{\"marker\":{\"colorbar\":{\"outlinewidth\":0,\"ticks\":\"\"}},\"type\":\"scatterpolar\"}],\"scatterpolargl\":[{\"marker\":{\"colorbar\":{\"outlinewidth\":0,\"ticks\":\"\"}},\"type\":\"scatterpolargl\"}],\"scatterternary\":[{\"marker\":{\"colorbar\":{\"outlinewidth\":0,\"ticks\":\"\"}},\"type\":\"scatterternary\"}],\"surface\":[{\"colorbar\":{\"outlinewidth\":0,\"ticks\":\"\"},\"colorscale\":[[0.0,\"#0d0887\"],[0.1111111111111111,\"#46039f\"],[0.2222222222222222,\"#7201a8\"],[0.3333333333333333,\"#9c179e\"],[0.4444444444444444,\"#bd3786\"],[0.5555555555555556,\"#d8576b\"],[0.6666666666666666,\"#ed7953\"],[0.7777777777777778,\"#fb9f3a\"],[0.8888888888888888,\"#fdca26\"],[1.0,\"#f0f921\"]],\"type\":\"surface\"}],\"table\":[{\"cells\":{\"fill\":{\"color\":\"#EBF0F8\"},\"line\":{\"color\":\"white\"}},\"header\":{\"fill\":{\"color\":\"#C8D4E3\"},\"line\":{\"color\":\"white\"}},\"type\":\"table\"}]},\"layout\":{\"annotationdefaults\":{\"arrowcolor\":\"#2a3f5f\",\"arrowhead\":0,\"arrowwidth\":1},\"autotypenumbers\":\"strict\",\"coloraxis\":{\"colorbar\":{\"outlinewidth\":0,\"ticks\":\"\"}},\"colorscale\":{\"diverging\":[[0,\"#8e0152\"],[0.1,\"#c51b7d\"],[0.2,\"#de77ae\"],[0.3,\"#f1b6da\"],[0.4,\"#fde0ef\"],[0.5,\"#f7f7f7\"],[0.6,\"#e6f5d0\"],[0.7,\"#b8e186\"],[0.8,\"#7fbc41\"],[0.9,\"#4d9221\"],[1,\"#276419\"]],\"sequential\":[[0.0,\"#0d0887\"],[0.1111111111111111,\"#46039f\"],[0.2222222222222222,\"#7201a8\"],[0.3333333333333333,\"#9c179e\"],[0.4444444444444444,\"#bd3786\"],[0.5555555555555556,\"#d8576b\"],[0.6666666666666666,\"#ed7953\"],[0.7777777777777778,\"#fb9f3a\"],[0.8888888888888888,\"#fdca26\"],[1.0,\"#f0f921\"]],\"sequentialminus\":[[0.0,\"#0d0887\"],[0.1111111111111111,\"#46039f\"],[0.2222222222222222,\"#7201a8\"],[0.3333333333333333,\"#9c179e\"],[0.4444444444444444,\"#bd3786\"],[0.5555555555555556,\"#d8576b\"],[0.6666666666666666,\"#ed7953\"],[0.7777777777777778,\"#fb9f3a\"],[0.8888888888888888,\"#fdca26\"],[1.0,\"#f0f921\"]]},\"colorway\":[\"#636efa\",\"#EF553B\",\"#00cc96\",\"#ab63fa\",\"#FFA15A\",\"#19d3f3\",\"#FF6692\",\"#B6E880\",\"#FF97FF\",\"#FECB52\"],\"font\":{\"color\":\"#2a3f5f\"},\"geo\":{\"bgcolor\":\"white\",\"lakecolor\":\"white\",\"landcolor\":\"#E5ECF6\",\"showlakes\":true,\"showland\":true,\"subunitcolor\":\"white\"},\"hoverlabel\":{\"align\":\"left\"},\"hovermode\":\"closest\",\"mapbox\":{\"style\":\"light\"},\"paper_bgcolor\":\"white\",\"plot_bgcolor\":\"#E5ECF6\",\"polar\":{\"angularaxis\":{\"gridcolor\":\"white\",\"linecolor\":\"white\",\"ticks\":\"\"},\"bgcolor\":\"#E5ECF6\",\"radialaxis\":{\"gridcolor\":\"white\",\"linecolor\":\"white\",\"ticks\":\"\"}},\"scene\":{\"xaxis\":{\"backgroundcolor\":\"#E5ECF6\",\"gridcolor\":\"white\",\"gridwidth\":2,\"linecolor\":\"white\",\"showbackground\":true,\"ticks\":\"\",\"zerolinecolor\":\"white\"},\"yaxis\":{\"backgroundcolor\":\"#E5ECF6\",\"gridcolor\":\"white\",\"gridwidth\":2,\"linecolor\":\"white\",\"showbackground\":true,\"ticks\":\"\",\"zerolinecolor\":\"white\"},\"zaxis\":{\"backgroundcolor\":\"#E5ECF6\",\"gridcolor\":\"white\",\"gridwidth\":2,\"linecolor\":\"white\",\"showbackground\":true,\"ticks\":\"\",\"zerolinecolor\":\"white\"}},\"shapedefaults\":{\"line\":{\"color\":\"#2a3f5f\"}},\"ternary\":{\"aaxis\":{\"gridcolor\":\"white\",\"linecolor\":\"white\",\"ticks\":\"\"},\"baxis\":{\"gridcolor\":\"white\",\"linecolor\":\"white\",\"ticks\":\"\"},\"bgcolor\":\"#E5ECF6\",\"caxis\":{\"gridcolor\":\"white\",\"linecolor\":\"white\",\"ticks\":\"\"}},\"title\":{\"x\":0.05},\"xaxis\":{\"automargin\":true,\"gridcolor\":\"white\",\"linecolor\":\"white\",\"ticks\":\"\",\"title\":{\"standoff\":15},\"zerolinecolor\":\"white\",\"zerolinewidth\":2},\"yaxis\":{\"automargin\":true,\"gridcolor\":\"white\",\"linecolor\":\"white\",\"ticks\":\"\",\"title\":{\"standoff\":15},\"zerolinecolor\":\"white\",\"zerolinewidth\":2}}},\"xaxis\":{\"anchor\":\"y\",\"domain\":[0.0,1.0],\"title\":{\"text\":\"Date\"}},\"yaxis\":{\"anchor\":\"x\",\"domain\":[0.0,1.0],\"title\":{\"text\":\"Price (USD)\"}},\"legend\":{\"title\":{\"text\":\"name\"},\"tracegroupgap\":0},\"margin\":{\"t\":60},\"title\":{\"text\":\"Eurozone Big Mac Prices 2000 to 2022\"}},                        {\"responsive\": true}                    ).then(function(){\n",
       "                            \n",
       "var gd = document.getElementById('de089292-6323-4621-b73b-1693d2e8e24a');\n",
       "var x = new MutationObserver(function (mutations, observer) {{\n",
       "        var display = window.getComputedStyle(gd).display;\n",
       "        if (!display || display === 'none') {{\n",
       "            console.log([gd, 'removed!']);\n",
       "            Plotly.purge(gd);\n",
       "            observer.disconnect();\n",
       "        }}\n",
       "}});\n",
       "\n",
       "// Listen for the removal of the full notebook cells\n",
       "var notebookContainer = gd.closest('#notebook-container');\n",
       "if (notebookContainer) {{\n",
       "    x.observe(notebookContainer, {childList: true});\n",
       "}}\n",
       "\n",
       "// Listen for the clearing of the current output cell\n",
       "var outputEl = gd.closest('.output');\n",
       "if (outputEl) {{\n",
       "    x.observe(outputEl, {childList: true});\n",
       "}}\n",
       "\n",
       "                        })                };                });            </script>        </div>"
      ]
     },
     "metadata": {},
     "output_type": "display_data"
    }
   ],
   "source": [
    "fig = px.line(df_eurozone, x=\"date\", y=\"dollar_price\", color='name')\n",
    "fig.update_layout(title='Eurozone Big Mac Prices 2000 to 2022',\n",
    "                    xaxis_title='Date', yaxis_title='Price (USD)')\n",
    "fig.show()"
   ]
  },
  {
   "cell_type": "markdown",
   "id": "e9fad37e",
   "metadata": {},
   "source": [
    "#### USA Dataframe"
   ]
  },
  {
   "cell_type": "code",
   "execution_count": 87,
   "id": "f961765b",
   "metadata": {},
   "outputs": [],
   "source": [
    "us_df = df[df['name']=='United States']"
   ]
  },
  {
   "cell_type": "code",
   "execution_count": 88,
   "id": "2cfc7306",
   "metadata": {},
   "outputs": [
    {
     "data": {
      "text/html": [
       "<div>\n",
       "<style scoped>\n",
       "    .dataframe tbody tr th:only-of-type {\n",
       "        vertical-align: middle;\n",
       "    }\n",
       "\n",
       "    .dataframe tbody tr th {\n",
       "        vertical-align: top;\n",
       "    }\n",
       "\n",
       "    .dataframe thead th {\n",
       "        text-align: right;\n",
       "    }\n",
       "</style>\n",
       "<table border=\"1\" class=\"dataframe\">\n",
       "  <thead>\n",
       "    <tr style=\"text-align: right;\">\n",
       "      <th></th>\n",
       "      <th>date</th>\n",
       "      <th>currency_code</th>\n",
       "      <th>name</th>\n",
       "      <th>local_price</th>\n",
       "      <th>dollar_ex</th>\n",
       "      <th>dollar_price</th>\n",
       "    </tr>\n",
       "  </thead>\n",
       "  <tbody>\n",
       "    <tr>\n",
       "      <th>27</th>\n",
       "      <td>2000-04-01</td>\n",
       "      <td>USD</td>\n",
       "      <td>United States</td>\n",
       "      <td>2.24</td>\n",
       "      <td>1</td>\n",
       "      <td>2.24</td>\n",
       "    </tr>\n",
       "    <tr>\n",
       "      <th>55</th>\n",
       "      <td>2001-04-01</td>\n",
       "      <td>USD</td>\n",
       "      <td>United States</td>\n",
       "      <td>2.24</td>\n",
       "      <td>1</td>\n",
       "      <td>2.24</td>\n",
       "    </tr>\n",
       "    <tr>\n",
       "      <th>87</th>\n",
       "      <td>2002-04-01</td>\n",
       "      <td>USD</td>\n",
       "      <td>United States</td>\n",
       "      <td>2.35</td>\n",
       "      <td>1</td>\n",
       "      <td>2.35</td>\n",
       "    </tr>\n",
       "    <tr>\n",
       "      <th>119</th>\n",
       "      <td>2003-04-01</td>\n",
       "      <td>USD</td>\n",
       "      <td>United States</td>\n",
       "      <td>2.46</td>\n",
       "      <td>1</td>\n",
       "      <td>2.46</td>\n",
       "    </tr>\n",
       "    <tr>\n",
       "      <th>158</th>\n",
       "      <td>2004-05-01</td>\n",
       "      <td>USD</td>\n",
       "      <td>United States</td>\n",
       "      <td>2.47</td>\n",
       "      <td>1</td>\n",
       "      <td>2.47</td>\n",
       "    </tr>\n",
       "    <tr>\n",
       "      <th>199</th>\n",
       "      <td>2005-06-01</td>\n",
       "      <td>USD</td>\n",
       "      <td>United States</td>\n",
       "      <td>2.58</td>\n",
       "      <td>1</td>\n",
       "      <td>2.58</td>\n",
       "    </tr>\n",
       "    <tr>\n",
       "      <th>232</th>\n",
       "      <td>2006-01-01</td>\n",
       "      <td>USD</td>\n",
       "      <td>United States</td>\n",
       "      <td>2.67</td>\n",
       "      <td>1</td>\n",
       "      <td>2.67</td>\n",
       "    </tr>\n",
       "    <tr>\n",
       "      <th>272</th>\n",
       "      <td>2006-05-01</td>\n",
       "      <td>USD</td>\n",
       "      <td>United States</td>\n",
       "      <td>2.78</td>\n",
       "      <td>1</td>\n",
       "      <td>2.78</td>\n",
       "    </tr>\n",
       "    <tr>\n",
       "      <th>313</th>\n",
       "      <td>2007-01-01</td>\n",
       "      <td>USD</td>\n",
       "      <td>United States</td>\n",
       "      <td>2.89</td>\n",
       "      <td>1</td>\n",
       "      <td>2.89</td>\n",
       "    </tr>\n",
       "    <tr>\n",
       "      <th>354</th>\n",
       "      <td>2007-06-01</td>\n",
       "      <td>USD</td>\n",
       "      <td>United States</td>\n",
       "      <td>3.00</td>\n",
       "      <td>1</td>\n",
       "      <td>3.00</td>\n",
       "    </tr>\n",
       "    <tr>\n",
       "      <th>395</th>\n",
       "      <td>2008-06-01</td>\n",
       "      <td>USD</td>\n",
       "      <td>United States</td>\n",
       "      <td>3.21</td>\n",
       "      <td>1</td>\n",
       "      <td>3.21</td>\n",
       "    </tr>\n",
       "    <tr>\n",
       "      <th>436</th>\n",
       "      <td>2009-07-01</td>\n",
       "      <td>USD</td>\n",
       "      <td>United States</td>\n",
       "      <td>3.43</td>\n",
       "      <td>1</td>\n",
       "      <td>3.43</td>\n",
       "    </tr>\n",
       "    <tr>\n",
       "      <th>477</th>\n",
       "      <td>2010-01-01</td>\n",
       "      <td>USD</td>\n",
       "      <td>United States</td>\n",
       "      <td>3.43</td>\n",
       "      <td>1</td>\n",
       "      <td>3.43</td>\n",
       "    </tr>\n",
       "    <tr>\n",
       "      <th>518</th>\n",
       "      <td>2010-07-01</td>\n",
       "      <td>USD</td>\n",
       "      <td>United States</td>\n",
       "      <td>3.53</td>\n",
       "      <td>1</td>\n",
       "      <td>3.53</td>\n",
       "    </tr>\n",
       "    <tr>\n",
       "      <th>572</th>\n",
       "      <td>2011-07-01</td>\n",
       "      <td>USD</td>\n",
       "      <td>United States</td>\n",
       "      <td>3.64</td>\n",
       "      <td>1</td>\n",
       "      <td>3.64</td>\n",
       "    </tr>\n",
       "    <tr>\n",
       "      <th>627</th>\n",
       "      <td>2012-01-01</td>\n",
       "      <td>USD</td>\n",
       "      <td>United States</td>\n",
       "      <td>3.81</td>\n",
       "      <td>1</td>\n",
       "      <td>3.81</td>\n",
       "    </tr>\n",
       "    <tr>\n",
       "      <th>680</th>\n",
       "      <td>2012-07-01</td>\n",
       "      <td>USD</td>\n",
       "      <td>United States</td>\n",
       "      <td>3.96</td>\n",
       "      <td>1</td>\n",
       "      <td>3.96</td>\n",
       "    </tr>\n",
       "    <tr>\n",
       "      <th>735</th>\n",
       "      <td>2013-01-01</td>\n",
       "      <td>USD</td>\n",
       "      <td>United States</td>\n",
       "      <td>4.03</td>\n",
       "      <td>1</td>\n",
       "      <td>4.03</td>\n",
       "    </tr>\n",
       "    <tr>\n",
       "      <th>790</th>\n",
       "      <td>2013-07-01</td>\n",
       "      <td>USD</td>\n",
       "      <td>United States</td>\n",
       "      <td>4.18</td>\n",
       "      <td>1</td>\n",
       "      <td>4.18</td>\n",
       "    </tr>\n",
       "    <tr>\n",
       "      <th>846</th>\n",
       "      <td>2014-01-01</td>\n",
       "      <td>USD</td>\n",
       "      <td>United States</td>\n",
       "      <td>4.24</td>\n",
       "      <td>1</td>\n",
       "      <td>4.24</td>\n",
       "    </tr>\n",
       "    <tr>\n",
       "      <th>902</th>\n",
       "      <td>2014-07-01</td>\n",
       "      <td>USD</td>\n",
       "      <td>United States</td>\n",
       "      <td>4.29</td>\n",
       "      <td>1</td>\n",
       "      <td>4.29</td>\n",
       "    </tr>\n",
       "    <tr>\n",
       "      <th>958</th>\n",
       "      <td>2015-01-01</td>\n",
       "      <td>USD</td>\n",
       "      <td>United States</td>\n",
       "      <td>4.29</td>\n",
       "      <td>1</td>\n",
       "      <td>4.29</td>\n",
       "    </tr>\n",
       "    <tr>\n",
       "      <th>1014</th>\n",
       "      <td>2015-07-01</td>\n",
       "      <td>USD</td>\n",
       "      <td>United States</td>\n",
       "      <td>4.29</td>\n",
       "      <td>1</td>\n",
       "      <td>4.29</td>\n",
       "    </tr>\n",
       "    <tr>\n",
       "      <th>1070</th>\n",
       "      <td>2016-01-01</td>\n",
       "      <td>USD</td>\n",
       "      <td>United States</td>\n",
       "      <td>4.29</td>\n",
       "      <td>1</td>\n",
       "      <td>4.29</td>\n",
       "    </tr>\n",
       "    <tr>\n",
       "      <th>1126</th>\n",
       "      <td>2016-07-01</td>\n",
       "      <td>USD</td>\n",
       "      <td>United States</td>\n",
       "      <td>4.50</td>\n",
       "      <td>1</td>\n",
       "      <td>4.50</td>\n",
       "    </tr>\n",
       "    <tr>\n",
       "      <th>1182</th>\n",
       "      <td>2017-01-01</td>\n",
       "      <td>USD</td>\n",
       "      <td>United States</td>\n",
       "      <td>4.50</td>\n",
       "      <td>1</td>\n",
       "      <td>4.50</td>\n",
       "    </tr>\n",
       "    <tr>\n",
       "      <th>1238</th>\n",
       "      <td>2017-07-01</td>\n",
       "      <td>USD</td>\n",
       "      <td>United States</td>\n",
       "      <td>4.50</td>\n",
       "      <td>1</td>\n",
       "      <td>4.50</td>\n",
       "    </tr>\n",
       "    <tr>\n",
       "      <th>1294</th>\n",
       "      <td>2018-01-01</td>\n",
       "      <td>USD</td>\n",
       "      <td>United States</td>\n",
       "      <td>4.61</td>\n",
       "      <td>1</td>\n",
       "      <td>4.61</td>\n",
       "    </tr>\n",
       "    <tr>\n",
       "      <th>1367</th>\n",
       "      <td>2018-07-01</td>\n",
       "      <td>USD</td>\n",
       "      <td>United States</td>\n",
       "      <td>4.62</td>\n",
       "      <td>1</td>\n",
       "      <td>4.62</td>\n",
       "    </tr>\n",
       "    <tr>\n",
       "      <th>1439</th>\n",
       "      <td>2019-01-01</td>\n",
       "      <td>USD</td>\n",
       "      <td>United States</td>\n",
       "      <td>4.71</td>\n",
       "      <td>1</td>\n",
       "      <td>4.71</td>\n",
       "    </tr>\n",
       "    <tr>\n",
       "      <th>1511</th>\n",
       "      <td>2019-07-09</td>\n",
       "      <td>USD</td>\n",
       "      <td>United States</td>\n",
       "      <td>4.71</td>\n",
       "      <td>1</td>\n",
       "      <td>4.71</td>\n",
       "    </tr>\n",
       "    <tr>\n",
       "      <th>1583</th>\n",
       "      <td>2020-01-14</td>\n",
       "      <td>USD</td>\n",
       "      <td>United States</td>\n",
       "      <td>4.82</td>\n",
       "      <td>1</td>\n",
       "      <td>4.82</td>\n",
       "    </tr>\n",
       "    <tr>\n",
       "      <th>1655</th>\n",
       "      <td>2020-07-01</td>\n",
       "      <td>USD</td>\n",
       "      <td>United States</td>\n",
       "      <td>4.82</td>\n",
       "      <td>1</td>\n",
       "      <td>4.82</td>\n",
       "    </tr>\n",
       "    <tr>\n",
       "      <th>1727</th>\n",
       "      <td>2021-01-01</td>\n",
       "      <td>USD</td>\n",
       "      <td>United States</td>\n",
       "      <td>4.89</td>\n",
       "      <td>1</td>\n",
       "      <td>4.89</td>\n",
       "    </tr>\n",
       "    <tr>\n",
       "      <th>1799</th>\n",
       "      <td>2021-07-01</td>\n",
       "      <td>USD</td>\n",
       "      <td>United States</td>\n",
       "      <td>4.93</td>\n",
       "      <td>1</td>\n",
       "      <td>4.93</td>\n",
       "    </tr>\n",
       "    <tr>\n",
       "      <th>1872</th>\n",
       "      <td>2022-01-01</td>\n",
       "      <td>USD</td>\n",
       "      <td>United States</td>\n",
       "      <td>5.04</td>\n",
       "      <td>1</td>\n",
       "      <td>5.04</td>\n",
       "    </tr>\n",
       "    <tr>\n",
       "      <th>1942</th>\n",
       "      <td>2022-07-01</td>\n",
       "      <td>USD</td>\n",
       "      <td>United States</td>\n",
       "      <td>5.15</td>\n",
       "      <td>1</td>\n",
       "      <td>5.15</td>\n",
       "    </tr>\n",
       "  </tbody>\n",
       "</table>\n",
       "</div>"
      ],
      "text/plain": [
       "           date currency_code           name  local_price  dollar_ex  \\\n",
       "27   2000-04-01           USD  United States         2.24          1   \n",
       "55   2001-04-01           USD  United States         2.24          1   \n",
       "87   2002-04-01           USD  United States         2.35          1   \n",
       "119  2003-04-01           USD  United States         2.46          1   \n",
       "158  2004-05-01           USD  United States         2.47          1   \n",
       "199  2005-06-01           USD  United States         2.58          1   \n",
       "232  2006-01-01           USD  United States         2.67          1   \n",
       "272  2006-05-01           USD  United States         2.78          1   \n",
       "313  2007-01-01           USD  United States         2.89          1   \n",
       "354  2007-06-01           USD  United States         3.00          1   \n",
       "395  2008-06-01           USD  United States         3.21          1   \n",
       "436  2009-07-01           USD  United States         3.43          1   \n",
       "477  2010-01-01           USD  United States         3.43          1   \n",
       "518  2010-07-01           USD  United States         3.53          1   \n",
       "572  2011-07-01           USD  United States         3.64          1   \n",
       "627  2012-01-01           USD  United States         3.81          1   \n",
       "680  2012-07-01           USD  United States         3.96          1   \n",
       "735  2013-01-01           USD  United States         4.03          1   \n",
       "790  2013-07-01           USD  United States         4.18          1   \n",
       "846  2014-01-01           USD  United States         4.24          1   \n",
       "902  2014-07-01           USD  United States         4.29          1   \n",
       "958  2015-01-01           USD  United States         4.29          1   \n",
       "1014 2015-07-01           USD  United States         4.29          1   \n",
       "1070 2016-01-01           USD  United States         4.29          1   \n",
       "1126 2016-07-01           USD  United States         4.50          1   \n",
       "1182 2017-01-01           USD  United States         4.50          1   \n",
       "1238 2017-07-01           USD  United States         4.50          1   \n",
       "1294 2018-01-01           USD  United States         4.61          1   \n",
       "1367 2018-07-01           USD  United States         4.62          1   \n",
       "1439 2019-01-01           USD  United States         4.71          1   \n",
       "1511 2019-07-09           USD  United States         4.71          1   \n",
       "1583 2020-01-14           USD  United States         4.82          1   \n",
       "1655 2020-07-01           USD  United States         4.82          1   \n",
       "1727 2021-01-01           USD  United States         4.89          1   \n",
       "1799 2021-07-01           USD  United States         4.93          1   \n",
       "1872 2022-01-01           USD  United States         5.04          1   \n",
       "1942 2022-07-01           USD  United States         5.15          1   \n",
       "\n",
       "      dollar_price  \n",
       "27            2.24  \n",
       "55            2.24  \n",
       "87            2.35  \n",
       "119           2.46  \n",
       "158           2.47  \n",
       "199           2.58  \n",
       "232           2.67  \n",
       "272           2.78  \n",
       "313           2.89  \n",
       "354           3.00  \n",
       "395           3.21  \n",
       "436           3.43  \n",
       "477           3.43  \n",
       "518           3.53  \n",
       "572           3.64  \n",
       "627           3.81  \n",
       "680           3.96  \n",
       "735           4.03  \n",
       "790           4.18  \n",
       "846           4.24  \n",
       "902           4.29  \n",
       "958           4.29  \n",
       "1014          4.29  \n",
       "1070          4.29  \n",
       "1126          4.50  \n",
       "1182          4.50  \n",
       "1238          4.50  \n",
       "1294          4.61  \n",
       "1367          4.62  \n",
       "1439          4.71  \n",
       "1511          4.71  \n",
       "1583          4.82  \n",
       "1655          4.82  \n",
       "1727          4.89  \n",
       "1799          4.93  \n",
       "1872          5.04  \n",
       "1942          5.15  "
      ]
     },
     "execution_count": 88,
     "metadata": {},
     "output_type": "execute_result"
    }
   ],
   "source": [
    "us_df"
   ]
  },
  {
   "cell_type": "code",
   "execution_count": 89,
   "id": "d9c24459",
   "metadata": {},
   "outputs": [
    {
     "data": {
      "text/html": [
       "<div>\n",
       "<style scoped>\n",
       "    .dataframe tbody tr th:only-of-type {\n",
       "        vertical-align: middle;\n",
       "    }\n",
       "\n",
       "    .dataframe tbody tr th {\n",
       "        vertical-align: top;\n",
       "    }\n",
       "\n",
       "    .dataframe thead th {\n",
       "        text-align: right;\n",
       "    }\n",
       "</style>\n",
       "<table border=\"1\" class=\"dataframe\">\n",
       "  <thead>\n",
       "    <tr style=\"text-align: right;\">\n",
       "      <th></th>\n",
       "      <th>local_price</th>\n",
       "      <th>dollar_ex</th>\n",
       "      <th>dollar_price</th>\n",
       "    </tr>\n",
       "  </thead>\n",
       "  <tbody>\n",
       "    <tr>\n",
       "      <th>count</th>\n",
       "      <td>37.000000</td>\n",
       "      <td>37.0</td>\n",
       "      <td>37.000000</td>\n",
       "    </tr>\n",
       "    <tr>\n",
       "      <th>mean</th>\n",
       "      <td>3.840541</td>\n",
       "      <td>1.0</td>\n",
       "      <td>3.840541</td>\n",
       "    </tr>\n",
       "    <tr>\n",
       "      <th>std</th>\n",
       "      <td>0.915987</td>\n",
       "      <td>0.0</td>\n",
       "      <td>0.915987</td>\n",
       "    </tr>\n",
       "    <tr>\n",
       "      <th>min</th>\n",
       "      <td>2.240000</td>\n",
       "      <td>1.0</td>\n",
       "      <td>2.240000</td>\n",
       "    </tr>\n",
       "    <tr>\n",
       "      <th>25%</th>\n",
       "      <td>3.000000</td>\n",
       "      <td>1.0</td>\n",
       "      <td>3.000000</td>\n",
       "    </tr>\n",
       "    <tr>\n",
       "      <th>50%</th>\n",
       "      <td>4.180000</td>\n",
       "      <td>1.0</td>\n",
       "      <td>4.180000</td>\n",
       "    </tr>\n",
       "    <tr>\n",
       "      <th>75%</th>\n",
       "      <td>4.610000</td>\n",
       "      <td>1.0</td>\n",
       "      <td>4.610000</td>\n",
       "    </tr>\n",
       "    <tr>\n",
       "      <th>max</th>\n",
       "      <td>5.150000</td>\n",
       "      <td>1.0</td>\n",
       "      <td>5.150000</td>\n",
       "    </tr>\n",
       "  </tbody>\n",
       "</table>\n",
       "</div>"
      ],
      "text/plain": [
       "       local_price  dollar_ex  dollar_price\n",
       "count    37.000000       37.0     37.000000\n",
       "mean      3.840541        1.0      3.840541\n",
       "std       0.915987        0.0      0.915987\n",
       "min       2.240000        1.0      2.240000\n",
       "25%       3.000000        1.0      3.000000\n",
       "50%       4.180000        1.0      4.180000\n",
       "75%       4.610000        1.0      4.610000\n",
       "max       5.150000        1.0      5.150000"
      ]
     },
     "execution_count": 89,
     "metadata": {},
     "output_type": "execute_result"
    }
   ],
   "source": [
    "us_df.describe()"
   ]
  },
  {
   "cell_type": "code",
   "execution_count": 90,
   "id": "55772439",
   "metadata": {},
   "outputs": [
    {
     "data": {
      "image/png": "[encoded data removed]",
      "text/plain": [
       "<Figure size 864x432 with 1 Axes>"
      ]
     },
     "metadata": {
      "needs_background": "light"
     },
     "output_type": "display_data"
    }
   ],
   "source": [
    "x=us_df[\"date\"]\n",
    "y=us_df[\"dollar_price\"]\n",
    "plt.figure(figsize=(12, 6))\n",
    "plt.plot(x,y, 'b.-', linewidth=2)\n",
    "plt.xlabel(\"Date (Year)\")\n",
    "plt.ylabel(\"Price (USD)\")\n",
    "plt.title(\"Average Price for Big Mac in USA\")\n",
    "plt.yticks([0,1,2,3,4,5])\n",
    "plt.xticks(us_df['date'],rotation=60)\n",
    "plt.show()"
   ]
  },
  {
   "cell_type": "markdown",
   "id": "39116124",
   "metadata": {},
   "source": [
    "#### Plot by year mean world price vs mean USA price vs mean Eurozone Price"
   ]
  },
  {
   "cell_type": "code",
   "execution_count": 91,
   "id": "261a7f00",
   "metadata": {},
   "outputs": [
    {
     "data": {
      "image/png": "[encoded data removed]",
      "text/plain": [
       "<Figure size 1080x576 with 1 Axes>"
      ]
     },
     "metadata": {
      "needs_background": "light"
     },
     "output_type": "display_data"
    }
   ],
   "source": [
    "x1=us_df[\"date\"]\n",
    "y1=us_df[\"dollar_price\"]\n",
    "plt.figure(figsize=(15, 8))\n",
    "plt.plot(x1,y1, 'b.-', linewidth=2, label='USA' )\n",
    "plt.xlabel(\"Date\")\n",
    "plt.ylabel(\"Price (USD)\")\n",
    "\n",
    "x2=df_world_yearly_mean.index\n",
    "y2=df_world_yearly_mean[\"dollar_price\"]\n",
    "plt.plot(x2,y2, 'g.-', linewidth=2, label='World')\n",
    "\n",
    "x3 = df_eurozone[df_eurozone['name']=='Euro area'].date\n",
    "y3 = df_eurozone[df_eurozone['name']=='Euro area'].dollar_price\n",
    "plt.plot(x3, y3, 'r.-', linewidth=2, label=\"Euro-Zone\")\n",
    "\n",
    "plt.title(\"Average Price for Big Mac in USA vs Eurozone vs World\")\n",
    "plt.legend()\n",
    "plt.yticks([2,3,4,5])\n",
    "plt.xticks(df_world_yearly_mean.index, rotation=60)\n",
    "plt.show()"
   ]
  }
 ],
 "metadata": {
  "kernelspec": {
   "display_name": "Python 3 (ipykernel)",
   "language": "python",
   "name": "python3"
  },
  "language_info": {
   "codemirror_mode": {
    "name": "ipython",
    "version": 3
   },
   "file_extension": ".py",
   "mimetype": "text/x-python",
   "name": "python",
   "nbconvert_exporter": "python",
   "pygments_lexer": "ipython3",
   "version": "3.9.12"
  }
 },
 "nbformat": 4,
 "nbformat_minor": 5
}
